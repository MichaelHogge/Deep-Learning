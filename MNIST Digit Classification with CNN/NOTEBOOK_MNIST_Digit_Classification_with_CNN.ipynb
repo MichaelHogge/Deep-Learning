{
 "cells": [
  {
   "cell_type": "markdown",
   "metadata": {
    "id": "VsCgYsR4VG_f"
   },
   "source": [
    "# **MNIST Handwritten Digit Classification using a CNN**"
   ]
  },
  {
   "cell_type": "markdown",
   "metadata": {
    "id": "z-qT91QwV1MS"
   },
   "source": [
    "## **Introduction**"
   ]
  },
  {
   "cell_type": "markdown",
   "metadata": {
    "id": "VAB8cdsJV6wt"
   },
   "source": [
    "**This notebook will include:**\n",
    "\n",
    "*   A brief introduction to the MNIST Dataset and its importance in Computer Vision\n",
    "*   Building a baseline classification model using a CNN\n",
    "*   Evaluating the CNN model\n",
    "*   Building an improved CNN\n",
    "*   Finalizing the improved model for prediction on the test dataset\n",
    "\n",
    "\n"
   ]
  },
  {
   "cell_type": "markdown",
   "metadata": {
    "id": "EtCRRgiVXZal"
   },
   "source": [
    "## **Introduction to the MNIST Dataset**"
   ]
  },
  {
   "cell_type": "markdown",
   "metadata": {
    "id": "6IZc8sO2Xmw2"
   },
   "source": [
    "The **MNIST** dataset is an acronym that stands for the **Modified National Institute of Standards and Technology** dataset.\n",
    "\n",
    "*   **This dataset consists of 60,000 grayscale images**, which are small 28x28 pixel images. \n",
    "<br> **These are images of handwritten digits from 0 to 9.**\n",
    "*   **The task is to correctly classify the image of a handwritten digit into the right number**, that is - one of the 10 numbers from 0 to 9.\n",
    "*   These numbers are mutually exclusive choices and we have over two choices in number, and hence **this represents a multi-class classification** problem in supervised learning.\n",
    "*   **MNIST has been an important and widely-used dataset in machine learning and computer vision.** It is sometimes called the \"Hello World\" of computer vision, and is one of the first image datasets that all deep learning based computer vision practitioners learn to work with. A great amount of research have been carried out to outperform the existing state-of-the-art and achieve the best possible accuracy in classifying the images in MNIST. \n",
    "<br> It is hence a benchmark of sorts, to test the latest deep learning architectures in the field of computer vision.\n",
    "*   More importantly for us, **MNIST is a dataset where Convolutional Neural Network (CNN) based approaches have shown excellent performance**, and that is what we will try to implement as part of this case study.\n",
    "\n",
    "\n",
    "\n",
    "\n"
   ]
  },
  {
   "cell_type": "markdown",
   "metadata": {
    "id": "Yyn-CPLr18cl"
   },
   "source": [
    "## **Importing the Libraries**"
   ]
  },
  {
   "cell_type": "code",
   "execution_count": 1,
   "metadata": {
    "ExecuteTime": {
     "end_time": "2023-05-16T08:38:37.240972Z",
     "start_time": "2023-05-16T08:38:35.037564Z"
    },
    "id": "3c1qnD0B1_Qg"
   },
   "outputs": [],
   "source": [
    "import numpy as np\n",
    "import matplotlib.pyplot as plt\n",
    "import seaborn as sns\n",
    "import math\n",
    "\n",
    "import tensorflow as tf\n",
    "\n",
    "# Keras Sequential Model\n",
    "from tensorflow.keras.models import Sequential\n",
    "\n",
    "# Importing all the different layers and optimizers\n",
    "from tensorflow.keras.layers import Dense, Dropout, Flatten, Conv2D, MaxPooling2D, BatchNormalization, Activation, LeakyReLU\n",
    "from tensorflow.keras.optimizers import Adam,SGD\n",
    "\n",
    "# The below code can be used to ignore the warnings that may occur due to deprecations\n",
    "import warnings\n",
    "warnings.filterwarnings(\"ignore\")\n",
    "\n",
    "\n",
    "# Needed to silence tensorflow messages while running locally\n",
    "from silence_tensorflow import silence_tensorflow\n",
    "silence_tensorflow()"
   ]
  },
  {
   "cell_type": "markdown",
   "metadata": {
    "id": "rX8_AD9YyICz"
   },
   "source": [
    "## **Loading the Dataset**"
   ]
  },
  {
   "cell_type": "markdown",
   "metadata": {
    "id": "gz5IIHlpyMX6"
   },
   "source": [
    "*   The MNIST dataset is already present in TensorFlow and Keras, in the form of an **N-dimensional Numpy array**, so we can directly import the dataset from the package and use it.\n",
    "*   The dataset can be imported as shown below: <br>\n",
    "`from tensorflow.keras.datasets import mnist`<br>\n",
    "`mnist.load_data()`\n",
    "*   **mnist.load_data()** returns both the train and test data. The train data consists of 60,000 images in the form of Numpy arrays, while the test data consists of 10,000 images as Numpy arrays.\n",
    "\n",
    "\n",
    "\n"
   ]
  },
  {
   "cell_type": "code",
   "execution_count": 2,
   "metadata": {
    "ExecuteTime": {
     "end_time": "2023-05-16T08:38:39.318574Z",
     "start_time": "2023-05-16T08:38:39.159878Z"
    },
    "colab": {
     "base_uri": "https://localhost:8080/"
    },
    "id": "6-p5r-J3PoMQ",
    "outputId": "0bfbde1b-52e0-4947-bdad-f884cc2a4335"
   },
   "outputs": [],
   "source": [
    "# Loading the data\n",
    "from tensorflow.keras.datasets import mnist\n",
    "(X_train, y_train), (X_test, y_test) = mnist.load_data()"
   ]
  },
  {
   "cell_type": "code",
   "execution_count": 3,
   "metadata": {
    "ExecuteTime": {
     "end_time": "2023-05-16T08:38:39.815492Z",
     "start_time": "2023-05-16T08:38:39.805178Z"
    },
    "colab": {
     "base_uri": "https://localhost:8080/"
    },
    "id": "5TuOEBZ13OlM",
    "outputId": "3739ce23-7a4b-41af-c57d-b9c0da19d85a"
   },
   "outputs": [
    {
     "data": {
      "text/plain": [
       "(60000, 28, 28)"
      ]
     },
     "execution_count": 3,
     "metadata": {},
     "output_type": "execute_result"
    }
   ],
   "source": [
    "X_train.shape"
   ]
  },
  {
   "cell_type": "markdown",
   "metadata": {
    "id": "AT-XPKho4CGQ"
   },
   "source": [
    "Here the data is stored in a **3-dimensional Numpy array**. \n",
    "- The first dimension **60000** denotes **the number of images in the training data**, and each image is stacked on top of the other, making it a 3-dimensional Numpy array.\n",
    "- The second and third dimensions **28, 28** denote the number of pixels along the height and width of the 2-dimensional image."
   ]
  },
  {
   "cell_type": "markdown",
   "metadata": {
    "id": "zF7ZRSFO4QBL"
   },
   "source": [
    "Below is a 2-dimensional Numpy representation (the pixelmap) of the first image in the training data. Each image is represented by 28x28 square pixel values."
   ]
  },
  {
   "cell_type": "code",
   "execution_count": 4,
   "metadata": {
    "ExecuteTime": {
     "end_time": "2023-05-16T08:38:42.152329Z",
     "start_time": "2023-05-16T08:38:42.140003Z"
    },
    "colab": {
     "base_uri": "https://localhost:8080/"
    },
    "id": "rzhqoEI43W0c",
    "outputId": "344afbbc-43a9-4da8-c336-6cb647f4cfbd"
   },
   "outputs": [
    {
     "data": {
      "text/plain": [
       "array([[  0,   0,   0,   0,   0,   0,   0,   0,   0,   0,   0,   0,   0,\n",
       "          0,   0,   0,   0,   0,   0,   0,   0,   0,   0,   0,   0,   0,\n",
       "          0,   0],\n",
       "       [  0,   0,   0,   0,   0,   0,   0,   0,   0,   0,   0,   0,   0,\n",
       "          0,   0,   0,   0,   0,   0,   0,   0,   0,   0,   0,   0,   0,\n",
       "          0,   0],\n",
       "       [  0,   0,   0,   0,   0,   0,   0,   0,   0,   0,   0,   0,   0,\n",
       "          0,   0,   0,   0,   0,   0,   0,   0,   0,   0,   0,   0,   0,\n",
       "          0,   0],\n",
       "       [  0,   0,   0,   0,   0,   0,   0,   0,   0,   0,   0,   0,   0,\n",
       "          0,   0,   0,   0,   0,   0,   0,   0,   0,   0,   0,   0,   0,\n",
       "          0,   0],\n",
       "       [  0,   0,   0,   0,   0,   0,   0,   0,   0,   0,   0,   0,   0,\n",
       "          0,   0,   0,   0,   0,   0,   0,   0,   0,   0,   0,   0,   0,\n",
       "          0,   0],\n",
       "       [  0,   0,   0,   0,   0,   0,   0,   0,   0,   0,   0,   0,   3,\n",
       "         18,  18,  18, 126, 136, 175,  26, 166, 255, 247, 127,   0,   0,\n",
       "          0,   0],\n",
       "       [  0,   0,   0,   0,   0,   0,   0,   0,  30,  36,  94, 154, 170,\n",
       "        253, 253, 253, 253, 253, 225, 172, 253, 242, 195,  64,   0,   0,\n",
       "          0,   0],\n",
       "       [  0,   0,   0,   0,   0,   0,   0,  49, 238, 253, 253, 253, 253,\n",
       "        253, 253, 253, 253, 251,  93,  82,  82,  56,  39,   0,   0,   0,\n",
       "          0,   0],\n",
       "       [  0,   0,   0,   0,   0,   0,   0,  18, 219, 253, 253, 253, 253,\n",
       "        253, 198, 182, 247, 241,   0,   0,   0,   0,   0,   0,   0,   0,\n",
       "          0,   0],\n",
       "       [  0,   0,   0,   0,   0,   0,   0,   0,  80, 156, 107, 253, 253,\n",
       "        205,  11,   0,  43, 154,   0,   0,   0,   0,   0,   0,   0,   0,\n",
       "          0,   0],\n",
       "       [  0,   0,   0,   0,   0,   0,   0,   0,   0,  14,   1, 154, 253,\n",
       "         90,   0,   0,   0,   0,   0,   0,   0,   0,   0,   0,   0,   0,\n",
       "          0,   0],\n",
       "       [  0,   0,   0,   0,   0,   0,   0,   0,   0,   0,   0, 139, 253,\n",
       "        190,   2,   0,   0,   0,   0,   0,   0,   0,   0,   0,   0,   0,\n",
       "          0,   0],\n",
       "       [  0,   0,   0,   0,   0,   0,   0,   0,   0,   0,   0,  11, 190,\n",
       "        253,  70,   0,   0,   0,   0,   0,   0,   0,   0,   0,   0,   0,\n",
       "          0,   0],\n",
       "       [  0,   0,   0,   0,   0,   0,   0,   0,   0,   0,   0,   0,  35,\n",
       "        241, 225, 160, 108,   1,   0,   0,   0,   0,   0,   0,   0,   0,\n",
       "          0,   0],\n",
       "       [  0,   0,   0,   0,   0,   0,   0,   0,   0,   0,   0,   0,   0,\n",
       "         81, 240, 253, 253, 119,  25,   0,   0,   0,   0,   0,   0,   0,\n",
       "          0,   0],\n",
       "       [  0,   0,   0,   0,   0,   0,   0,   0,   0,   0,   0,   0,   0,\n",
       "          0,  45, 186, 253, 253, 150,  27,   0,   0,   0,   0,   0,   0,\n",
       "          0,   0],\n",
       "       [  0,   0,   0,   0,   0,   0,   0,   0,   0,   0,   0,   0,   0,\n",
       "          0,   0,  16,  93, 252, 253, 187,   0,   0,   0,   0,   0,   0,\n",
       "          0,   0],\n",
       "       [  0,   0,   0,   0,   0,   0,   0,   0,   0,   0,   0,   0,   0,\n",
       "          0,   0,   0,   0, 249, 253, 249,  64,   0,   0,   0,   0,   0,\n",
       "          0,   0],\n",
       "       [  0,   0,   0,   0,   0,   0,   0,   0,   0,   0,   0,   0,   0,\n",
       "          0,  46, 130, 183, 253, 253, 207,   2,   0,   0,   0,   0,   0,\n",
       "          0,   0],\n",
       "       [  0,   0,   0,   0,   0,   0,   0,   0,   0,   0,   0,   0,  39,\n",
       "        148, 229, 253, 253, 253, 250, 182,   0,   0,   0,   0,   0,   0,\n",
       "          0,   0],\n",
       "       [  0,   0,   0,   0,   0,   0,   0,   0,   0,   0,  24, 114, 221,\n",
       "        253, 253, 253, 253, 201,  78,   0,   0,   0,   0,   0,   0,   0,\n",
       "          0,   0],\n",
       "       [  0,   0,   0,   0,   0,   0,   0,   0,  23,  66, 213, 253, 253,\n",
       "        253, 253, 198,  81,   2,   0,   0,   0,   0,   0,   0,   0,   0,\n",
       "          0,   0],\n",
       "       [  0,   0,   0,   0,   0,   0,  18, 171, 219, 253, 253, 253, 253,\n",
       "        195,  80,   9,   0,   0,   0,   0,   0,   0,   0,   0,   0,   0,\n",
       "          0,   0],\n",
       "       [  0,   0,   0,   0,  55, 172, 226, 253, 253, 253, 253, 244, 133,\n",
       "         11,   0,   0,   0,   0,   0,   0,   0,   0,   0,   0,   0,   0,\n",
       "          0,   0],\n",
       "       [  0,   0,   0,   0, 136, 253, 253, 253, 212, 135, 132,  16,   0,\n",
       "          0,   0,   0,   0,   0,   0,   0,   0,   0,   0,   0,   0,   0,\n",
       "          0,   0],\n",
       "       [  0,   0,   0,   0,   0,   0,   0,   0,   0,   0,   0,   0,   0,\n",
       "          0,   0,   0,   0,   0,   0,   0,   0,   0,   0,   0,   0,   0,\n",
       "          0,   0],\n",
       "       [  0,   0,   0,   0,   0,   0,   0,   0,   0,   0,   0,   0,   0,\n",
       "          0,   0,   0,   0,   0,   0,   0,   0,   0,   0,   0,   0,   0,\n",
       "          0,   0],\n",
       "       [  0,   0,   0,   0,   0,   0,   0,   0,   0,   0,   0,   0,   0,\n",
       "          0,   0,   0,   0,   0,   0,   0,   0,   0,   0,   0,   0,   0,\n",
       "          0,   0]], dtype=uint8)"
      ]
     },
     "execution_count": 4,
     "metadata": {},
     "output_type": "execute_result"
    }
   ],
   "source": [
    "X_train[0]"
   ]
  },
  {
   "cell_type": "code",
   "execution_count": 5,
   "metadata": {
    "ExecuteTime": {
     "end_time": "2023-05-16T08:38:42.861632Z",
     "start_time": "2023-05-16T08:38:42.854783Z"
    },
    "colab": {
     "base_uri": "https://localhost:8080/"
    },
    "id": "9bz24_eE6z0d",
    "outputId": "ed301bcf-802b-4fb4-f096-e6295ca2b0fb"
   },
   "outputs": [
    {
     "data": {
      "text/plain": [
       "5"
      ]
     },
     "execution_count": 5,
     "metadata": {},
     "output_type": "execute_result"
    }
   ],
   "source": [
    "y_train[0]"
   ]
  },
  {
   "cell_type": "markdown",
   "metadata": {
    "id": "knrZcGyy7GJ9"
   },
   "source": [
    "The **target labels** are numerical digits between 0 to 9. "
   ]
  },
  {
   "cell_type": "code",
   "execution_count": 6,
   "metadata": {
    "ExecuteTime": {
     "end_time": "2023-05-16T08:38:44.188865Z",
     "start_time": "2023-05-16T08:38:44.178041Z"
    },
    "colab": {
     "base_uri": "https://localhost:8080/"
    },
    "id": "Jf61XMWF64GA",
    "outputId": "6bec8d35-d34b-4a0a-ea1e-b9001db598ff"
   },
   "outputs": [
    {
     "data": {
      "text/plain": [
       "(10000, 28, 28)"
      ]
     },
     "execution_count": 6,
     "metadata": {},
     "output_type": "execute_result"
    }
   ],
   "source": [
    "X_test.shape"
   ]
  },
  {
   "cell_type": "markdown",
   "metadata": {
    "id": "QYtWc1tA7dQr"
   },
   "source": [
    "The test dataset, on the other hand, has **10,000 images**. Each image, as before, is a 28x28 square image."
   ]
  },
  {
   "cell_type": "markdown",
   "metadata": {
    "id": "qMou6LbazmIV"
   },
   "source": [
    "## **Data Visualization**"
   ]
  },
  {
   "cell_type": "markdown",
   "metadata": {
    "id": "Hy4AFeNm77qB"
   },
   "source": [
    "### **Converting the Numpy arrays to images and visualizing a few random images**"
   ]
  },
  {
   "cell_type": "code",
   "execution_count": 7,
   "metadata": {
    "ExecuteTime": {
     "end_time": "2023-05-16T08:38:47.103132Z",
     "start_time": "2023-05-16T08:38:46.539178Z"
    },
    "colab": {
     "base_uri": "https://localhost:8080/",
     "height": 492
    },
    "id": "RG5VFBKV7Yu9",
    "outputId": "4706caf2-b39a-4595-b8c3-1e3146d88a3c"
   },
   "outputs": [
    {
     "data": {
      "image/png": "[encoded data removed]",
      "text/plain": [
       "<Figure size 1000x800 with 12 Axes>"
      ]
     },
     "metadata": {},
     "output_type": "display_data"
    }
   ],
   "source": [
    "num_classes=10                                                                  # Number of Classes\n",
    "categories=np.unique(y_train)                                                   # Obtaing the unique classes from y_train\n",
    "rows = 3                                                                        # Defining number of rows=3\n",
    "cols = 4                                                                        # Defining number of columns=4\n",
    "fig = plt.figure(figsize=(10, 8))                                               # Defining the figure size to 10x8\n",
    "for i in range(cols):\n",
    "    for j in range(rows):\n",
    "        random_index = np.random.randint(0, len(y_train))                       # Generating random indices from the data and plotting the images\n",
    "        ax = fig.add_subplot(rows, cols, i * rows + j + 1)                      # Adding subplots with 3 rows and 4 columns\n",
    "        ax.imshow(X_train[random_index, :], cmap=plt.get_cmap('gray'))          # Plotting the image using cmap=gray\n",
    "        ax.set_title(categories[y_train[random_index]])\n",
    "plt.show()"
   ]
  },
  {
   "cell_type": "code",
   "execution_count": 8,
   "metadata": {
    "ExecuteTime": {
     "end_time": "2023-05-16T08:38:47.227383Z",
     "start_time": "2023-05-16T08:38:47.150713Z"
    },
    "colab": {
     "base_uri": "https://localhost:8080/",
     "height": 267
    },
    "id": "HO6xVsJmBaC8",
    "outputId": "7e1b5700-35e8-4647-9783-36eb09a9cf3e"
   },
   "outputs": [
    {
     "data": {
      "image/png": "[encoded data removed]",
      "text/plain": [
       "<Figure size 640x480 with 1 Axes>"
      ]
     },
     "metadata": {},
     "output_type": "display_data"
    }
   ],
   "source": [
    "# Plot distribution of each category \n",
    "count_plot = sns.countplot(x = y_train)"
   ]
  },
  {
   "cell_type": "markdown",
   "metadata": {
    "id": "64JijEDCBppW"
   },
   "source": [
    "We observe that **the dataset appears to be quite balanced**, with each category having approximately the same number of images. \n",
    "\n",
    "So **accuracy should be a good evaluation metric** for the model performance in this case study."
   ]
  },
  {
   "cell_type": "markdown",
   "metadata": {
    "id": "FonUtBJP9Pre"
   },
   "source": [
    "## **Data Preparation**"
   ]
  },
  {
   "cell_type": "markdown",
   "metadata": {
    "id": "1cYYxIvH9dNm"
   },
   "source": [
    "In the data preparation stage, **we generally reshape the dataset to have a single channel** and **we also normalize the feature inputs.**\n",
    "\n",
    "Normalization is highly recommended as it has the following benefits when training a neural network model:\n",
    "\n",
    "1. **Normalization makes the training faster and reduces the chances of getting stuck at a local optima.**\n",
    "3. **Weight decay and estimation can be done more conveniently** with normalized inputs.\n",
    "4. In deep neural networks, **normalization helps to avoid the Vanishing/Exploding gradient problem** The Vanishing/Exploding gradient problem occurs when very small or very large error gradients accumulate, and that results in either extremely small or very large updates to neural network model weights during the training process. This makes a model unstable and unable to learn from the training data."
   ]
  },
  {
   "cell_type": "markdown",
   "metadata": {
    "id": "6zF9PSHDEp4t"
   },
   "source": [
    "As we already know, the images are in grayscale, so let us **reshape the arrays to just have a single channel**."
   ]
  },
  {
   "cell_type": "code",
   "execution_count": 9,
   "metadata": {
    "ExecuteTime": {
     "end_time": "2023-05-16T08:39:24.850038Z",
     "start_time": "2023-05-16T08:39:24.844543Z"
    },
    "id": "_IJwpIPzFhi5"
   },
   "outputs": [],
   "source": [
    "# Reshape dataset to have a single channel\n",
    "X_train = X_train.reshape((X_train.shape[0], 28, 28, 1))\n",
    "X_test = X_test.reshape((X_test.shape[0], 28, 28, 1))"
   ]
  },
  {
   "cell_type": "markdown",
   "metadata": {
    "id": "4KOZB5QK-Bnp"
   },
   "source": [
    "Since the **image pixel values range from 0-255**, our method of normalization here will be **scaling** - we shall **divide all the pixel values by 255 to standardize the images to have values between 0-1.**"
   ]
  },
  {
   "cell_type": "code",
   "execution_count": 10,
   "metadata": {
    "ExecuteTime": {
     "end_time": "2023-05-16T08:39:35.566314Z",
     "start_time": "2023-05-16T08:39:35.469553Z"
    },
    "id": "n5FMF4iy8TvJ"
   },
   "outputs": [],
   "source": [
    "# Normalizing the image pixels\n",
    "X_train_normalized = X_train.astype('float32')/255.0\n",
    "X_test_normalized = X_test.astype('float32')/255.0"
   ]
  },
  {
   "cell_type": "markdown",
   "metadata": {
    "id": "29EVGIZY-R2k"
   },
   "source": [
    "Since this is a **10-class classification problem**, **the output layer should have 10 neurons** which will provide us with the probabilities of the input image belonging to each of those 10 classes. Therefore, we also need to create a **one-hot encoded representation for the target classes.**"
   ]
  },
  {
   "cell_type": "code",
   "execution_count": 11,
   "metadata": {
    "ExecuteTime": {
     "end_time": "2023-05-16T08:39:46.033386Z",
     "start_time": "2023-05-16T08:39:46.021803Z"
    },
    "id": "VLUkl-jW8V0J"
   },
   "outputs": [],
   "source": [
    "# Creating one-hot encoded representation of target labels\n",
    "# We can do this by using this utility function - https://www.tensorflow.org/api_docs/python/tf/keras/utils/to_categorical\n",
    "# to_categorical() function is also explained in the Neural Networks Module\n",
    "\n",
    "y_train_encoded = tf.keras.utils.to_categorical(y_train)\n",
    "y_test_encoded = tf.keras.utils.to_categorical(y_test)"
   ]
  },
  {
   "cell_type": "markdown",
   "metadata": {
    "id": "svJYVbVCDSYJ"
   },
   "source": [
    "## **Model Building - Artificial Neural Network (ANN)**"
   ]
  },
  {
   "cell_type": "markdown",
   "metadata": {
    "id": "nECJlbR6dMG5"
   },
   "source": [
    "### **Defining an Artificial Neural Network (ANN) Model**"
   ]
  },
  {
   "cell_type": "markdown",
   "metadata": {
    "id": "NFItswofdR1w"
   },
   "source": [
    "\n",
    "We will create this ANN sequentially, by adding the layers one after another."
   ]
  },
  {
   "cell_type": "markdown",
   "metadata": {
    "id": "CLtJH9GJde6S"
   },
   "source": [
    "First, let's **set the seed for the random number generators in Numpy, Python's Random package, and TensorFlow** to ensure we are able to reproduce these results every time we run the code."
   ]
  },
  {
   "cell_type": "code",
   "execution_count": 12,
   "metadata": {
    "ExecuteTime": {
     "end_time": "2023-05-16T08:40:06.292214Z",
     "start_time": "2023-05-16T08:40:06.282638Z"
    },
    "id": "Cm_6LevfdhOs"
   },
   "outputs": [],
   "source": [
    "# Fixing the seed for random number generators\n",
    "import random\n",
    "np.random.seed(42)\n",
    "random.seed(42)\n",
    "tf.random.set_seed(42)"
   ]
  },
  {
   "cell_type": "markdown",
   "metadata": {
    "id": "atAwhIN4dk5R"
   },
   "source": [
    "Let's now build a **sequential ANN model.**"
   ]
  },
  {
   "cell_type": "code",
   "execution_count": 13,
   "metadata": {
    "ExecuteTime": {
     "end_time": "2023-05-16T08:40:09.737825Z",
     "start_time": "2023-05-16T08:40:09.592912Z"
    },
    "colab": {
     "base_uri": "https://localhost:8080/"
    },
    "id": "hJ0qk6Mndqk0",
    "outputId": "1676290e-498a-4016-c11c-20463921ad9d"
   },
   "outputs": [
    {
     "name": "stdout",
     "output_type": "stream",
     "text": [
      "Metal device set to: Apple M1 Pro\n",
      "Model: \"sequential\"\n",
      "_________________________________________________________________\n",
      " Layer (type)                Output Shape              Param #   \n",
      "=================================================================\n",
      " flatten (Flatten)           (None, 784)               0         \n",
      "                                                                 \n",
      " dense (Dense)               (None, 100)               78500     \n",
      "                                                                 \n",
      " dense_1 (Dense)             (None, 10)                1010      \n",
      "                                                                 \n",
      "=================================================================\n",
      "Total params: 79,510\n",
      "Trainable params: 79,510\n",
      "Non-trainable params: 0\n",
      "_________________________________________________________________\n"
     ]
    }
   ],
   "source": [
    "# Intializing a sequential model\n",
    "ann_model = Sequential()\n",
    "\n",
    "# Flatten the input to add dense convolutional layers on top of it\n",
    "ann_model.add(Flatten(input_shape=(28, 28)))\n",
    "\n",
    "# Adding a sequential layer with 100 neurons\n",
    "ann_model.add(Dense(100, activation='relu'))\n",
    "\n",
    "# Adding the output layer with 10 neurons and activation functions as softmax since this is a multi-class classification problem  \n",
    "ann_model.add(Dense(10, activation='softmax'))\n",
    "\n",
    "# Using SGD Optimizer\n",
    "opt = SGD(learning_rate=0.01, momentum=0.9)\n",
    "\n",
    "# Compile model\n",
    "ann_model.compile(optimizer=opt,\n",
    "              loss='categorical_crossentropy',\n",
    "              metrics=['accuracy'])\n",
    "\n",
    "# Generating the summary of the model\n",
    "ann_model.summary()"
   ]
  },
  {
   "cell_type": "markdown",
   "metadata": {
    "id": "8YEbHUHmkArv"
   },
   "source": [
    "**Let us understand the parameters in each layer:**\n",
    "> \n",
    "\n",
    "*  **Flatten Layer** <br>\n",
    "Here, the input shape to the layer is (28,28)<br>\n",
    "It does not have any parameters, so the number of parameters is 0.<br>\n",
    "\n",
    "*   **Fully Connected Dense Layer**<br>\n",
    "Number of neurons: 100<br>\n",
    "Number of parameters: (784x100)+(1x100): 78400+100: 78500<br>\n",
    "` Number of neurons in current layer x number of neurons in the previous layer + 1 x number of neurons in current layer(Bias)`<br>\n",
    "\n",
    "*   **Output Layer**<br>\n",
    "Number of neurons: 10<br>\n",
    "Number of parameters: (10x100)+(1x10) = 1010<br>\n",
    "` Number of neurons in current layer x number of neurons in the previous layer( Here in the previous dense layer: 100) + 1 x number of neurons in current layer(Bias)`\n",
    "\n",
    "\n",
    "\n",
    "\n",
    "\n",
    "\n"
   ]
  },
  {
   "cell_type": "markdown",
   "metadata": {
    "id": "eE4IElpAj6YG"
   },
   "source": [
    "<b> Fitting the model on the train data:"
   ]
  },
  {
   "cell_type": "code",
   "execution_count": 14,
   "metadata": {
    "ExecuteTime": {
     "end_time": "2023-05-16T08:41:51.609498Z",
     "start_time": "2023-05-16T08:40:18.159776Z"
    },
    "colab": {
     "base_uri": "https://localhost:8080/"
    },
    "id": "5AWAwzqyeh9r",
    "outputId": "172d5d80-af86-4412-8f4d-9944d4526317"
   },
   "outputs": [
    {
     "name": "stdout",
     "output_type": "stream",
     "text": [
      "Epoch 1/15\n",
      "844/844 - 7s - loss: 0.4176 - accuracy: 0.8819 - val_loss: 0.2073 - val_accuracy: 0.9413 - 7s/epoch - 8ms/step\n",
      "Epoch 2/15\n",
      "844/844 - 6s - loss: 0.2185 - accuracy: 0.9378 - val_loss: 0.1574 - val_accuracy: 0.9577 - 6s/epoch - 7ms/step\n",
      "Epoch 3/15\n",
      "844/844 - 6s - loss: 0.1653 - accuracy: 0.9530 - val_loss: 0.1270 - val_accuracy: 0.9653 - 6s/epoch - 7ms/step\n",
      "Epoch 4/15\n",
      "844/844 - 6s - loss: 0.1351 - accuracy: 0.9622 - val_loss: 0.1139 - val_accuracy: 0.9667 - 6s/epoch - 7ms/step\n",
      "Epoch 5/15\n",
      "844/844 - 6s - loss: 0.1146 - accuracy: 0.9670 - val_loss: 0.1029 - val_accuracy: 0.9702 - 6s/epoch - 7ms/step\n",
      "Epoch 6/15\n",
      "844/844 - 6s - loss: 0.0996 - accuracy: 0.9720 - val_loss: 0.0937 - val_accuracy: 0.9730 - 6s/epoch - 7ms/step\n",
      "Epoch 7/15\n",
      "844/844 - 6s - loss: 0.0880 - accuracy: 0.9751 - val_loss: 0.0876 - val_accuracy: 0.9763 - 6s/epoch - 7ms/step\n",
      "Epoch 8/15\n",
      "844/844 - 6s - loss: 0.0785 - accuracy: 0.9775 - val_loss: 0.0857 - val_accuracy: 0.9767 - 6s/epoch - 7ms/step\n",
      "Epoch 9/15\n",
      "844/844 - 6s - loss: 0.0705 - accuracy: 0.9801 - val_loss: 0.0837 - val_accuracy: 0.9765 - 6s/epoch - 7ms/step\n",
      "Epoch 10/15\n",
      "844/844 - 6s - loss: 0.0647 - accuracy: 0.9815 - val_loss: 0.0805 - val_accuracy: 0.9767 - 6s/epoch - 7ms/step\n",
      "Epoch 11/15\n",
      "844/844 - 6s - loss: 0.0585 - accuracy: 0.9837 - val_loss: 0.0758 - val_accuracy: 0.9785 - 6s/epoch - 7ms/step\n",
      "Epoch 12/15\n",
      "844/844 - 6s - loss: 0.0541 - accuracy: 0.9850 - val_loss: 0.0779 - val_accuracy: 0.9783 - 6s/epoch - 7ms/step\n",
      "Epoch 13/15\n",
      "844/844 - 6s - loss: 0.0497 - accuracy: 0.9866 - val_loss: 0.0751 - val_accuracy: 0.9783 - 6s/epoch - 7ms/step\n",
      "Epoch 14/15\n",
      "844/844 - 6s - loss: 0.0457 - accuracy: 0.9876 - val_loss: 0.0741 - val_accuracy: 0.9790 - 6s/epoch - 7ms/step\n",
      "Epoch 15/15\n",
      "844/844 - 6s - loss: 0.0421 - accuracy: 0.9888 - val_loss: 0.0746 - val_accuracy: 0.9792 - 6s/epoch - 7ms/step\n"
     ]
    }
   ],
   "source": [
    "history = ann_model.fit(\n",
    "            X_train_normalized, y_train_encoded,\n",
    "            epochs=15,\n",
    "            validation_split=0.1,\n",
    "            shuffle=True,\n",
    "            batch_size=64,\n",
    "            verbose=2\n",
    ")"
   ]
  },
  {
   "cell_type": "markdown",
   "metadata": {
    "id": "mj3Skz2IkmfZ"
   },
   "source": [
    "### **Model Evaluation**"
   ]
  },
  {
   "cell_type": "code",
   "execution_count": 15,
   "metadata": {
    "ExecuteTime": {
     "end_time": "2023-05-16T08:42:00.713869Z",
     "start_time": "2023-05-16T08:42:00.605321Z"
    },
    "colab": {
     "base_uri": "https://localhost:8080/",
     "height": 295
    },
    "id": "pD6WR40cj19z",
    "outputId": "0011514e-acb8-47de-f4bc-1cdad525d18d"
   },
   "outputs": [
    {
     "data": {
      "image/png": "[encoded data removed]",
      "text/plain": [
       "<Figure size 640x480 with 1 Axes>"
      ]
     },
     "metadata": {},
     "output_type": "display_data"
    }
   ],
   "source": [
    "plt.plot(history.history['accuracy'])\n",
    "plt.plot(history.history['val_accuracy'])\n",
    "plt.title('Model Accuracy')\n",
    "plt.ylabel('Accuracy')\n",
    "plt.xlabel('Epoch')\n",
    "plt.legend(['Train', 'Validation'], loc='upper left')\n",
    "plt.show()"
   ]
  },
  {
   "cell_type": "markdown",
   "metadata": {
    "id": "03Fan60bkxH2"
   },
   "source": [
    "**Observations:** \n",
    "\n",
    "*   We can see from the above plot that the model has perfomed well on the train and validation data, with a **validation accuracy of nearly 98%.**\n"
   ]
  },
  {
   "cell_type": "markdown",
   "metadata": {
    "id": "1kik69fBo7xp"
   },
   "source": [
    "### **Evaluating the model on the test data**"
   ]
  },
  {
   "cell_type": "code",
   "execution_count": 16,
   "metadata": {
    "ExecuteTime": {
     "end_time": "2023-05-16T08:49:14.837623Z",
     "start_time": "2023-05-16T08:49:12.776504Z"
    },
    "colab": {
     "base_uri": "https://localhost:8080/"
    },
    "id": "rTEu-Aprj2A3",
    "outputId": "75d67a05-6f37-4a95-f5f3-8cf2e918559d"
   },
   "outputs": [
    {
     "name": "stdout",
     "output_type": "stream",
     "text": [
      "313/313 - 2s - loss: 0.0775 - accuracy: 0.9762 - 2s/epoch - 6ms/step\n"
     ]
    }
   ],
   "source": [
    "accuracy = ann_model.evaluate(X_test_normalized, y_test_encoded, verbose=2)"
   ]
  },
  {
   "cell_type": "markdown",
   "metadata": {
    "id": "b5dNWxWPpEiv"
   },
   "source": [
    "### **Generating the Predictions using the test data**"
   ]
  },
  {
   "cell_type": "code",
   "execution_count": 17,
   "metadata": {
    "ExecuteTime": {
     "end_time": "2023-05-16T08:49:20.861881Z",
     "start_time": "2023-05-16T08:49:20.110738Z"
    },
    "id": "2vMod71Yj2EC"
   },
   "outputs": [
    {
     "name": "stdout",
     "output_type": "stream",
     "text": [
      "313/313 [==============================] - 1s 2ms/step\n"
     ]
    }
   ],
   "source": [
    "# Here we would get the output as probablities for each category\n",
    "y_pred=ann_model.predict(X_test_normalized)"
   ]
  },
  {
   "cell_type": "markdown",
   "metadata": {
    "id": "gGRaZwofpPZn"
   },
   "source": [
    "### **Plotting the Confusion Matrix**"
   ]
  },
  {
   "cell_type": "markdown",
   "metadata": {
    "id": "gtLY-LGopQtJ"
   },
   "source": [
    "*   The Confusion matrix is also defined as an inbuilt function in the TensorFlow module, so we can use that for evaluating the classification model.\n",
    "*   The Confusion matrix expects the input to be of categorical values. But the y_test_encoded is an encoded value, and y_pred has probablities. So we need to get the categorical values back from the encoded values.\n",
    "*   We will use the `argmax()` function to obtain the maximum value over each category on both y_test_encoded and y_pred and obtain their respective classes.\n",
    "\n",
    "\n",
    "\n"
   ]
  },
  {
   "cell_type": "code",
   "execution_count": 18,
   "metadata": {
    "ExecuteTime": {
     "end_time": "2023-05-16T08:49:35.675113Z",
     "start_time": "2023-05-16T08:49:35.481450Z"
    },
    "colab": {
     "base_uri": "https://localhost:8080/",
     "height": 483
    },
    "id": "kAmRdeS-pZk5",
    "outputId": "30b46f7d-8154-40f8-ead4-5304679d08f7"
   },
   "outputs": [
    {
     "data": {
      "image/png": "[encoded data removed]",
      "text/plain": [
       "<Figure size 1000x800 with 2 Axes>"
      ]
     },
     "metadata": {},
     "output_type": "display_data"
    }
   ],
   "source": [
    "# Obtaining the categorical values from y_test_encoded and y_pred\n",
    "y_pred_arg=np.argmax(y_pred,axis=1)\n",
    "y_test_arg=np.argmax(y_test_encoded,axis=1)\n",
    "\n",
    "# Plotting the Confusion Matrix using confusion matrix() function which is also predefined tensorflow module\n",
    "confusion_matrix = tf.math.confusion_matrix(y_test_arg,y_pred_arg)\n",
    "f, ax = plt.subplots(figsize=(10, 8))\n",
    "sns.heatmap(\n",
    "    confusion_matrix,\n",
    "    annot=True,\n",
    "    linewidths=.4,\n",
    "    fmt=\"d\",\n",
    "    square=True,\n",
    "    ax=ax\n",
    ")\n",
    "plt.show()"
   ]
  },
  {
   "cell_type": "markdown",
   "metadata": {
    "id": "Nb5FsNLvpX7m"
   },
   "source": [
    "**We observe that most of the classes are predicted correctly**, and the misclassification occurs mostly with the digit 4 which is sometimes confused with digit 9, and digit 5 which is sometimes confused with digit 3."
   ]
  },
  {
   "cell_type": "markdown",
   "metadata": {
    "id": "0Y83Pa4ENG3H"
   },
   "source": [
    "## **Model Building - Convolutional Neural Network (CNN)**"
   ]
  },
  {
   "cell_type": "markdown",
   "metadata": {
    "id": "nJ2Ek6CZHZm8"
   },
   "source": [
    "### **Defining a Convolutional Neural Network (CNN) Model**"
   ]
  },
  {
   "cell_type": "markdown",
   "metadata": {
    "id": "u-3u1necDYEY"
   },
   "source": [
    "Let's create a CNN model sequentially, where we will be adding the layers one after another."
   ]
  },
  {
   "cell_type": "markdown",
   "metadata": {
    "id": "UCf2IXKdDgdq"
   },
   "source": [
    "First, we need to clear the previous model's history from the session. \n",
    "\n",
    "In Keras, we need a special command to clear the model's history, otherwise the previous model history remains in the backend.\n",
    "\n",
    "Also, let's fix the seed again after clearing the backend.\n",
    "\n",
    "Let's **set the seed for random number generators in Numpy, the Random library in Python, and in TensorFlow** to be able to reproduce the same results every time we run the code."
   ]
  },
  {
   "cell_type": "code",
   "execution_count": 19,
   "metadata": {
    "ExecuteTime": {
     "end_time": "2023-05-16T08:50:19.815721Z",
     "start_time": "2023-05-16T08:50:19.774729Z"
    },
    "id": "Q5AwVYZ2j0nx"
   },
   "outputs": [],
   "source": [
    "# Clearing backend\n",
    "from tensorflow.keras import backend\n",
    "backend.clear_session()"
   ]
  },
  {
   "cell_type": "code",
   "execution_count": 20,
   "metadata": {
    "ExecuteTime": {
     "end_time": "2023-05-16T08:50:21.329522Z",
     "start_time": "2023-05-16T08:50:21.319751Z"
    },
    "id": "NcxvHDk9-qWD"
   },
   "outputs": [],
   "source": [
    "# Fixing the seed for random number generators\n",
    "import random\n",
    "np.random.seed(42)\n",
    "random.seed(42)\n",
    "tf.random.set_seed(42)"
   ]
  },
  {
   "cell_type": "markdown",
   "metadata": {
    "id": "2dfF83spEMgr"
   },
   "source": [
    "Let's build a **CNN Model**.<br>\n",
    "\n",
    "The model has 2 main parts:\n",
    "1. **The Feature Extraction layers** which are comprised of convolutional and pooling layers.\n",
    "2. **The Fully Connected classification layers for prediction.**<br><br>\n",
    "\n",
    "The flow of our model would be as shown below:\n",
    "\n",
    "*   Our model would start with a sequential Conv2D layer with 64 filters of 3x3 filter with the **ReLU** activation function. This will take as input an image of size (28x28x1).\n",
    "*    We will also use padding in order to keep the output shape the same as that of the input shape. Hence, the hyperparameter padding = 'same'. \n",
    "<br> This layer would also be followed by a **Max Pooling** layer.\n",
    "*   After this, we will have 2 more pairs of Conv2D and **Max Pooling** layers, having 32 filters with a 3x3 Kernel Size and a pooling size of (2,2).\n",
    "*   We would flatten out the output from this pooling layer, and use a dense layer over that.\n",
    "*   This will be a dense layer of 100 neurons (the same as the ANN)\n",
    "*   We would have an output layer with 10 neurons, as we have 10 output classes in this multi-class classification problem.\n",
    "\n",
    "\n",
    "\n",
    "\n",
    "\n",
    "\n",
    "\n",
    "\n",
    "\n",
    "\n"
   ]
  },
  {
   "cell_type": "code",
   "execution_count": 21,
   "metadata": {
    "ExecuteTime": {
     "end_time": "2023-05-16T08:50:32.173138Z",
     "start_time": "2023-05-16T08:50:32.066424Z"
    },
    "colab": {
     "base_uri": "https://localhost:8080/"
    },
    "id": "1jur1qN2EGK0",
    "outputId": "08af7878-f113-4c40-a676-219a7ba65af8"
   },
   "outputs": [
    {
     "name": "stdout",
     "output_type": "stream",
     "text": [
      "Model: \"sequential\"\n",
      "_________________________________________________________________\n",
      " Layer (type)                Output Shape              Param #   \n",
      "=================================================================\n",
      " conv2d (Conv2D)             (None, 28, 28, 64)        640       \n",
      "                                                                 \n",
      " max_pooling2d (MaxPooling2D  (None, 14, 14, 64)       0         \n",
      " )                                                               \n",
      "                                                                 \n",
      " conv2d_1 (Conv2D)           (None, 14, 14, 32)        18464     \n",
      "                                                                 \n",
      " max_pooling2d_1 (MaxPooling  (None, 7, 7, 32)         0         \n",
      " 2D)                                                             \n",
      "                                                                 \n",
      " conv2d_2 (Conv2D)           (None, 7, 7, 32)          9248      \n",
      "                                                                 \n",
      " max_pooling2d_2 (MaxPooling  (None, 4, 4, 32)         0         \n",
      " 2D)                                                             \n",
      "                                                                 \n",
      " flatten (Flatten)           (None, 512)               0         \n",
      "                                                                 \n",
      " dense (Dense)               (None, 100)               51300     \n",
      "                                                                 \n",
      " dense_1 (Dense)             (None, 10)                1010      \n",
      "                                                                 \n",
      "=================================================================\n",
      "Total params: 80,662\n",
      "Trainable params: 80,662\n",
      "Non-trainable params: 0\n",
      "_________________________________________________________________\n"
     ]
    }
   ],
   "source": [
    "# Intializing a sequential model\n",
    "model = Sequential()\n",
    "\n",
    "# Adding first conv layer with 64 filters and kernel size 3x3 , padding 'same' provides the output size same as the input size\n",
    "# Input_shape denotes input image dimension of MNIST images\n",
    "model.add(Conv2D(64, (3, 3), activation='relu', padding=\"same\", input_shape=(28, 28, 1)))\n",
    "\n",
    "# Adding max pooling to reduce the size of output of first conv layer\n",
    "model.add(MaxPooling2D((2, 2), padding = 'same'))\n",
    "\n",
    "model.add(Conv2D(32, (3, 3), activation='relu', padding=\"same\"))\n",
    "model.add(MaxPooling2D((2, 2), padding = 'same'))\n",
    "model.add(Conv2D(32, (3, 3), activation='relu', padding=\"same\"))\n",
    "model.add(MaxPooling2D((2, 2), padding = 'same'))\n",
    "\n",
    "# flattening the output of the conv layer after max pooling to make it ready for creating dense connections\n",
    "model.add(Flatten())\n",
    "\n",
    "# Adding a fully connected dense layer with 100 neurons    \n",
    "model.add(Dense(100, activation='relu'))\n",
    "\n",
    "# Adding the output layer with 10 neurons and activation functions as softmax since this is a multi-class classification problem  \n",
    "model.add(Dense(10, activation='softmax'))\n",
    "\n",
    "# Using SGD Optimizer\n",
    "opt = SGD(learning_rate=0.01, momentum=0.9)\n",
    "\n",
    "# Compile model\n",
    "model.compile(optimizer=opt, loss='categorical_crossentropy', metrics=['accuracy'])\n",
    "\n",
    "# Generating the summary of the model\n",
    "model.summary()"
   ]
  },
  {
   "cell_type": "markdown",
   "metadata": {
    "id": "Hcr6wzFS6R-j"
   },
   "source": [
    "**Let us try to understand the parameters in the CNN layers:**\n",
    "> \n",
    "\n",
    "*  **First Conv2D Layer** <br>\n",
    "The input shape to the Conv2D layer: (28,28,1)<br>\n",
    "The Size of the Filter: 3x3 <br>\n",
    "The Number of Filters: 64<br>\n",
    "The Number of parameters: (3x3x1+1)x64 = 640<br>\n",
    "  `(width of filter in current layer x height of filter in current layer x number of filters in previous layer + bias) x number of filters in current layer`<br>\n",
    "\n",
    "*   **Max Pooling Layer**<br>\n",
    "Pooling has no trainable parameters, so the number of parameters: 0<br>\n",
    "\n",
    "*   **Flatten**<br>\n",
    "It does not have any trainable parameters, so the number of parameters: 0<br>\n",
    "\n",
    "*   **Fully Connected Dense Layer**<br>\n",
    "Number of neurons: 100<br>\n",
    "Number of parameters: (100x512)+(1x100): 51300<br>\n",
    "` Number of neurons in current layer x number of neurons in the previous layer (Here in max pooling layer: 14x14x16) + 1 x number of neurons in current layer (Bias)`<br>\n",
    "\n",
    "*   **Output Layer**<br>\n",
    "Number of neurons: 10<br>\n",
    "Number of parameters: (10x100)+(1x10)=1010<br>\n",
    "` Number of neurons in current layer x number of neurons in the previous layer (Here in the previous dense layer: 128) + 1 x number of neurons in current layer(Bias)`\n",
    "\n",
    "\n",
    "\n",
    "\n",
    "\n",
    "\n"
   ]
  },
  {
   "cell_type": "markdown",
   "metadata": {
    "id": "K23aF68_FHEw"
   },
   "source": [
    "### <b> Fitting the model on the train data"
   ]
  },
  {
   "cell_type": "code",
   "execution_count": 22,
   "metadata": {
    "ExecuteTime": {
     "end_time": "2023-05-16T08:53:45.764533Z",
     "start_time": "2023-05-16T08:50:44.507585Z"
    },
    "colab": {
     "base_uri": "https://localhost:8080/"
    },
    "id": "Er5k1jYG7waV",
    "outputId": "ed5a2cf0-2b9b-4cfd-aa66-aba08916efa1"
   },
   "outputs": [
    {
     "name": "stdout",
     "output_type": "stream",
     "text": [
      "Epoch 1/15\n",
      "844/844 - 13s - loss: 0.3496 - accuracy: 0.8845 - val_loss: 0.0810 - val_accuracy: 0.9770 - 13s/epoch - 15ms/step\n",
      "Epoch 2/15\n",
      "844/844 - 12s - loss: 0.0768 - accuracy: 0.9762 - val_loss: 0.0610 - val_accuracy: 0.9807 - 12s/epoch - 14ms/step\n",
      "Epoch 3/15\n",
      "844/844 - 12s - loss: 0.0539 - accuracy: 0.9829 - val_loss: 0.0426 - val_accuracy: 0.9873 - 12s/epoch - 14ms/step\n",
      "Epoch 4/15\n",
      "844/844 - 12s - loss: 0.0421 - accuracy: 0.9862 - val_loss: 0.0423 - val_accuracy: 0.9873 - 12s/epoch - 14ms/step\n",
      "Epoch 5/15\n",
      "844/844 - 12s - loss: 0.0353 - accuracy: 0.9888 - val_loss: 0.0379 - val_accuracy: 0.9892 - 12s/epoch - 14ms/step\n",
      "Epoch 6/15\n",
      "844/844 - 12s - loss: 0.0295 - accuracy: 0.9903 - val_loss: 0.0382 - val_accuracy: 0.9900 - 12s/epoch - 14ms/step\n",
      "Epoch 7/15\n",
      "844/844 - 12s - loss: 0.0245 - accuracy: 0.9921 - val_loss: 0.0426 - val_accuracy: 0.9882 - 12s/epoch - 14ms/step\n",
      "Epoch 8/15\n",
      "844/844 - 12s - loss: 0.0214 - accuracy: 0.9930 - val_loss: 0.0358 - val_accuracy: 0.9903 - 12s/epoch - 14ms/step\n",
      "Epoch 9/15\n",
      "844/844 - 12s - loss: 0.0181 - accuracy: 0.9940 - val_loss: 0.0347 - val_accuracy: 0.9907 - 12s/epoch - 14ms/step\n",
      "Epoch 10/15\n",
      "844/844 - 12s - loss: 0.0160 - accuracy: 0.9945 - val_loss: 0.0339 - val_accuracy: 0.9910 - 12s/epoch - 14ms/step\n",
      "Epoch 11/15\n",
      "844/844 - 12s - loss: 0.0139 - accuracy: 0.9954 - val_loss: 0.0348 - val_accuracy: 0.9903 - 12s/epoch - 14ms/step\n",
      "Epoch 12/15\n",
      "844/844 - 12s - loss: 0.0134 - accuracy: 0.9953 - val_loss: 0.0284 - val_accuracy: 0.9932 - 12s/epoch - 14ms/step\n",
      "Epoch 13/15\n",
      "844/844 - 12s - loss: 0.0113 - accuracy: 0.9960 - val_loss: 0.0331 - val_accuracy: 0.9922 - 12s/epoch - 14ms/step\n",
      "Epoch 14/15\n",
      "844/844 - 12s - loss: 0.0098 - accuracy: 0.9965 - val_loss: 0.0342 - val_accuracy: 0.9923 - 12s/epoch - 14ms/step\n",
      "Epoch 15/15\n",
      "844/844 - 12s - loss: 0.0076 - accuracy: 0.9974 - val_loss: 0.0344 - val_accuracy: 0.9917 - 12s/epoch - 14ms/step\n"
     ]
    }
   ],
   "source": [
    "history_1 = model.fit(\n",
    "            X_train_normalized, y_train_encoded,\n",
    "            epochs=15,\n",
    "            validation_split=0.1,\n",
    "            shuffle=True,\n",
    "            batch_size=64,\n",
    "            verbose=2\n",
    ")"
   ]
  },
  {
   "cell_type": "markdown",
   "metadata": {
    "id": "J0nAM75hf8KZ"
   },
   "source": [
    "### **Model Evaluation**"
   ]
  },
  {
   "cell_type": "code",
   "execution_count": 23,
   "metadata": {
    "ExecuteTime": {
     "end_time": "2023-05-16T08:53:50.066160Z",
     "start_time": "2023-05-16T08:53:49.954286Z"
    },
    "colab": {
     "base_uri": "https://localhost:8080/",
     "height": 295
    },
    "id": "JWLrPdNwGWpH",
    "outputId": "ebdddcea-eeb7-432a-a99f-c6368ae77860"
   },
   "outputs": [
    {
     "data": {
      "image/png": "[encoded data removed]",
      "text/plain": [
       "<Figure size 640x480 with 1 Axes>"
      ]
     },
     "metadata": {},
     "output_type": "display_data"
    }
   ],
   "source": [
    "plt.plot(history_1.history['accuracy'])\n",
    "plt.plot(history_1.history['val_accuracy'])\n",
    "plt.title('Model Accuracy')\n",
    "plt.ylabel('Accuracy')\n",
    "plt.xlabel('Epoch')\n",
    "plt.legend(['Train', 'Validation'], loc='upper left')\n",
    "plt.show()"
   ]
  },
  {
   "cell_type": "markdown",
   "metadata": {
    "id": "rKJ6YR_bawrp"
   },
   "source": [
    "**Observations:** \n",
    "\n",
    "\n",
    "*   We can see from the above plot that **the model has perfomed well on train and validation data with a validation accuracy of 99%.**\n",
    "\n",
    "\n",
    "\n",
    "\n"
   ]
  },
  {
   "cell_type": "markdown",
   "metadata": {
    "id": "x2sRP3ovbCJL"
   },
   "source": [
    "### **Evaluating the model on test data**"
   ]
  },
  {
   "cell_type": "code",
   "execution_count": 24,
   "metadata": {
    "ExecuteTime": {
     "end_time": "2023-05-16T08:54:13.914320Z",
     "start_time": "2023-05-16T08:54:11.595626Z"
    },
    "colab": {
     "base_uri": "https://localhost:8080/"
    },
    "id": "LK3DlKQoGJMc",
    "outputId": "f27935e6-b0de-4c09-c23d-321cff504ef5"
   },
   "outputs": [
    {
     "name": "stdout",
     "output_type": "stream",
     "text": [
      "313/313 - 2s - loss: 0.0316 - accuracy: 0.9913 - 2s/epoch - 7ms/step\n"
     ]
    }
   ],
   "source": [
    "accuracy = model.evaluate(X_test_normalized, y_test_encoded, verbose=2)"
   ]
  },
  {
   "cell_type": "markdown",
   "metadata": {
    "id": "gighSgusgBeM"
   },
   "source": [
    "### **Generating the predictions using test data**"
   ]
  },
  {
   "cell_type": "code",
   "execution_count": 25,
   "metadata": {
    "ExecuteTime": {
     "end_time": "2023-05-16T08:54:20.805401Z",
     "start_time": "2023-05-16T08:54:19.864970Z"
    },
    "id": "sYbj9qSidOoV"
   },
   "outputs": [
    {
     "name": "stdout",
     "output_type": "stream",
     "text": [
      "313/313 [==============================] - 1s 3ms/step\n"
     ]
    }
   ],
   "source": [
    "# Here we would get the output as probablities for each category\n",
    "y_pred=model.predict(X_test_normalized)"
   ]
  },
  {
   "cell_type": "code",
   "execution_count": 26,
   "metadata": {
    "ExecuteTime": {
     "end_time": "2023-05-16T08:54:22.412003Z",
     "start_time": "2023-05-16T08:54:22.399341Z"
    },
    "colab": {
     "base_uri": "https://localhost:8080/"
    },
    "id": "QL7QVdIeg6ci",
    "outputId": "fa0366b5-e08b-4469-bb06-798f63a3f6e2"
   },
   "outputs": [
    {
     "data": {
      "text/plain": [
       "array([[1.6225386e-17, 6.0051868e-12, 3.3924011e-10, ..., 1.0000000e+00,\n",
       "        5.5816913e-14, 2.5348035e-12],\n",
       "       [4.2852836e-11, 1.0730771e-08, 1.0000000e+00, ..., 2.1629089e-10,\n",
       "        3.2946169e-13, 1.1876037e-15],\n",
       "       [3.6963840e-08, 9.9999213e-01, 2.1009248e-08, ..., 3.9394322e-06,\n",
       "        8.9984366e-07, 6.1557370e-07],\n",
       "       ...,\n",
       "       [4.3830419e-18, 6.6662631e-14, 6.3753960e-17, ..., 1.7022234e-11,\n",
       "        2.1798978e-10, 3.7169765e-13],\n",
       "       [9.6215674e-11, 1.3168280e-17, 1.0933421e-15, ..., 1.7978708e-15,\n",
       "        5.3031057e-05, 9.1038237e-15],\n",
       "       [2.6762635e-12, 4.5212701e-14, 1.7845997e-11, ..., 7.7126305e-19,\n",
       "        1.6613145e-11, 3.7354165e-18]], dtype=float32)"
      ]
     },
     "execution_count": 26,
     "metadata": {},
     "output_type": "execute_result"
    }
   ],
   "source": [
    "y_pred"
   ]
  },
  {
   "cell_type": "markdown",
   "metadata": {
    "id": "7f8u1cOufv4R"
   },
   "source": [
    "### **Plotting the Confusion Matrix**"
   ]
  },
  {
   "cell_type": "markdown",
   "metadata": {
    "id": "06UAILfCgOjc"
   },
   "source": [
    "*   The Confusion matrix is also defined as an inbuilt function in the TensorFlow module, so we can use that for evaluating the classification model.\n",
    "*   The Confusion matrix expects the input to be of categorical values. But the y_test_encoded is an encoded value, and y_pred has probablities. So we need to get the categorical values back from the encoded values.\n",
    "*   We will use the `argmax()` function to obtain the maximum value over each category on both y_test_encoded and y_pred and obtain their respective classes.\n",
    "\n",
    "\n",
    "\n"
   ]
  },
  {
   "cell_type": "code",
   "execution_count": 27,
   "metadata": {
    "ExecuteTime": {
     "end_time": "2023-05-16T08:54:29.024623Z",
     "start_time": "2023-05-16T08:54:28.838514Z"
    },
    "colab": {
     "base_uri": "https://localhost:8080/",
     "height": 483
    },
    "id": "IavJcIuDT0s6",
    "outputId": "7b64dce3-ac44-4be5-a362-3cc0281319de"
   },
   "outputs": [
    {
     "data": {
      "image/png": "[encoded data removed]",
      "text/plain": [
       "<Figure size 1000x800 with 2 Axes>"
      ]
     },
     "metadata": {},
     "output_type": "display_data"
    }
   ],
   "source": [
    "# Obtaining the categorical values from y_test_encoded and y_pred\n",
    "y_pred_arg=np.argmax(y_pred,axis=1)\n",
    "y_test_arg=np.argmax(y_test_encoded,axis=1)\n",
    "\n",
    "# Plotting the Confusion Matrix using confusion matrix() function which is also predefined tensorflow module\n",
    "confusion_matrix = tf.math.confusion_matrix(y_test_arg,y_pred_arg)\n",
    "f, ax = plt.subplots(figsize=(10, 8))\n",
    "sns.heatmap(\n",
    "    confusion_matrix,\n",
    "    annot=True,\n",
    "    linewidths=.4,\n",
    "    fmt=\"d\",\n",
    "    square=True,\n",
    "    ax=ax\n",
    ")\n",
    "plt.show()"
   ]
  },
  {
   "cell_type": "markdown",
   "metadata": {
    "id": "L3rR9A-hk86M"
   },
   "source": [
    "We observe that most of the classes are predicted correctly. \n",
    "\n",
    "The misclassification mostly with the the digits 4 and 8, which are confused with digit 9, and digit 2, which is confused with digit 7."
   ]
  },
  {
   "cell_type": "markdown",
   "metadata": {
    "id": "SkcMjc34AW_7"
   },
   "source": [
    "## **Comparing the number of parameters in ANNs and CNNs**\n",
    "\n",
    "- The total number of trainable parameters in the ANN were: 79,510.\n",
    "- The total number of trainable parameters in the CNN are: 80,662.\n",
    "- For the ANN model, we had to flatten our input image of size (28,28,1) to (784,1). This was followed by two dense layers with the same number of nodes that we used while building the CNN Model.\n",
    "- **Using just 2 dense layers after Flatten() in the ANN model, resulted in nearly the same number of parameters as the whole CNN model, despite the CNN having the added advantage of multiple convolution layers for feature extraction.**\n",
    "\n",
    "**This should give a sense for why it makes much more sense to use CNNs for image prediction tasks**, not only because they have added advantages to make use of the spatial nature of information in images, but because they are so much more computationally efficient."
   ]
  },
  {
   "cell_type": "code",
   "execution_count": null,
   "metadata": {},
   "outputs": [],
   "source": []
  }
 ],
 "metadata": {
  "accelerator": "GPU",
  "colab": {
   "collapsed_sections": [
    "mj3Skz2IkmfZ",
    "1kik69fBo7xp",
    "b5dNWxWPpEiv",
    "K23aF68_FHEw",
    "J0nAM75hf8KZ"
   ],
   "name": "3. The CNN Sequential Model.ipynb",
   "provenance": []
  },
  "kernelspec": {
   "display_name": "Python 3 (ipykernel)",
   "language": "python",
   "name": "python3"
  },
  "language_info": {
   "codemirror_mode": {
    "name": "ipython",
    "version": 3
   },
   "file_extension": ".py",
   "mimetype": "text/x-python",
   "name": "python",
   "nbconvert_exporter": "python",
   "pygments_lexer": "ipython3",
   "version": "3.10.9"
  },
  "varInspector": {
   "cols": {
    "lenName": 16,
    "lenType": 16,
    "lenVar": 40
   },
   "kernels_config": {
    "python": {
     "delete_cmd_postfix": "",
     "delete_cmd_prefix": "del ",
     "library": "var_list.py",
     "varRefreshCmd": "print(var_dic_list())"
    },
    "r": {
     "delete_cmd_postfix": ") ",
     "delete_cmd_prefix": "rm(",
     "library": "var_list.r",
     "varRefreshCmd": "cat(var_dic_list()) "
    }
   },
   "types_to_exclude": [
    "module",
    "function",
    "builtin_function_or_method",
    "instance",
    "_Feature"
   ],
   "window_display": false
  }
 },
 "nbformat": 4,
 "nbformat_minor": 1
}
