{
 "cells": [
  {
   "cell_type": "markdown",
   "metadata": {
    "id": "IIfOydFLJIaI"
   },
   "source": [
    "--------------------------------------------------------------------------------------------------\n",
    "# **University Admission Prediction**\n",
    "--------------------------------------------------------------------------------------------------"
   ]
  },
  {
   "cell_type": "markdown",
   "metadata": {
    "id": "9s4YOTYtdsPc"
   },
   "source": [
    "--------------------\n",
    "## **Context**\n",
    "--------------------\n",
    "\n",
    "The world is developing rapidly and continuously looking for the best knowledge and experience among people. This motivates people all around the world to stand out in their jobs and look for higher degrees that can help them in improving their skills and knowledge. As a result, the number of students applying for Master's programs has increased substantially.\n",
    "\n",
    "The current admission dataset was created for the prediction of admissions into the University of California, Los Angeles (UCLA). It was built to help students in shortlisting universities based on their profiles. The predicted output gives them a fair idea about their chances of getting accepted.\n",
    "\n",
    "----------------------\n",
    "## **Objective**\n",
    "----------------------\n",
    "\n",
    "We need to build a classification model using neural networks to predict a student's chances of admission into UCLA.\n",
    "\n",
    "------------------------------\n",
    "## **Data Dictionary**\n",
    "------------------------------\n",
    "\n",
    "The dataset contains several features which are considered important during the application for Masters Programs.\n",
    "The features included are: \n",
    "\n",
    "- **GRE Scores:** (out of 340)\n",
    "\n",
    "- **TOEFL Scores:** (out of 120)\n",
    "\n",
    "- **University Rating:**  It indicates the Bachelor University ranking (out of 5)\n",
    "\n",
    "- **Statement of Purpose Strength:** (out of 5)\n",
    "\n",
    "- **Letter of Recommendation Strength:** (out of 5)\n",
    "\n",
    "- **Undergraduate GPA:** (out of 10)\n",
    "\n",
    "- **Research Experience:** (either 0 or 1)\n",
    "\n",
    "- **Chance of Admit:** (ranging from 0 to 1)"
   ]
  },
  {
   "cell_type": "markdown",
   "metadata": {
    "id": "RUNw9Lh-mZHQ"
   },
   "source": [
    "## **Loading the libraries and the dataset**"
   ]
  },
  {
   "cell_type": "markdown",
   "metadata": {
    "id": "Ycku3MMOwTGZ"
   },
   "source": [
    "We will be using **Google Colab** to run this notebook. \n",
    "\n",
    "First, let's **import the data** so that Colab can access the dataset. One way to load the data in Colab is by uploading the dataset directly in the notebook. The following code does just that.\n",
    "Once you run the cell, it would ask you to choose the file from your local system."
   ]
  },
  {
   "cell_type": "code",
   "execution_count": 1,
   "metadata": {
    "ExecuteTime": {
     "end_time": "2023-05-15T21:50:34.325628Z",
     "start_time": "2023-05-15T21:50:32.245122Z"
    },
    "id": "CK_nbUDBmX2E"
   },
   "outputs": [],
   "source": [
    "import numpy as np\n",
    "\n",
    "import pandas as pd\n",
    "\n",
    "import matplotlib.pyplot as plt\n",
    "\n",
    "import seaborn as sns\n",
    "\n",
    "from sklearn.model_selection import train_test_split\n",
    "\n",
    "from sklearn.preprocessing import MinMaxScaler\n",
    "\n",
    "import tensorflow as tf\n",
    "\n",
    "from tensorflow.keras.models import Sequential\n",
    "\n",
    "from tensorflow.keras.layers import Dense, Dropout, Activation"
   ]
  },
  {
   "cell_type": "code",
   "execution_count": 2,
   "metadata": {
    "ExecuteTime": {
     "end_time": "2023-05-15T21:50:35.660558Z",
     "start_time": "2023-05-15T21:50:35.638873Z"
    },
    "colab": {
     "base_uri": "https://localhost:8080/",
     "height": 206
    },
    "id": "cF6d_Z6B2CpB",
    "outputId": "4e63f3bc-3394-4673-d62c-e42a8c57e9fd"
   },
   "outputs": [
    {
     "data": {
      "text/html": [
       "<div><div id=1e266564-b644-4b74-98cd-50bc2e3d45b6 style=\"display:none; background-color:#9D6CFF; color:white; width:200px; height:30px; padding-left:5px; border-radius:4px; flex-direction:row; justify-content:space-around; align-items:center;\" onmouseover=\"this.style.backgroundColor='#BA9BF8'\" onmouseout=\"this.style.backgroundColor='#9D6CFF'\" onclick=\"window.commands?.execute('create-mitosheet-from-dataframe-output');\">See Full Dataframe in Mito</div> <script> if (window.commands?.hasCommand('create-mitosheet-from-dataframe-output')) document.getElementById('1e266564-b644-4b74-98cd-50bc2e3d45b6').style.display = 'flex' </script> <table border=\"1\" class=\"dataframe\">\n",
       "  <thead>\n",
       "    <tr style=\"text-align: right;\">\n",
       "      <th></th>\n",
       "      <th>Serial No.</th>\n",
       "      <th>GRE Score</th>\n",
       "      <th>TOEFL Score</th>\n",
       "      <th>University Rating</th>\n",
       "      <th>SOP</th>\n",
       "      <th>LOR</th>\n",
       "      <th>CGPA</th>\n",
       "      <th>Research</th>\n",
       "      <th>Chance of Admit</th>\n",
       "    </tr>\n",
       "  </thead>\n",
       "  <tbody>\n",
       "    <tr>\n",
       "      <th>0</th>\n",
       "      <td>1</td>\n",
       "      <td>337</td>\n",
       "      <td>118</td>\n",
       "      <td>4</td>\n",
       "      <td>4.5</td>\n",
       "      <td>4.5</td>\n",
       "      <td>9.65</td>\n",
       "      <td>1</td>\n",
       "      <td>0.92</td>\n",
       "    </tr>\n",
       "    <tr>\n",
       "      <th>1</th>\n",
       "      <td>2</td>\n",
       "      <td>324</td>\n",
       "      <td>107</td>\n",
       "      <td>4</td>\n",
       "      <td>4.0</td>\n",
       "      <td>4.5</td>\n",
       "      <td>8.87</td>\n",
       "      <td>1</td>\n",
       "      <td>0.76</td>\n",
       "    </tr>\n",
       "    <tr>\n",
       "      <th>2</th>\n",
       "      <td>3</td>\n",
       "      <td>316</td>\n",
       "      <td>104</td>\n",
       "      <td>3</td>\n",
       "      <td>3.0</td>\n",
       "      <td>3.5</td>\n",
       "      <td>8.00</td>\n",
       "      <td>1</td>\n",
       "      <td>0.72</td>\n",
       "    </tr>\n",
       "    <tr>\n",
       "      <th>3</th>\n",
       "      <td>4</td>\n",
       "      <td>322</td>\n",
       "      <td>110</td>\n",
       "      <td>3</td>\n",
       "      <td>3.5</td>\n",
       "      <td>2.5</td>\n",
       "      <td>8.67</td>\n",
       "      <td>1</td>\n",
       "      <td>0.80</td>\n",
       "    </tr>\n",
       "    <tr>\n",
       "      <th>4</th>\n",
       "      <td>5</td>\n",
       "      <td>314</td>\n",
       "      <td>103</td>\n",
       "      <td>2</td>\n",
       "      <td>2.0</td>\n",
       "      <td>3.0</td>\n",
       "      <td>8.21</td>\n",
       "      <td>0</td>\n",
       "      <td>0.65</td>\n",
       "    </tr>\n",
       "  </tbody>\n",
       "</table></div>"
      ],
      "text/plain": [
       "   Serial No.  GRE Score  TOEFL Score  University Rating  SOP  LOR   CGPA  \\\n",
       "0           1        337          118                  4  4.5   4.5  9.65   \n",
       "1           2        324          107                  4  4.0   4.5  8.87   \n",
       "2           3        316          104                  3  3.0   3.5  8.00   \n",
       "3           4        322          110                  3  3.5   2.5  8.67   \n",
       "4           5        314          103                  2  2.0   3.0  8.21   \n",
       "\n",
       "   Research  Chance of Admit   \n",
       "0         1              0.92  \n",
       "1         1              0.76  \n",
       "2         1              0.72  \n",
       "3         1              0.80  \n",
       "4         0              0.65  "
      ]
     },
     "execution_count": 2,
     "metadata": {},
     "output_type": "execute_result"
    }
   ],
   "source": [
    "# Importing the dataset\n",
    "data = pd.read_csv('Admission_Predict.csv')\n",
    "\n",
    "# Check the top five records of the data\n",
    "data.head()"
   ]
  },
  {
   "cell_type": "markdown",
   "metadata": {
    "id": "yVsWWzVw2brU"
   },
   "source": [
    "- In the above dataset, the target variable is **Chance of Admit**.\n",
    "- To make this a classification task, let's convert the target variable into a categorical variable by using a threshold of 80%.\n",
    "- We are assuming that if **Chance of Admit** is more than 80%, then **Admit** would be 1 (i.e., yes), otherwise, it would be 0 (i.e., no)."
   ]
  },
  {
   "cell_type": "code",
   "execution_count": 3,
   "metadata": {
    "ExecuteTime": {
     "end_time": "2023-05-15T21:50:38.030813Z",
     "start_time": "2023-05-15T21:50:38.022613Z"
    },
    "id": "HLxtOrbw2ZLS"
   },
   "outputs": [],
   "source": [
    "# Converting the target variable into a categorical variable\n",
    "data['Admit'] = data['Chance of Admit '].apply(lambda x: 1 if x > 0.8 else 0)"
   ]
  },
  {
   "cell_type": "markdown",
   "metadata": {
    "id": "CY4KERF63aAY"
   },
   "source": [
    "Now that we have created a new target variable, we can remove the column - **Chance of Admit** from the dataset. We can also remove the column - **Serial No.** as it would not add any value to our analysis."
   ]
  },
  {
   "cell_type": "code",
   "execution_count": 4,
   "metadata": {
    "ExecuteTime": {
     "end_time": "2023-05-15T21:50:39.018124Z",
     "start_time": "2023-05-15T21:50:38.998107Z"
    },
    "colab": {
     "base_uri": "https://localhost:8080/",
     "height": 206
    },
    "id": "XGCid1us3jRJ",
    "outputId": "8d6039d2-a27a-439a-94b5-a0a01b2ac97e"
   },
   "outputs": [
    {
     "data": {
      "text/html": [
       "<div><div id=afbcaa74-79c9-45de-913d-6e9bc108a8f3 style=\"display:none; background-color:#9D6CFF; color:white; width:200px; height:30px; padding-left:5px; border-radius:4px; flex-direction:row; justify-content:space-around; align-items:center;\" onmouseover=\"this.style.backgroundColor='#BA9BF8'\" onmouseout=\"this.style.backgroundColor='#9D6CFF'\" onclick=\"window.commands?.execute('create-mitosheet-from-dataframe-output');\">See Full Dataframe in Mito</div> <script> if (window.commands?.hasCommand('create-mitosheet-from-dataframe-output')) document.getElementById('afbcaa74-79c9-45de-913d-6e9bc108a8f3').style.display = 'flex' </script> <table border=\"1\" class=\"dataframe\">\n",
       "  <thead>\n",
       "    <tr style=\"text-align: right;\">\n",
       "      <th></th>\n",
       "      <th>GRE Score</th>\n",
       "      <th>TOEFL Score</th>\n",
       "      <th>University Rating</th>\n",
       "      <th>SOP</th>\n",
       "      <th>LOR</th>\n",
       "      <th>CGPA</th>\n",
       "      <th>Research</th>\n",
       "      <th>Admit</th>\n",
       "    </tr>\n",
       "  </thead>\n",
       "  <tbody>\n",
       "    <tr>\n",
       "      <th>0</th>\n",
       "      <td>337</td>\n",
       "      <td>118</td>\n",
       "      <td>4</td>\n",
       "      <td>4.5</td>\n",
       "      <td>4.5</td>\n",
       "      <td>9.65</td>\n",
       "      <td>1</td>\n",
       "      <td>1</td>\n",
       "    </tr>\n",
       "    <tr>\n",
       "      <th>1</th>\n",
       "      <td>324</td>\n",
       "      <td>107</td>\n",
       "      <td>4</td>\n",
       "      <td>4.0</td>\n",
       "      <td>4.5</td>\n",
       "      <td>8.87</td>\n",
       "      <td>1</td>\n",
       "      <td>0</td>\n",
       "    </tr>\n",
       "    <tr>\n",
       "      <th>2</th>\n",
       "      <td>316</td>\n",
       "      <td>104</td>\n",
       "      <td>3</td>\n",
       "      <td>3.0</td>\n",
       "      <td>3.5</td>\n",
       "      <td>8.00</td>\n",
       "      <td>1</td>\n",
       "      <td>0</td>\n",
       "    </tr>\n",
       "    <tr>\n",
       "      <th>3</th>\n",
       "      <td>322</td>\n",
       "      <td>110</td>\n",
       "      <td>3</td>\n",
       "      <td>3.5</td>\n",
       "      <td>2.5</td>\n",
       "      <td>8.67</td>\n",
       "      <td>1</td>\n",
       "      <td>0</td>\n",
       "    </tr>\n",
       "    <tr>\n",
       "      <th>4</th>\n",
       "      <td>314</td>\n",
       "      <td>103</td>\n",
       "      <td>2</td>\n",
       "      <td>2.0</td>\n",
       "      <td>3.0</td>\n",
       "      <td>8.21</td>\n",
       "      <td>0</td>\n",
       "      <td>0</td>\n",
       "    </tr>\n",
       "  </tbody>\n",
       "</table></div>"
      ],
      "text/plain": [
       "   GRE Score  TOEFL Score  University Rating  SOP  LOR   CGPA  Research  Admit\n",
       "0        337          118                  4  4.5   4.5  9.65         1      1\n",
       "1        324          107                  4  4.0   4.5  8.87         1      0\n",
       "2        316          104                  3  3.0   3.5  8.00         1      0\n",
       "3        322          110                  3  3.5   2.5  8.67         1      0\n",
       "4        314          103                  2  2.0   3.0  8.21         0      0"
      ]
     },
     "execution_count": 4,
     "metadata": {},
     "output_type": "execute_result"
    }
   ],
   "source": [
    "# Dropping columns\n",
    "data = data.drop(['Serial No.', 'Chance of Admit '], axis = 1)\n",
    "\n",
    "data.head()"
   ]
  },
  {
   "cell_type": "markdown",
   "metadata": {},
   "source": [
    "## **Exploratory Data Analysis**"
   ]
  },
  {
   "cell_type": "code",
   "execution_count": 5,
   "metadata": {
    "ExecuteTime": {
     "end_time": "2023-05-15T21:50:40.088968Z",
     "start_time": "2023-05-15T21:50:40.072488Z"
    },
    "colab": {
     "base_uri": "https://localhost:8080/"
    },
    "id": "Y5wPX0lb3wRU",
    "outputId": "dc83e5e5-bdc8-48e3-a91e-23d72d333e04"
   },
   "outputs": [
    {
     "name": "stdout",
     "output_type": "stream",
     "text": [
      "<class 'pandas.core.frame.DataFrame'>\n",
      "RangeIndex: 500 entries, 0 to 499\n",
      "Data columns (total 8 columns):\n",
      " #   Column             Non-Null Count  Dtype  \n",
      "---  ------             --------------  -----  \n",
      " 0   GRE Score          500 non-null    int64  \n",
      " 1   TOEFL Score        500 non-null    int64  \n",
      " 2   University Rating  500 non-null    int64  \n",
      " 3   SOP                500 non-null    float64\n",
      " 4   LOR                500 non-null    float64\n",
      " 5   CGPA               500 non-null    float64\n",
      " 6   Research           500 non-null    int64  \n",
      " 7   Admit              500 non-null    int64  \n",
      "dtypes: float64(3), int64(5)\n",
      "memory usage: 31.4 KB\n"
     ]
    }
   ],
   "source": [
    "# Let's check the info of the data\n",
    "data.info()"
   ]
  },
  {
   "cell_type": "markdown",
   "metadata": {
    "id": "cBQS9b56DC2_"
   },
   "source": [
    "**Observations:**\n",
    "\n",
    "- There are **500 observations and 8 columns** in the data.\n",
    "- All the columns are of **numeric data** type.\n",
    "- There are **no missing values** in the data."
   ]
  },
  {
   "cell_type": "markdown",
   "metadata": {},
   "source": [
    "### **Summary Statistics**"
   ]
  },
  {
   "cell_type": "code",
   "execution_count": 6,
   "metadata": {
    "ExecuteTime": {
     "end_time": "2023-05-15T21:50:42.067232Z",
     "start_time": "2023-05-15T21:50:42.034334Z"
    },
    "colab": {
     "base_uri": "https://localhost:8080/",
     "height": 300
    },
    "id": "WpdM4iC0DwPJ",
    "outputId": "40de6762-5bc0-47b6-f00a-fce237e323d0"
   },
   "outputs": [
    {
     "data": {
      "text/html": [
       "<div><div id=8c03b1e5-0d8a-452f-881b-20ff527ba828 style=\"display:none; background-color:#9D6CFF; color:white; width:200px; height:30px; padding-left:5px; border-radius:4px; flex-direction:row; justify-content:space-around; align-items:center;\" onmouseover=\"this.style.backgroundColor='#BA9BF8'\" onmouseout=\"this.style.backgroundColor='#9D6CFF'\" onclick=\"window.commands?.execute('create-mitosheet-from-dataframe-output');\">See Full Dataframe in Mito</div> <script> if (window.commands?.hasCommand('create-mitosheet-from-dataframe-output')) document.getElementById('8c03b1e5-0d8a-452f-881b-20ff527ba828').style.display = 'flex' </script> <table border=\"1\" class=\"dataframe\">\n",
       "  <thead>\n",
       "    <tr style=\"text-align: right;\">\n",
       "      <th></th>\n",
       "      <th>count</th>\n",
       "      <th>mean</th>\n",
       "      <th>std</th>\n",
       "      <th>min</th>\n",
       "      <th>25%</th>\n",
       "      <th>50%</th>\n",
       "      <th>75%</th>\n",
       "      <th>max</th>\n",
       "    </tr>\n",
       "  </thead>\n",
       "  <tbody>\n",
       "    <tr>\n",
       "      <th>GRE Score</th>\n",
       "      <td>500.0</td>\n",
       "      <td>316.47200</td>\n",
       "      <td>11.295148</td>\n",
       "      <td>290.0</td>\n",
       "      <td>308.0000</td>\n",
       "      <td>317.00</td>\n",
       "      <td>325.00</td>\n",
       "      <td>340.00</td>\n",
       "    </tr>\n",
       "    <tr>\n",
       "      <th>TOEFL Score</th>\n",
       "      <td>500.0</td>\n",
       "      <td>107.19200</td>\n",
       "      <td>6.081868</td>\n",
       "      <td>92.0</td>\n",
       "      <td>103.0000</td>\n",
       "      <td>107.00</td>\n",
       "      <td>112.00</td>\n",
       "      <td>120.00</td>\n",
       "    </tr>\n",
       "    <tr>\n",
       "      <th>University Rating</th>\n",
       "      <td>500.0</td>\n",
       "      <td>3.11400</td>\n",
       "      <td>1.143512</td>\n",
       "      <td>1.0</td>\n",
       "      <td>2.0000</td>\n",
       "      <td>3.00</td>\n",
       "      <td>4.00</td>\n",
       "      <td>5.00</td>\n",
       "    </tr>\n",
       "    <tr>\n",
       "      <th>SOP</th>\n",
       "      <td>500.0</td>\n",
       "      <td>3.37400</td>\n",
       "      <td>0.991004</td>\n",
       "      <td>1.0</td>\n",
       "      <td>2.5000</td>\n",
       "      <td>3.50</td>\n",
       "      <td>4.00</td>\n",
       "      <td>5.00</td>\n",
       "    </tr>\n",
       "    <tr>\n",
       "      <th>LOR</th>\n",
       "      <td>500.0</td>\n",
       "      <td>3.48400</td>\n",
       "      <td>0.925450</td>\n",
       "      <td>1.0</td>\n",
       "      <td>3.0000</td>\n",
       "      <td>3.50</td>\n",
       "      <td>4.00</td>\n",
       "      <td>5.00</td>\n",
       "    </tr>\n",
       "    <tr>\n",
       "      <th>CGPA</th>\n",
       "      <td>500.0</td>\n",
       "      <td>8.57644</td>\n",
       "      <td>0.604813</td>\n",
       "      <td>6.8</td>\n",
       "      <td>8.1275</td>\n",
       "      <td>8.56</td>\n",
       "      <td>9.04</td>\n",
       "      <td>9.92</td>\n",
       "    </tr>\n",
       "    <tr>\n",
       "      <th>Research</th>\n",
       "      <td>500.0</td>\n",
       "      <td>0.56000</td>\n",
       "      <td>0.496884</td>\n",
       "      <td>0.0</td>\n",
       "      <td>0.0000</td>\n",
       "      <td>1.00</td>\n",
       "      <td>1.00</td>\n",
       "      <td>1.00</td>\n",
       "    </tr>\n",
       "    <tr>\n",
       "      <th>Admit</th>\n",
       "      <td>500.0</td>\n",
       "      <td>0.28400</td>\n",
       "      <td>0.451388</td>\n",
       "      <td>0.0</td>\n",
       "      <td>0.0000</td>\n",
       "      <td>0.00</td>\n",
       "      <td>1.00</td>\n",
       "      <td>1.00</td>\n",
       "    </tr>\n",
       "  </tbody>\n",
       "</table></div>"
      ],
      "text/plain": [
       "                   count       mean        std    min       25%     50%  \\\n",
       "GRE Score          500.0  316.47200  11.295148  290.0  308.0000  317.00   \n",
       "TOEFL Score        500.0  107.19200   6.081868   92.0  103.0000  107.00   \n",
       "University Rating  500.0    3.11400   1.143512    1.0    2.0000    3.00   \n",
       "SOP                500.0    3.37400   0.991004    1.0    2.5000    3.50   \n",
       "LOR                500.0    3.48400   0.925450    1.0    3.0000    3.50   \n",
       "CGPA               500.0    8.57644   0.604813    6.8    8.1275    8.56   \n",
       "Research           500.0    0.56000   0.496884    0.0    0.0000    1.00   \n",
       "Admit              500.0    0.28400   0.451388    0.0    0.0000    0.00   \n",
       "\n",
       "                      75%     max  \n",
       "GRE Score          325.00  340.00  \n",
       "TOEFL Score        112.00  120.00  \n",
       "University Rating    4.00    5.00  \n",
       "SOP                  4.00    5.00  \n",
       "LOR                  4.00    5.00  \n",
       "CGPA                 9.04    9.92  \n",
       "Research             1.00    1.00  \n",
       "Admit                1.00    1.00  "
      ]
     },
     "execution_count": 6,
     "metadata": {},
     "output_type": "execute_result"
    }
   ],
   "source": [
    "# Let's check the summary statistics of the data\n",
    "data.describe().T"
   ]
  },
  {
   "cell_type": "markdown",
   "metadata": {
    "id": "Dwro2RclD222"
   },
   "source": [
    "**Observations:**\n",
    "\n",
    "- The average GRE score of students applying for UCLA is ~ 316 out of 340. Some students scored full marks on GRE. \n",
    "- The average TOEFL score of students applying for UCLA is ~ 107 out of 120. Some students scored full marks on TOEFL.\n",
    "- There are students with all kinds of ratings for bachelor's University, SOP, and LOR - ratings ranging from 1 to 5.\n",
    "- The average CGPA of students applying for UCLA is 8.57.\n",
    "- Majority of students (~ 56%) have research experience.\n",
    "- As per our assumption, on average, 28.4% of students would get admission to UCLA."
   ]
  },
  {
   "cell_type": "markdown",
   "metadata": {
    "id": "fhotGVGD4hgT"
   },
   "source": [
    "### **Let's visualize the dataset to see some patterns**"
   ]
  },
  {
   "cell_type": "code",
   "execution_count": 7,
   "metadata": {
    "ExecuteTime": {
     "end_time": "2023-05-15T21:50:43.833163Z",
     "start_time": "2023-05-15T21:50:43.593216Z"
    },
    "colab": {
     "base_uri": "https://localhost:8080/",
     "height": 514
    },
    "id": "vwTqs3205Zk6",
    "outputId": "90bd9ad8-be8a-4305-f8d8-5a26e955cf88"
   },
   "outputs": [
    {
     "data": {
      "text/plain": [
       "<Axes: xlabel='GRE Score', ylabel='TOEFL Score'>"
      ]
     },
     "execution_count": 7,
     "metadata": {},
     "output_type": "execute_result"
    },
    {
     "data": {
      "image/png": "[encoded data removed]",
      "text/plain": [
       "<Figure size 1500x800 with 1 Axes>"
      ]
     },
     "metadata": {},
     "output_type": "display_data"
    }
   ],
   "source": [
    "plt.figure(figsize = (15, 8))\n",
    "\n",
    "sns.scatterplot(data = data,\n",
    "                 \n",
    "           x = 'GRE Score',\n",
    "\n",
    "           y = 'TOEFL Score',\n",
    "\n",
    "           hue = 'Admit',\n",
    "\n",
    "           size = 'SOP')"
   ]
  },
  {
   "cell_type": "markdown",
   "metadata": {
    "id": "csxwJUu4Kmj4"
   },
   "source": [
    "**Observations:** \n",
    "\n",
    "- There is a linear relationship between GRE and TOEFL scores. This implies that students scoring high in one of them would score high in the other as well.\n",
    "- With the increase in GRE and TOEFL scores, the strength of SOP increases. \n",
    "- We can see a distinction between students who were admitted (denoted by orange) vs those who were not admitted (denoted by blue). We can see that the majority of students, who were admitted, have GRE scores greater than 320, TOEFL score greater than 105, and SOP of 4 or higher."
   ]
  },
  {
   "cell_type": "code",
   "execution_count": 8,
   "metadata": {
    "ExecuteTime": {
     "end_time": "2023-05-15T21:50:45.979821Z",
     "start_time": "2023-05-15T21:50:45.813027Z"
    },
    "colab": {
     "base_uri": "https://localhost:8080/",
     "height": 458
    },
    "id": "cEOrIzXp4m4L",
    "outputId": "fd7f6557-c30c-481e-98cf-3d6ffb5c0489"
   },
   "outputs": [
    {
     "data": {
      "image/png": "[encoded data removed]",
      "text/plain": [
       "<Figure size 1000x700 with 1 Axes>"
      ]
     },
     "metadata": {},
     "output_type": "display_data"
    }
   ],
   "source": [
    "plt.figure(figsize = (10, 7))\n",
    "\n",
    "sns.boxplot(data = data,\n",
    "            \n",
    "             x = 'University Rating', \n",
    "            \n",
    "             y = 'CGPA',\n",
    "            \n",
    "             hue = 'Admit')\n",
    "\n",
    "plt.title('Relationship between different University Rating and CGPA')\n",
    "\n",
    "plt.show()"
   ]
  },
  {
   "cell_type": "markdown",
   "metadata": {
    "id": "qphs_7DPMb05"
   },
   "source": [
    "**Observations:** \n",
    "\n",
    "- We can see that, with increasing university ratings, the CGPA is also increasing, and also the chances of getting admitted to UCLA have increased.\n",
    "- The CGPA of students getting admission to UCLA is higher as compared to students not getting admission to UCLA which makes sense."
   ]
  },
  {
   "cell_type": "markdown",
   "metadata": {
    "id": "ZZP_r2sD7B0P"
   },
   "source": [
    "## **Data Preparation**"
   ]
  },
  {
   "cell_type": "markdown",
   "metadata": {
    "id": "5N2uA8r4MwX6"
   },
   "source": [
    "This dataset contains both numerical and categorical variables. We need to treat them before we pass them onto the neural network. We will perform the below pre-processing steps: \n",
    "*   One hot encoding of categorical variables\n",
    "*   Scaling numerical variables\n",
    "\n",
    "An important point to remember: Before we scale numerical variables, we would first split the dataset into train and test datasets and perform scaling separately. Otherwise, we would be leaking information from the test data to the train data and the resulting model might give a false sense of good performance. This is known as **data leakage** which we would like to avoid."
   ]
  },
  {
   "cell_type": "markdown",
   "metadata": {
    "id": "8kYCXX6UN7rE"
   },
   "source": [
    "In this dataset, although the variable **University Rating** is encoded as a numerical variable. But it is denoting or signifying the quality of the university, so that is why this is a categorical variable and we would be creating one-hot encoding or dummy variables for this variable."
   ]
  },
  {
   "cell_type": "code",
   "execution_count": 9,
   "metadata": {
    "ExecuteTime": {
     "end_time": "2023-05-15T21:50:50.153394Z",
     "start_time": "2023-05-15T21:50:50.133521Z"
    },
    "colab": {
     "base_uri": "https://localhost:8080/",
     "height": 206
    },
    "id": "FHbuFLR-7EeE",
    "outputId": "701693f4-6fbd-4be9-ee3e-5f6608cf56a0"
   },
   "outputs": [
    {
     "data": {
      "text/html": [
       "<div><div id=01b1bca5-0d4b-421f-ab07-1d655dfc55cf style=\"display:none; background-color:#9D6CFF; color:white; width:200px; height:30px; padding-left:5px; border-radius:4px; flex-direction:row; justify-content:space-around; align-items:center;\" onmouseover=\"this.style.backgroundColor='#BA9BF8'\" onmouseout=\"this.style.backgroundColor='#9D6CFF'\" onclick=\"window.commands?.execute('create-mitosheet-from-dataframe-output');\">See Full Dataframe in Mito</div> <script> if (window.commands?.hasCommand('create-mitosheet-from-dataframe-output')) document.getElementById('01b1bca5-0d4b-421f-ab07-1d655dfc55cf').style.display = 'flex' </script> <table border=\"1\" class=\"dataframe\">\n",
       "  <thead>\n",
       "    <tr style=\"text-align: right;\">\n",
       "      <th></th>\n",
       "      <th>GRE Score</th>\n",
       "      <th>TOEFL Score</th>\n",
       "      <th>SOP</th>\n",
       "      <th>LOR</th>\n",
       "      <th>CGPA</th>\n",
       "      <th>Research</th>\n",
       "      <th>Admit</th>\n",
       "      <th>University Rating_1</th>\n",
       "      <th>University Rating_2</th>\n",
       "      <th>University Rating_3</th>\n",
       "      <th>University Rating_4</th>\n",
       "      <th>University Rating_5</th>\n",
       "    </tr>\n",
       "  </thead>\n",
       "  <tbody>\n",
       "    <tr>\n",
       "      <th>0</th>\n",
       "      <td>337</td>\n",
       "      <td>118</td>\n",
       "      <td>4.5</td>\n",
       "      <td>4.5</td>\n",
       "      <td>9.65</td>\n",
       "      <td>1</td>\n",
       "      <td>1</td>\n",
       "      <td>0</td>\n",
       "      <td>0</td>\n",
       "      <td>0</td>\n",
       "      <td>1</td>\n",
       "      <td>0</td>\n",
       "    </tr>\n",
       "    <tr>\n",
       "      <th>1</th>\n",
       "      <td>324</td>\n",
       "      <td>107</td>\n",
       "      <td>4.0</td>\n",
       "      <td>4.5</td>\n",
       "      <td>8.87</td>\n",
       "      <td>1</td>\n",
       "      <td>0</td>\n",
       "      <td>0</td>\n",
       "      <td>0</td>\n",
       "      <td>0</td>\n",
       "      <td>1</td>\n",
       "      <td>0</td>\n",
       "    </tr>\n",
       "    <tr>\n",
       "      <th>2</th>\n",
       "      <td>316</td>\n",
       "      <td>104</td>\n",
       "      <td>3.0</td>\n",
       "      <td>3.5</td>\n",
       "      <td>8.00</td>\n",
       "      <td>1</td>\n",
       "      <td>0</td>\n",
       "      <td>0</td>\n",
       "      <td>0</td>\n",
       "      <td>1</td>\n",
       "      <td>0</td>\n",
       "      <td>0</td>\n",
       "    </tr>\n",
       "    <tr>\n",
       "      <th>3</th>\n",
       "      <td>322</td>\n",
       "      <td>110</td>\n",
       "      <td>3.5</td>\n",
       "      <td>2.5</td>\n",
       "      <td>8.67</td>\n",
       "      <td>1</td>\n",
       "      <td>0</td>\n",
       "      <td>0</td>\n",
       "      <td>0</td>\n",
       "      <td>1</td>\n",
       "      <td>0</td>\n",
       "      <td>0</td>\n",
       "    </tr>\n",
       "    <tr>\n",
       "      <th>4</th>\n",
       "      <td>314</td>\n",
       "      <td>103</td>\n",
       "      <td>2.0</td>\n",
       "      <td>3.0</td>\n",
       "      <td>8.21</td>\n",
       "      <td>0</td>\n",
       "      <td>0</td>\n",
       "      <td>0</td>\n",
       "      <td>1</td>\n",
       "      <td>0</td>\n",
       "      <td>0</td>\n",
       "      <td>0</td>\n",
       "    </tr>\n",
       "  </tbody>\n",
       "</table></div>"
      ],
      "text/plain": [
       "   GRE Score  TOEFL Score  SOP  LOR   CGPA  Research  Admit  \\\n",
       "0        337          118  4.5   4.5  9.65         1      1   \n",
       "1        324          107  4.0   4.5  8.87         1      0   \n",
       "2        316          104  3.0   3.5  8.00         1      0   \n",
       "3        322          110  3.5   2.5  8.67         1      0   \n",
       "4        314          103  2.0   3.0  8.21         0      0   \n",
       "\n",
       "   University Rating_1  University Rating_2  University Rating_3  \\\n",
       "0                    0                    0                    0   \n",
       "1                    0                    0                    0   \n",
       "2                    0                    0                    1   \n",
       "3                    0                    0                    1   \n",
       "4                    0                    1                    0   \n",
       "\n",
       "   University Rating_4  University Rating_5  \n",
       "0                    1                    0  \n",
       "1                    1                    0  \n",
       "2                    0                    0  \n",
       "3                    0                    0  \n",
       "4                    0                    0  "
      ]
     },
     "execution_count": 9,
     "metadata": {},
     "output_type": "execute_result"
    }
   ],
   "source": [
    "# Creating one-hot encoding for the column - \"University Rating\" and then dropping University Rating\n",
    "one_hot_data = pd.concat([data, pd.get_dummies(data['University Rating'], prefix = 'University Rating')], axis = 1)\n",
    "\n",
    "one_hot_data = one_hot_data.drop(columns = 'University Rating')\n",
    "\n",
    "one_hot_data.head()"
   ]
  },
  {
   "cell_type": "markdown",
   "metadata": {
    "id": "M3O6DOWXOWkn"
   },
   "source": [
    "Now, let's split the dataset into train and test datasets. To do that, we would be extracting all the **independent variables** and saving them into a variable **features**. And the target variable **Admit** would be saved into a variable **target**. These two variables will be used to split the parent dataset into train and test datasets."
   ]
  },
  {
   "cell_type": "code",
   "execution_count": 10,
   "metadata": {
    "ExecuteTime": {
     "end_time": "2023-05-15T21:50:51.365069Z",
     "start_time": "2023-05-15T21:50:51.358838Z"
    },
    "id": "7MQ2juQB8IuT"
   },
   "outputs": [],
   "source": [
    "features = one_hot_data.drop(['Admit'], axis = 1)\n",
    "\n",
    "target = one_hot_data['Admit']"
   ]
  },
  {
   "cell_type": "markdown",
   "metadata": {
    "id": "NuYQ0t2WcBLG"
   },
   "source": [
    "The size of the dataset is small and the Keras implementation provides an argument for selecting some percentage of training data as validation data to check the accuracy of the model. Therefore, we will split the data into an 80:20 ratio."
   ]
  },
  {
   "cell_type": "code",
   "execution_count": 11,
   "metadata": {
    "ExecuteTime": {
     "end_time": "2023-05-15T21:50:52.239413Z",
     "start_time": "2023-05-15T21:50:52.226435Z"
    },
    "id": "I8fE8aF_7hJY"
   },
   "outputs": [],
   "source": [
    "# Splitting the dataset into the train and the test data\n",
    "X_train, X_test, y_train, y_test =  train_test_split(features, target, test_size = 0.2, random_state = 42)"
   ]
  },
  {
   "cell_type": "markdown",
   "metadata": {
    "id": "U883DzGZOwpp"
   },
   "source": [
    "Now, we will perform scaling on the numerical variables separately for train and test sets. We will perform **fit** and **transform** on the train data and then we will only perform **transform** on the test data. "
   ]
  },
  {
   "cell_type": "code",
   "execution_count": 12,
   "metadata": {
    "ExecuteTime": {
     "end_time": "2023-05-15T21:50:53.098416Z",
     "start_time": "2023-05-15T21:50:53.084081Z"
    },
    "id": "mVdTFnkb8dfQ"
   },
   "outputs": [],
   "source": [
    "scaler = MinMaxScaler()\n",
    "\n",
    "# Here, we are passing all the features (numerical and categorical), that's okay as min-max scaler will not change values of categorical variables\n",
    "X_train_normalized = scaler.fit_transform(X_train)"
   ]
  },
  {
   "cell_type": "code",
   "execution_count": 13,
   "metadata": {
    "ExecuteTime": {
     "end_time": "2023-05-15T21:50:53.625108Z",
     "start_time": "2023-05-15T21:50:53.613318Z"
    },
    "id": "2VLYxAVu953T"
   },
   "outputs": [],
   "source": [
    "X_test_normalized = scaler.transform(X_test)"
   ]
  },
  {
   "cell_type": "markdown",
   "metadata": {
    "id": "X7VT_t5f9bwR"
   },
   "source": [
    "## **Model Building**"
   ]
  },
  {
   "cell_type": "markdown",
   "metadata": {
    "id": "hbltijMlPVVP"
   },
   "source": [
    "In neural networks, there are so many hyper-parameters that you can play around with and tune the network to get the best results. Some of them are: \n",
    "\n",
    "\n",
    "1.   Number of hidden layers\n",
    "2.   Number of neurons in each hidden layer\n",
    "3.   Activation functions in hidden layers\n",
    "4.   Optimizers\n",
    "5.   Random initialization of weights and biases\n",
    "6.   Batch size\n",
    "7.   Learning rate\n",
    "8.   Early stopping\n",
    "9.   L1 and L2 Regularization\n",
    "10.  Dropout\n",
    "11.  Momentum\n",
    "\n",
    "and so on..."
   ]
  },
  {
   "cell_type": "markdown",
   "metadata": {
    "id": "9YFaopNE_lpw"
   },
   "source": [
    "First, let's set the seed for random number generators in NumPy, Python, and TensorFlow to be able to reproduce the same results every time we run the code."
   ]
  },
  {
   "cell_type": "code",
   "execution_count": 14,
   "metadata": {
    "ExecuteTime": {
     "end_time": "2023-05-15T21:50:55.643786Z",
     "start_time": "2023-05-15T21:50:55.638089Z"
    },
    "id": "VTVs7lmH_hXx"
   },
   "outputs": [],
   "source": [
    "# Fixing the seed for random number generators\n",
    "np.random.seed(42)\n",
    "\n",
    "import random\n",
    "\n",
    "random.seed(42)\n",
    "\n",
    "tf.random.set_seed(42)"
   ]
  },
  {
   "cell_type": "markdown",
   "metadata": {
    "id": "tLsxcmgPQ_cG"
   },
   "source": [
    "Let's build a feed-forward neural network with 2 hidden layers and the output layer."
   ]
  },
  {
   "cell_type": "code",
   "execution_count": 15,
   "metadata": {
    "ExecuteTime": {
     "end_time": "2023-05-15T21:50:57.421716Z",
     "start_time": "2023-05-15T21:50:57.292703Z"
    },
    "id": "ytCsjy93BKbK"
   },
   "outputs": [
    {
     "name": "stdout",
     "output_type": "stream",
     "text": [
      "Metal device set to: Apple M1 Pro\n"
     ]
    },
    {
     "name": "stderr",
     "output_type": "stream",
     "text": [
      "2023-05-15 23:50:57.310136: I tensorflow/core/common_runtime/pluggable_device/pluggable_device_factory.cc:305] Could not identify NUMA node of platform GPU ID 0, defaulting to 0. Your kernel may not have been built with NUMA support.\n",
      "2023-05-15 23:50:57.310591: I tensorflow/core/common_runtime/pluggable_device/pluggable_device_factory.cc:271] Created TensorFlow device (/job:localhost/replica:0/task:0/device:GPU:0 with 0 MB memory) -> physical PluggableDevice (device: 0, name: METAL, pci bus id: <undefined>)\n"
     ]
    }
   ],
   "source": [
    "# We will be adding the layers sequentially\n",
    "model_1 = Sequential()\n",
    "\n",
    "# First hidden layer with 128 neurons and relu activation function, the input_shape tuple denotes number of independent variables\n",
    "model_1.add(Dense(128, activation = 'relu', input_shape = (11, )))\n",
    "\n",
    "# We will be switching 20% of neurons randomly at each iteration to avoid overfitting\n",
    "model_1.add(Dropout(0.2))\n",
    "\n",
    "# Second hidden layer with 64 neurons and relu activation function\n",
    "model_1.add(Dense(64, activation = 'relu'))\n",
    "\n",
    "# We will be switching 10% of neurons off randomly at each iteration to avoid \n",
    "model_1.add(Dropout(0.1))\n",
    "\n",
    "# Output layer with only one neuron and sigmoid as activation function which will give the probability of students getting admitted into UCLA  \n",
    "model_1.add(Dense(1, activation = 'sigmoid'))"
   ]
  },
  {
   "cell_type": "markdown",
   "metadata": {
    "id": "FvBhQn8ZR_HW"
   },
   "source": [
    "Once we are done with the model architecture, we need to compile the model, where we need to provide the loss function that we want to optimize, the optimization algorithm, and the evaluation metric that we are interested in to evaluate the model."
   ]
  },
  {
   "cell_type": "markdown",
   "metadata": {
    "id": "GAP99treSW_4"
   },
   "source": [
    "Since this is a binary classification task, we will be minimizing the **binary_crossentropy** and we can choose one optimizer out of \n",
    "1.   SGD\n",
    "2.   RMSprop\n",
    "3.   Adam\n",
    "4.   Adadelta\n",
    "5.   Adagrad\n",
    "6.   Adamax\n",
    "7.   Nadam\n",
    "8.   Ftrl\n",
    "\n",
    "This is a hyper-parameter. You can play around with these optimizers to check which one performs better with a particular data.\n",
    "\n",
    "For now, let's try **Adam** optimizer with **accuracy** as the metric and see the model's summary."
   ]
  },
  {
   "cell_type": "code",
   "execution_count": 16,
   "metadata": {
    "ExecuteTime": {
     "end_time": "2023-05-15T21:51:02.741798Z",
     "start_time": "2023-05-15T21:51:02.716664Z"
    }
   },
   "outputs": [
    {
     "name": "stdout",
     "output_type": "stream",
     "text": [
      "Model: \"sequential\"\n",
      "_________________________________________________________________\n",
      " Layer (type)                Output Shape              Param #   \n",
      "=================================================================\n",
      " dense (Dense)               (None, 128)               1536      \n",
      "                                                                 \n",
      " dropout (Dropout)           (None, 128)               0         \n",
      "                                                                 \n",
      " dense_1 (Dense)             (None, 64)                8256      \n",
      "                                                                 \n",
      " dropout_1 (Dropout)         (None, 64)                0         \n",
      "                                                                 \n",
      " dense_2 (Dense)             (None, 1)                 65        \n",
      "                                                                 \n",
      "=================================================================\n",
      "Total params: 9,857\n",
      "Trainable params: 9,857\n",
      "Non-trainable params: 0\n",
      "_________________________________________________________________\n"
     ]
    }
   ],
   "source": [
    "model_1.compile(loss = 'binary_crossentropy', optimizer = 'Adam', metrics = ['accuracy'])    \n",
    "model_1.summary()"
   ]
  },
  {
   "cell_type": "markdown",
   "metadata": {
    "id": "C7W9EYZnTP1P"
   },
   "source": [
    "From the above summary, we can see that this architecture will train a total of **9,857** parameters, i.e., weights and biases in the network."
   ]
  },
  {
   "cell_type": "markdown",
   "metadata": {
    "id": "4N6XAn6mA_BD"
   },
   "source": [
    "### **Training the model**"
   ]
  },
  {
   "cell_type": "markdown",
   "metadata": {
    "id": "hmZ5ZSIlUSVH"
   },
   "source": [
    "Let's now train the model using the below piece of code. We will keep 10% of the training data for validation."
   ]
  },
  {
   "cell_type": "code",
   "execution_count": 17,
   "metadata": {
    "ExecuteTime": {
     "end_time": "2023-05-15T21:51:21.700517Z",
     "start_time": "2023-05-15T21:51:05.588214Z"
    },
    "colab": {
     "base_uri": "https://localhost:8080/"
    },
    "id": "hkeCQ_K99nob",
    "outputId": "cfa0590c-c221-4d6d-8f38-a2394e667507",
    "scrolled": false
   },
   "outputs": [
    {
     "name": "stdout",
     "output_type": "stream",
     "text": [
      "Epoch 1/150\n"
     ]
    },
    {
     "name": "stderr",
     "output_type": "stream",
     "text": [
      "2023-05-15 23:51:05.637932: W tensorflow/core/platform/profile_utils/cpu_utils.cc:128] Failed to get CPU frequency: 0 Hz\n",
      "2023-05-15 23:51:05.789087: I tensorflow/core/grappler/optimizers/custom_graph_optimizer_registry.cc:113] Plugin optimizer for device_type GPU is enabled.\n"
     ]
    },
    {
     "name": "stdout",
     "output_type": "stream",
     "text": [
      "12/12 - 1s - loss: 0.6297 - accuracy: 0.7250 - val_loss: 0.6197 - val_accuracy: 0.5750 - 668ms/epoch - 56ms/step\n",
      "Epoch 2/150\n"
     ]
    },
    {
     "name": "stderr",
     "output_type": "stream",
     "text": [
      "2023-05-15 23:51:06.214846: I tensorflow/core/grappler/optimizers/custom_graph_optimizer_registry.cc:113] Plugin optimizer for device_type GPU is enabled.\n"
     ]
    },
    {
     "name": "stdout",
     "output_type": "stream",
     "text": [
      "12/12 - 0s - loss: 0.5329 - accuracy: 0.7694 - val_loss: 0.5118 - val_accuracy: 0.8250 - 110ms/epoch - 9ms/step\n",
      "Epoch 3/150\n",
      "12/12 - 0s - loss: 0.4339 - accuracy: 0.8611 - val_loss: 0.4026 - val_accuracy: 0.9000 - 108ms/epoch - 9ms/step\n",
      "Epoch 4/150\n",
      "12/12 - 0s - loss: 0.3557 - accuracy: 0.8778 - val_loss: 0.3274 - val_accuracy: 0.9000 - 118ms/epoch - 10ms/step\n",
      "Epoch 5/150\n",
      "12/12 - 0s - loss: 0.3257 - accuracy: 0.8778 - val_loss: 0.3093 - val_accuracy: 0.9000 - 96ms/epoch - 8ms/step\n",
      "Epoch 6/150\n",
      "12/12 - 0s - loss: 0.2918 - accuracy: 0.8806 - val_loss: 0.2891 - val_accuracy: 0.9000 - 100ms/epoch - 8ms/step\n",
      "Epoch 7/150\n",
      "12/12 - 0s - loss: 0.2896 - accuracy: 0.8639 - val_loss: 0.2905 - val_accuracy: 0.9250 - 97ms/epoch - 8ms/step\n",
      "Epoch 8/150\n",
      "12/12 - 0s - loss: 0.2747 - accuracy: 0.8889 - val_loss: 0.2906 - val_accuracy: 0.9250 - 99ms/epoch - 8ms/step\n",
      "Epoch 9/150\n",
      "12/12 - 0s - loss: 0.2682 - accuracy: 0.8861 - val_loss: 0.2845 - val_accuracy: 0.9250 - 97ms/epoch - 8ms/step\n",
      "Epoch 10/150\n",
      "12/12 - 0s - loss: 0.2591 - accuracy: 0.8778 - val_loss: 0.2783 - val_accuracy: 0.9250 - 99ms/epoch - 8ms/step\n",
      "Epoch 11/150\n",
      "12/12 - 0s - loss: 0.2562 - accuracy: 0.8833 - val_loss: 0.2873 - val_accuracy: 0.9250 - 118ms/epoch - 10ms/step\n",
      "Epoch 12/150\n",
      "12/12 - 0s - loss: 0.2519 - accuracy: 0.8861 - val_loss: 0.2693 - val_accuracy: 0.9250 - 104ms/epoch - 9ms/step\n",
      "Epoch 13/150\n",
      "12/12 - 0s - loss: 0.2476 - accuracy: 0.8972 - val_loss: 0.2691 - val_accuracy: 0.9250 - 123ms/epoch - 10ms/step\n",
      "Epoch 14/150\n",
      "12/12 - 0s - loss: 0.2427 - accuracy: 0.9000 - val_loss: 0.2556 - val_accuracy: 0.9250 - 114ms/epoch - 9ms/step\n",
      "Epoch 15/150\n",
      "12/12 - 0s - loss: 0.2301 - accuracy: 0.9000 - val_loss: 0.2578 - val_accuracy: 0.9250 - 104ms/epoch - 9ms/step\n",
      "Epoch 16/150\n",
      "12/12 - 0s - loss: 0.2257 - accuracy: 0.9111 - val_loss: 0.2415 - val_accuracy: 0.9250 - 106ms/epoch - 9ms/step\n",
      "Epoch 17/150\n",
      "12/12 - 0s - loss: 0.2197 - accuracy: 0.9028 - val_loss: 0.2519 - val_accuracy: 0.9250 - 98ms/epoch - 8ms/step\n",
      "Epoch 18/150\n",
      "12/12 - 0s - loss: 0.2254 - accuracy: 0.9000 - val_loss: 0.2365 - val_accuracy: 0.9250 - 98ms/epoch - 8ms/step\n",
      "Epoch 19/150\n",
      "12/12 - 0s - loss: 0.2119 - accuracy: 0.9000 - val_loss: 0.2623 - val_accuracy: 0.9250 - 100ms/epoch - 8ms/step\n",
      "Epoch 20/150\n",
      "12/12 - 0s - loss: 0.2118 - accuracy: 0.9111 - val_loss: 0.2428 - val_accuracy: 0.9250 - 108ms/epoch - 9ms/step\n",
      "Epoch 21/150\n",
      "12/12 - 0s - loss: 0.1932 - accuracy: 0.9167 - val_loss: 0.2485 - val_accuracy: 0.9250 - 113ms/epoch - 9ms/step\n",
      "Epoch 22/150\n",
      "12/12 - 0s - loss: 0.2008 - accuracy: 0.9056 - val_loss: 0.2416 - val_accuracy: 0.9250 - 107ms/epoch - 9ms/step\n",
      "Epoch 23/150\n",
      "12/12 - 0s - loss: 0.1999 - accuracy: 0.9083 - val_loss: 0.2643 - val_accuracy: 0.9250 - 110ms/epoch - 9ms/step\n",
      "Epoch 24/150\n",
      "12/12 - 0s - loss: 0.1931 - accuracy: 0.9139 - val_loss: 0.2557 - val_accuracy: 0.9250 - 110ms/epoch - 9ms/step\n",
      "Epoch 25/150\n",
      "12/12 - 0s - loss: 0.1854 - accuracy: 0.9250 - val_loss: 0.2498 - val_accuracy: 0.9250 - 105ms/epoch - 9ms/step\n",
      "Epoch 26/150\n",
      "12/12 - 0s - loss: 0.1973 - accuracy: 0.9222 - val_loss: 0.2446 - val_accuracy: 0.9250 - 103ms/epoch - 9ms/step\n",
      "Epoch 27/150\n",
      "12/12 - 0s - loss: 0.1877 - accuracy: 0.9167 - val_loss: 0.2550 - val_accuracy: 0.9250 - 97ms/epoch - 8ms/step\n",
      "Epoch 28/150\n",
      "12/12 - 0s - loss: 0.1936 - accuracy: 0.9139 - val_loss: 0.2492 - val_accuracy: 0.9250 - 95ms/epoch - 8ms/step\n",
      "Epoch 29/150\n",
      "12/12 - 0s - loss: 0.1803 - accuracy: 0.9306 - val_loss: 0.2386 - val_accuracy: 0.9500 - 103ms/epoch - 9ms/step\n",
      "Epoch 30/150\n",
      "12/12 - 0s - loss: 0.1795 - accuracy: 0.9194 - val_loss: 0.2621 - val_accuracy: 0.9250 - 112ms/epoch - 9ms/step\n",
      "Epoch 31/150\n",
      "12/12 - 0s - loss: 0.1798 - accuracy: 0.9111 - val_loss: 0.2602 - val_accuracy: 0.9250 - 118ms/epoch - 10ms/step\n",
      "Epoch 32/150\n",
      "12/12 - 0s - loss: 0.1779 - accuracy: 0.9194 - val_loss: 0.2463 - val_accuracy: 0.9500 - 107ms/epoch - 9ms/step\n",
      "Epoch 33/150\n",
      "12/12 - 0s - loss: 0.1762 - accuracy: 0.9083 - val_loss: 0.2521 - val_accuracy: 0.9250 - 112ms/epoch - 9ms/step\n",
      "Epoch 34/150\n",
      "12/12 - 0s - loss: 0.1723 - accuracy: 0.9278 - val_loss: 0.2458 - val_accuracy: 0.9250 - 109ms/epoch - 9ms/step\n",
      "Epoch 35/150\n",
      "12/12 - 0s - loss: 0.1753 - accuracy: 0.9250 - val_loss: 0.2439 - val_accuracy: 0.9500 - 100ms/epoch - 8ms/step\n",
      "Epoch 36/150\n",
      "12/12 - 0s - loss: 0.1711 - accuracy: 0.9194 - val_loss: 0.2455 - val_accuracy: 0.9500 - 103ms/epoch - 9ms/step\n",
      "Epoch 37/150\n",
      "12/12 - 0s - loss: 0.1598 - accuracy: 0.9306 - val_loss: 0.2443 - val_accuracy: 0.9500 - 98ms/epoch - 8ms/step\n",
      "Epoch 38/150\n",
      "12/12 - 0s - loss: 0.1642 - accuracy: 0.9222 - val_loss: 0.2571 - val_accuracy: 0.9250 - 95ms/epoch - 8ms/step\n",
      "Epoch 39/150\n",
      "12/12 - 0s - loss: 0.1665 - accuracy: 0.9222 - val_loss: 0.2508 - val_accuracy: 0.9500 - 95ms/epoch - 8ms/step\n",
      "Epoch 40/150\n",
      "12/12 - 0s - loss: 0.1725 - accuracy: 0.9111 - val_loss: 0.2772 - val_accuracy: 0.9250 - 98ms/epoch - 8ms/step\n",
      "Epoch 41/150\n",
      "12/12 - 0s - loss: 0.1726 - accuracy: 0.9250 - val_loss: 0.2392 - val_accuracy: 0.9250 - 116ms/epoch - 10ms/step\n",
      "Epoch 42/150\n",
      "12/12 - 0s - loss: 0.1634 - accuracy: 0.9167 - val_loss: 0.2622 - val_accuracy: 0.9250 - 107ms/epoch - 9ms/step\n",
      "Epoch 43/150\n",
      "12/12 - 0s - loss: 0.1808 - accuracy: 0.9167 - val_loss: 0.2565 - val_accuracy: 0.9000 - 101ms/epoch - 8ms/step\n",
      "Epoch 44/150\n",
      "12/12 - 0s - loss: 0.1684 - accuracy: 0.9250 - val_loss: 0.2605 - val_accuracy: 0.9250 - 111ms/epoch - 9ms/step\n",
      "Epoch 45/150\n",
      "12/12 - 0s - loss: 0.1685 - accuracy: 0.9278 - val_loss: 0.2504 - val_accuracy: 0.9500 - 108ms/epoch - 9ms/step\n",
      "Epoch 46/150\n",
      "12/12 - 0s - loss: 0.1590 - accuracy: 0.9389 - val_loss: 0.2573 - val_accuracy: 0.9500 - 104ms/epoch - 9ms/step\n",
      "Epoch 47/150\n",
      "12/12 - 0s - loss: 0.1494 - accuracy: 0.9389 - val_loss: 0.2587 - val_accuracy: 0.9250 - 101ms/epoch - 8ms/step\n",
      "Epoch 48/150\n",
      "12/12 - 0s - loss: 0.1640 - accuracy: 0.9167 - val_loss: 0.2683 - val_accuracy: 0.9000 - 101ms/epoch - 8ms/step\n",
      "Epoch 49/150\n",
      "12/12 - 0s - loss: 0.1645 - accuracy: 0.9306 - val_loss: 0.2757 - val_accuracy: 0.9250 - 99ms/epoch - 8ms/step\n",
      "Epoch 50/150\n",
      "12/12 - 0s - loss: 0.1562 - accuracy: 0.9361 - val_loss: 0.2755 - val_accuracy: 0.9000 - 96ms/epoch - 8ms/step\n",
      "Epoch 51/150\n",
      "12/12 - 0s - loss: 0.1578 - accuracy: 0.9194 - val_loss: 0.2693 - val_accuracy: 0.9000 - 93ms/epoch - 8ms/step\n",
      "Epoch 52/150\n",
      "12/12 - 0s - loss: 0.1609 - accuracy: 0.9250 - val_loss: 0.2710 - val_accuracy: 0.9250 - 96ms/epoch - 8ms/step\n",
      "Epoch 53/150\n",
      "12/12 - 0s - loss: 0.1650 - accuracy: 0.9222 - val_loss: 0.2683 - val_accuracy: 0.9500 - 94ms/epoch - 8ms/step\n",
      "Epoch 54/150\n",
      "12/12 - 0s - loss: 0.1718 - accuracy: 0.9250 - val_loss: 0.2540 - val_accuracy: 0.9500 - 95ms/epoch - 8ms/step\n",
      "Epoch 55/150\n",
      "12/12 - 0s - loss: 0.1600 - accuracy: 0.9250 - val_loss: 0.2678 - val_accuracy: 0.9500 - 97ms/epoch - 8ms/step\n",
      "Epoch 56/150\n",
      "12/12 - 0s - loss: 0.1518 - accuracy: 0.9278 - val_loss: 0.2585 - val_accuracy: 0.9500 - 94ms/epoch - 8ms/step\n",
      "Epoch 57/150\n",
      "12/12 - 0s - loss: 0.1551 - accuracy: 0.9306 - val_loss: 0.2686 - val_accuracy: 0.9250 - 95ms/epoch - 8ms/step\n",
      "Epoch 58/150\n",
      "12/12 - 0s - loss: 0.1587 - accuracy: 0.9194 - val_loss: 0.2709 - val_accuracy: 0.9500 - 100ms/epoch - 8ms/step\n",
      "Epoch 59/150\n",
      "12/12 - 0s - loss: 0.1499 - accuracy: 0.9278 - val_loss: 0.2673 - val_accuracy: 0.9250 - 106ms/epoch - 9ms/step\n",
      "Epoch 60/150\n",
      "12/12 - 0s - loss: 0.1473 - accuracy: 0.9361 - val_loss: 0.2843 - val_accuracy: 0.9250 - 106ms/epoch - 9ms/step\n",
      "Epoch 61/150\n",
      "12/12 - 0s - loss: 0.1529 - accuracy: 0.9306 - val_loss: 0.2729 - val_accuracy: 0.9250 - 107ms/epoch - 9ms/step\n",
      "Epoch 62/150\n",
      "12/12 - 0s - loss: 0.1457 - accuracy: 0.9444 - val_loss: 0.2787 - val_accuracy: 0.9250 - 107ms/epoch - 9ms/step\n",
      "Epoch 63/150\n",
      "12/12 - 0s - loss: 0.1524 - accuracy: 0.9306 - val_loss: 0.2715 - val_accuracy: 0.9250 - 106ms/epoch - 9ms/step\n",
      "Epoch 64/150\n",
      "12/12 - 0s - loss: 0.1388 - accuracy: 0.9306 - val_loss: 0.2792 - val_accuracy: 0.9500 - 102ms/epoch - 8ms/step\n",
      "Epoch 65/150\n",
      "12/12 - 0s - loss: 0.1535 - accuracy: 0.9194 - val_loss: 0.2712 - val_accuracy: 0.9500 - 99ms/epoch - 8ms/step\n",
      "Epoch 66/150\n",
      "12/12 - 0s - loss: 0.1460 - accuracy: 0.9278 - val_loss: 0.2640 - val_accuracy: 0.9250 - 100ms/epoch - 8ms/step\n",
      "Epoch 67/150\n",
      "12/12 - 0s - loss: 0.1655 - accuracy: 0.9194 - val_loss: 0.2892 - val_accuracy: 0.9250 - 109ms/epoch - 9ms/step\n"
     ]
    },
    {
     "name": "stdout",
     "output_type": "stream",
     "text": [
      "Epoch 68/150\n",
      "12/12 - 0s - loss: 0.1631 - accuracy: 0.9167 - val_loss: 0.2936 - val_accuracy: 0.9250 - 105ms/epoch - 9ms/step\n",
      "Epoch 69/150\n",
      "12/12 - 0s - loss: 0.1508 - accuracy: 0.9389 - val_loss: 0.2718 - val_accuracy: 0.9250 - 110ms/epoch - 9ms/step\n",
      "Epoch 70/150\n",
      "12/12 - 0s - loss: 0.1482 - accuracy: 0.9278 - val_loss: 0.2820 - val_accuracy: 0.9500 - 104ms/epoch - 9ms/step\n",
      "Epoch 71/150\n",
      "12/12 - 0s - loss: 0.1705 - accuracy: 0.9306 - val_loss: 0.2702 - val_accuracy: 0.9250 - 108ms/epoch - 9ms/step\n",
      "Epoch 72/150\n",
      "12/12 - 0s - loss: 0.1535 - accuracy: 0.9222 - val_loss: 0.2997 - val_accuracy: 0.9250 - 98ms/epoch - 8ms/step\n",
      "Epoch 73/150\n",
      "12/12 - 0s - loss: 0.1535 - accuracy: 0.9222 - val_loss: 0.2735 - val_accuracy: 0.9250 - 96ms/epoch - 8ms/step\n",
      "Epoch 74/150\n",
      "12/12 - 0s - loss: 0.1468 - accuracy: 0.9389 - val_loss: 0.2961 - val_accuracy: 0.9250 - 94ms/epoch - 8ms/step\n",
      "Epoch 75/150\n",
      "12/12 - 0s - loss: 0.1655 - accuracy: 0.9333 - val_loss: 0.2860 - val_accuracy: 0.9250 - 92ms/epoch - 8ms/step\n",
      "Epoch 76/150\n",
      "12/12 - 0s - loss: 0.1433 - accuracy: 0.9194 - val_loss: 0.2967 - val_accuracy: 0.9250 - 93ms/epoch - 8ms/step\n",
      "Epoch 77/150\n",
      "12/12 - 0s - loss: 0.1450 - accuracy: 0.9333 - val_loss: 0.2787 - val_accuracy: 0.9250 - 103ms/epoch - 9ms/step\n",
      "Epoch 78/150\n",
      "12/12 - 0s - loss: 0.1459 - accuracy: 0.9194 - val_loss: 0.2952 - val_accuracy: 0.9250 - 111ms/epoch - 9ms/step\n",
      "Epoch 79/150\n",
      "12/12 - 0s - loss: 0.1520 - accuracy: 0.9306 - val_loss: 0.2918 - val_accuracy: 0.9250 - 113ms/epoch - 9ms/step\n",
      "Epoch 80/150\n",
      "12/12 - 0s - loss: 0.1468 - accuracy: 0.9250 - val_loss: 0.2881 - val_accuracy: 0.9250 - 94ms/epoch - 8ms/step\n",
      "Epoch 81/150\n",
      "12/12 - 0s - loss: 0.1437 - accuracy: 0.9333 - val_loss: 0.2763 - val_accuracy: 0.9250 - 94ms/epoch - 8ms/step\n",
      "Epoch 82/150\n",
      "12/12 - 0s - loss: 0.1472 - accuracy: 0.9306 - val_loss: 0.2839 - val_accuracy: 0.9500 - 93ms/epoch - 8ms/step\n",
      "Epoch 83/150\n",
      "12/12 - 0s - loss: 0.1324 - accuracy: 0.9417 - val_loss: 0.2842 - val_accuracy: 0.9500 - 94ms/epoch - 8ms/step\n",
      "Epoch 84/150\n",
      "12/12 - 0s - loss: 0.1398 - accuracy: 0.9278 - val_loss: 0.2949 - val_accuracy: 0.9500 - 93ms/epoch - 8ms/step\n",
      "Epoch 85/150\n",
      "12/12 - 0s - loss: 0.1446 - accuracy: 0.9278 - val_loss: 0.3011 - val_accuracy: 0.9250 - 97ms/epoch - 8ms/step\n",
      "Epoch 86/150\n",
      "12/12 - 0s - loss: 0.1423 - accuracy: 0.9333 - val_loss: 0.2910 - val_accuracy: 0.9500 - 97ms/epoch - 8ms/step\n",
      "Epoch 87/150\n",
      "12/12 - 0s - loss: 0.1426 - accuracy: 0.9333 - val_loss: 0.2923 - val_accuracy: 0.9500 - 98ms/epoch - 8ms/step\n",
      "Epoch 88/150\n",
      "12/12 - 0s - loss: 0.1558 - accuracy: 0.9417 - val_loss: 0.2810 - val_accuracy: 0.9500 - 96ms/epoch - 8ms/step\n",
      "Epoch 89/150\n",
      "12/12 - 0s - loss: 0.1419 - accuracy: 0.9333 - val_loss: 0.2926 - val_accuracy: 0.9250 - 99ms/epoch - 8ms/step\n",
      "Epoch 90/150\n",
      "12/12 - 0s - loss: 0.1437 - accuracy: 0.9361 - val_loss: 0.3045 - val_accuracy: 0.9000 - 91ms/epoch - 8ms/step\n",
      "Epoch 91/150\n",
      "12/12 - 0s - loss: 0.1441 - accuracy: 0.9222 - val_loss: 0.2967 - val_accuracy: 0.9250 - 93ms/epoch - 8ms/step\n",
      "Epoch 92/150\n",
      "12/12 - 0s - loss: 0.1348 - accuracy: 0.9389 - val_loss: 0.3039 - val_accuracy: 0.9500 - 97ms/epoch - 8ms/step\n",
      "Epoch 93/150\n",
      "12/12 - 0s - loss: 0.1336 - accuracy: 0.9333 - val_loss: 0.3025 - val_accuracy: 0.9250 - 103ms/epoch - 9ms/step\n",
      "Epoch 94/150\n",
      "12/12 - 0s - loss: 0.1337 - accuracy: 0.9389 - val_loss: 0.3112 - val_accuracy: 0.9000 - 99ms/epoch - 8ms/step\n",
      "Epoch 95/150\n",
      "12/12 - 0s - loss: 0.1363 - accuracy: 0.9361 - val_loss: 0.3023 - val_accuracy: 0.9250 - 96ms/epoch - 8ms/step\n",
      "Epoch 96/150\n",
      "12/12 - 0s - loss: 0.1368 - accuracy: 0.9306 - val_loss: 0.3029 - val_accuracy: 0.9250 - 110ms/epoch - 9ms/step\n",
      "Epoch 97/150\n",
      "12/12 - 0s - loss: 0.1321 - accuracy: 0.9361 - val_loss: 0.3066 - val_accuracy: 0.9500 - 101ms/epoch - 8ms/step\n",
      "Epoch 98/150\n",
      "12/12 - 0s - loss: 0.1391 - accuracy: 0.9361 - val_loss: 0.3019 - val_accuracy: 0.9250 - 97ms/epoch - 8ms/step\n",
      "Epoch 99/150\n",
      "12/12 - 0s - loss: 0.1616 - accuracy: 0.9111 - val_loss: 0.3179 - val_accuracy: 0.9250 - 98ms/epoch - 8ms/step\n",
      "Epoch 100/150\n",
      "12/12 - 0s - loss: 0.1398 - accuracy: 0.9417 - val_loss: 0.2939 - val_accuracy: 0.9500 - 100ms/epoch - 8ms/step\n",
      "Epoch 101/150\n",
      "12/12 - 0s - loss: 0.1413 - accuracy: 0.9389 - val_loss: 0.3136 - val_accuracy: 0.9500 - 100ms/epoch - 8ms/step\n",
      "Epoch 102/150\n",
      "12/12 - 0s - loss: 0.1359 - accuracy: 0.9389 - val_loss: 0.2949 - val_accuracy: 0.9250 - 99ms/epoch - 8ms/step\n",
      "Epoch 103/150\n",
      "12/12 - 0s - loss: 0.1511 - accuracy: 0.9222 - val_loss: 0.3099 - val_accuracy: 0.9500 - 105ms/epoch - 9ms/step\n",
      "Epoch 104/150\n",
      "12/12 - 0s - loss: 0.1312 - accuracy: 0.9389 - val_loss: 0.3024 - val_accuracy: 0.9250 - 98ms/epoch - 8ms/step\n",
      "Epoch 105/150\n",
      "12/12 - 0s - loss: 0.1324 - accuracy: 0.9361 - val_loss: 0.3041 - val_accuracy: 0.9500 - 95ms/epoch - 8ms/step\n",
      "Epoch 106/150\n",
      "12/12 - 0s - loss: 0.1283 - accuracy: 0.9472 - val_loss: 0.2971 - val_accuracy: 0.9250 - 92ms/epoch - 8ms/step\n",
      "Epoch 107/150\n",
      "12/12 - 0s - loss: 0.1431 - accuracy: 0.9306 - val_loss: 0.2976 - val_accuracy: 0.9500 - 96ms/epoch - 8ms/step\n",
      "Epoch 108/150\n",
      "12/12 - 0s - loss: 0.1423 - accuracy: 0.9361 - val_loss: 0.3037 - val_accuracy: 0.9250 - 95ms/epoch - 8ms/step\n",
      "Epoch 109/150\n",
      "12/12 - 0s - loss: 0.1451 - accuracy: 0.9306 - val_loss: 0.2961 - val_accuracy: 0.9250 - 94ms/epoch - 8ms/step\n",
      "Epoch 110/150\n",
      "12/12 - 0s - loss: 0.1298 - accuracy: 0.9333 - val_loss: 0.3067 - val_accuracy: 0.9250 - 96ms/epoch - 8ms/step\n",
      "Epoch 111/150\n",
      "12/12 - 0s - loss: 0.1484 - accuracy: 0.9361 - val_loss: 0.3168 - val_accuracy: 0.9250 - 95ms/epoch - 8ms/step\n",
      "Epoch 112/150\n",
      "12/12 - 0s - loss: 0.1290 - accuracy: 0.9417 - val_loss: 0.3097 - val_accuracy: 0.9250 - 95ms/epoch - 8ms/step\n",
      "Epoch 113/150\n",
      "12/12 - 0s - loss: 0.1287 - accuracy: 0.9306 - val_loss: 0.3175 - val_accuracy: 0.9500 - 99ms/epoch - 8ms/step\n",
      "Epoch 114/150\n",
      "12/12 - 0s - loss: 0.1372 - accuracy: 0.9306 - val_loss: 0.3035 - val_accuracy: 0.9500 - 112ms/epoch - 9ms/step\n",
      "Epoch 115/150\n",
      "12/12 - 0s - loss: 0.1388 - accuracy: 0.9333 - val_loss: 0.3215 - val_accuracy: 0.9250 - 107ms/epoch - 9ms/step\n",
      "Epoch 116/150\n",
      "12/12 - 0s - loss: 0.1275 - accuracy: 0.9444 - val_loss: 0.3055 - val_accuracy: 0.9250 - 103ms/epoch - 9ms/step\n",
      "Epoch 117/150\n",
      "12/12 - 0s - loss: 0.1341 - accuracy: 0.9361 - val_loss: 0.3268 - val_accuracy: 0.9500 - 101ms/epoch - 8ms/step\n",
      "Epoch 118/150\n",
      "12/12 - 0s - loss: 0.1342 - accuracy: 0.9472 - val_loss: 0.3082 - val_accuracy: 0.9250 - 96ms/epoch - 8ms/step\n",
      "Epoch 119/150\n",
      "12/12 - 0s - loss: 0.1301 - accuracy: 0.9306 - val_loss: 0.3259 - val_accuracy: 0.9500 - 97ms/epoch - 8ms/step\n",
      "Epoch 120/150\n",
      "12/12 - 0s - loss: 0.1321 - accuracy: 0.9306 - val_loss: 0.3077 - val_accuracy: 0.9250 - 96ms/epoch - 8ms/step\n",
      "Epoch 121/150\n",
      "12/12 - 0s - loss: 0.1334 - accuracy: 0.9306 - val_loss: 0.3251 - val_accuracy: 0.9500 - 113ms/epoch - 9ms/step\n",
      "Epoch 122/150\n",
      "12/12 - 0s - loss: 0.1310 - accuracy: 0.9417 - val_loss: 0.3092 - val_accuracy: 0.9500 - 107ms/epoch - 9ms/step\n",
      "Epoch 123/150\n",
      "12/12 - 0s - loss: 0.1231 - accuracy: 0.9444 - val_loss: 0.3163 - val_accuracy: 0.9250 - 96ms/epoch - 8ms/step\n",
      "Epoch 124/150\n",
      "12/12 - 0s - loss: 0.1276 - accuracy: 0.9361 - val_loss: 0.3131 - val_accuracy: 0.9250 - 101ms/epoch - 8ms/step\n",
      "Epoch 125/150\n",
      "12/12 - 0s - loss: 0.1327 - accuracy: 0.9361 - val_loss: 0.3307 - val_accuracy: 0.9000 - 96ms/epoch - 8ms/step\n",
      "Epoch 126/150\n",
      "12/12 - 0s - loss: 0.1343 - accuracy: 0.9278 - val_loss: 0.3178 - val_accuracy: 0.9250 - 97ms/epoch - 8ms/step\n",
      "Epoch 127/150\n",
      "12/12 - 0s - loss: 0.1279 - accuracy: 0.9361 - val_loss: 0.3221 - val_accuracy: 0.9500 - 94ms/epoch - 8ms/step\n",
      "Epoch 128/150\n",
      "12/12 - 0s - loss: 0.1434 - accuracy: 0.9333 - val_loss: 0.3104 - val_accuracy: 0.9250 - 100ms/epoch - 8ms/step\n",
      "Epoch 129/150\n",
      "12/12 - 0s - loss: 0.1341 - accuracy: 0.9444 - val_loss: 0.3169 - val_accuracy: 0.9500 - 99ms/epoch - 8ms/step\n",
      "Epoch 130/150\n",
      "12/12 - 0s - loss: 0.1307 - accuracy: 0.9333 - val_loss: 0.3203 - val_accuracy: 0.9250 - 95ms/epoch - 8ms/step\n",
      "Epoch 131/150\n",
      "12/12 - 0s - loss: 0.1222 - accuracy: 0.9417 - val_loss: 0.3192 - val_accuracy: 0.9250 - 93ms/epoch - 8ms/step\n",
      "Epoch 132/150\n",
      "12/12 - 0s - loss: 0.1326 - accuracy: 0.9361 - val_loss: 0.3149 - val_accuracy: 0.9250 - 96ms/epoch - 8ms/step\n",
      "Epoch 133/150\n",
      "12/12 - 0s - loss: 0.1314 - accuracy: 0.9333 - val_loss: 0.3234 - val_accuracy: 0.9500 - 100ms/epoch - 8ms/step\n"
     ]
    },
    {
     "name": "stdout",
     "output_type": "stream",
     "text": [
      "Epoch 134/150\n",
      "12/12 - 0s - loss: 0.1284 - accuracy: 0.9417 - val_loss: 0.3176 - val_accuracy: 0.9250 - 111ms/epoch - 9ms/step\n",
      "Epoch 135/150\n",
      "12/12 - 0s - loss: 0.1353 - accuracy: 0.9361 - val_loss: 0.3342 - val_accuracy: 0.9500 - 105ms/epoch - 9ms/step\n",
      "Epoch 136/150\n",
      "12/12 - 0s - loss: 0.1339 - accuracy: 0.9417 - val_loss: 0.3093 - val_accuracy: 0.9500 - 110ms/epoch - 9ms/step\n",
      "Epoch 137/150\n",
      "12/12 - 0s - loss: 0.1240 - accuracy: 0.9389 - val_loss: 0.3323 - val_accuracy: 0.9500 - 97ms/epoch - 8ms/step\n",
      "Epoch 138/150\n",
      "12/12 - 0s - loss: 0.1270 - accuracy: 0.9361 - val_loss: 0.3356 - val_accuracy: 0.9250 - 96ms/epoch - 8ms/step\n",
      "Epoch 139/150\n",
      "12/12 - 0s - loss: 0.1393 - accuracy: 0.9361 - val_loss: 0.3428 - val_accuracy: 0.9500 - 96ms/epoch - 8ms/step\n",
      "Epoch 140/150\n",
      "12/12 - 0s - loss: 0.1247 - accuracy: 0.9389 - val_loss: 0.3295 - val_accuracy: 0.9250 - 95ms/epoch - 8ms/step\n",
      "Epoch 141/150\n",
      "12/12 - 0s - loss: 0.1462 - accuracy: 0.9361 - val_loss: 0.3354 - val_accuracy: 0.9500 - 112ms/epoch - 9ms/step\n",
      "Epoch 142/150\n",
      "12/12 - 0s - loss: 0.1434 - accuracy: 0.9250 - val_loss: 0.3379 - val_accuracy: 0.9500 - 106ms/epoch - 9ms/step\n",
      "Epoch 143/150\n",
      "12/12 - 0s - loss: 0.1353 - accuracy: 0.9222 - val_loss: 0.3271 - val_accuracy: 0.9250 - 107ms/epoch - 9ms/step\n",
      "Epoch 144/150\n",
      "12/12 - 0s - loss: 0.1293 - accuracy: 0.9417 - val_loss: 0.3520 - val_accuracy: 0.9000 - 106ms/epoch - 9ms/step\n",
      "Epoch 145/150\n",
      "12/12 - 0s - loss: 0.1317 - accuracy: 0.9278 - val_loss: 0.3375 - val_accuracy: 0.9250 - 107ms/epoch - 9ms/step\n",
      "Epoch 146/150\n",
      "12/12 - 0s - loss: 0.1481 - accuracy: 0.9222 - val_loss: 0.3384 - val_accuracy: 0.9250 - 100ms/epoch - 8ms/step\n",
      "Epoch 147/150\n",
      "12/12 - 0s - loss: 0.1299 - accuracy: 0.9472 - val_loss: 0.3592 - val_accuracy: 0.9500 - 97ms/epoch - 8ms/step\n",
      "Epoch 148/150\n",
      "12/12 - 0s - loss: 0.1321 - accuracy: 0.9278 - val_loss: 0.3302 - val_accuracy: 0.9250 - 103ms/epoch - 9ms/step\n",
      "Epoch 149/150\n",
      "12/12 - 0s - loss: 0.1306 - accuracy: 0.9389 - val_loss: 0.3426 - val_accuracy: 0.9500 - 102ms/epoch - 8ms/step\n",
      "Epoch 150/150\n",
      "12/12 - 0s - loss: 0.1244 - accuracy: 0.9389 - val_loss: 0.3323 - val_accuracy: 0.9250 - 103ms/epoch - 9ms/step\n"
     ]
    }
   ],
   "source": [
    "history_1 = model_1.fit(X_train_normalized, \n",
    "                        \n",
    "                    y_train,\n",
    "\n",
    "                    validation_split = 0.1, \n",
    "\n",
    "                    epochs = 150, \n",
    "\n",
    "                    verbose = 2)"
   ]
  },
  {
   "cell_type": "markdown",
   "metadata": {
    "id": "EFMmpLAuBC4n"
   },
   "source": [
    "### **Plotting Accuracy vs Epoch Curve**"
   ]
  },
  {
   "cell_type": "code",
   "execution_count": 18,
   "metadata": {
    "ExecuteTime": {
     "end_time": "2023-05-15T21:51:45.849528Z",
     "start_time": "2023-05-15T21:51:45.731156Z"
    },
    "colab": {
     "base_uri": "https://localhost:8080/",
     "height": 295
    },
    "id": "oe8CUImT-8xf",
    "outputId": "223f2d6a-6b65-4e57-c86c-912624339c83"
   },
   "outputs": [
    {
     "data": {
      "image/png": "[encoded data removed]",
      "text/plain": [
       "<Figure size 640x480 with 1 Axes>"
      ]
     },
     "metadata": {},
     "output_type": "display_data"
    }
   ],
   "source": [
    "plt.plot(history_1.history['accuracy'])\n",
    "\n",
    "plt.plot(history_1.history['val_accuracy'])\n",
    "\n",
    "plt.title('Accuracy vs Epochs')\n",
    "\n",
    "plt.ylabel('Accuracy')\n",
    "\n",
    "plt.xlabel('Epoch')\n",
    "\n",
    "plt.legend(['Train', 'Validation'], loc = 'lower right')\n",
    "\n",
    "plt.show()"
   ]
  },
  {
   "cell_type": "markdown",
   "metadata": {
    "id": "K8cyNSpIjURF"
   },
   "source": [
    "**Observations:**\n",
    "\n",
    "- The training accuracy is fluctuating but overall it is increasing with the increase in the epochs.\n",
    "- The validation accuracy is constant between ~ 20 to 100 epochs and it is fluctuating a bit post 100 epochs.\n",
    "- The model is giving good accuracy. After 150 epochs, the accuracy of the model on the training data is about 93.9% and the validation accuracy is 92.5%.\n",
    "- The validation accuracy is closer to the training accuracy. This indicates that the model is giving a generalized performance."
   ]
  },
  {
   "cell_type": "markdown",
   "metadata": {
    "id": "e3lV6QFMVqQh"
   },
   "source": [
    "Let's try to increase the model complexity by tuning some of the hyper-parameters mentioned earlier and check if we can improve the model performance. Out of all the options we have, let's try to change the number of hidden layers, the number of neurons in each hidden layer, and the activation function in the hidden layer. Also, we have observed that validation accuracy became constant after some epochs, let's try less number of epochs which would also reduce the computation time. "
   ]
  },
  {
   "cell_type": "markdown",
   "metadata": {
    "id": "TcLYYkZo6PaW"
   },
   "source": [
    "First, we need to clear the previous model's history from the session. In Keras, we need special command to clear the model's history otherwise the previous model history remains in the backend.\n",
    "Also, let's fix the seed again after clearing the backend."
   ]
  },
  {
   "cell_type": "code",
   "execution_count": 19,
   "metadata": {
    "ExecuteTime": {
     "end_time": "2023-05-15T21:53:59.579392Z",
     "start_time": "2023-05-15T21:53:59.521557Z"
    },
    "id": "_GQu0Mv56_IH"
   },
   "outputs": [],
   "source": [
    "# Clearing the backend\n",
    "from tensorflow.keras import backend\n",
    "\n",
    "backend.clear_session()"
   ]
  },
  {
   "cell_type": "code",
   "execution_count": 20,
   "metadata": {
    "ExecuteTime": {
     "end_time": "2023-05-15T21:54:00.914545Z",
     "start_time": "2023-05-15T21:54:00.907073Z"
    },
    "id": "7PIxvVI0LqbV"
   },
   "outputs": [],
   "source": [
    "# Fixing the seed for random number generators\n",
    "np.random.seed(42)\n",
    "\n",
    "import random\n",
    "\n",
    "random.seed(42)\n",
    "\n",
    "tf.random.set_seed(42)"
   ]
  },
  {
   "cell_type": "code",
   "execution_count": 21,
   "metadata": {
    "ExecuteTime": {
     "end_time": "2023-05-15T21:54:05.566860Z",
     "start_time": "2023-05-15T21:54:05.492696Z"
    },
    "id": "S23oRyS2XJZW"
   },
   "outputs": [],
   "source": [
    "model_2 = Sequential()\n",
    "\n",
    "model_2.add(Dense(128, activation = 'tanh', input_shape = (11, )))\n",
    "\n",
    "model_2.add(Dropout(0.1))\n",
    "\n",
    "model_2.add(Dense(64, activation = 'tanh'))\n",
    "\n",
    "model_2.add(Dropout(0.1))\n",
    "\n",
    "model_2.add(Dense(32, activation = 'tanh'))\n",
    "\n",
    "model_2.add(Dense(1, activation = 'sigmoid'))"
   ]
  },
  {
   "cell_type": "code",
   "execution_count": 28,
   "metadata": {
    "ExecuteTime": {
     "end_time": "2023-05-15T21:55:49.877895Z",
     "start_time": "2023-05-15T21:55:49.852577Z"
    },
    "colab": {
     "base_uri": "https://localhost:8080/"
    },
    "id": "DT1QFebrV9ZC",
    "outputId": "15cd60eb-ad58-453b-f345-f08058663887"
   },
   "outputs": [
    {
     "name": "stdout",
     "output_type": "stream",
     "text": [
      "Model: \"sequential\"\n",
      "_________________________________________________________________\n",
      " Layer (type)                Output Shape              Param #   \n",
      "=================================================================\n",
      " dense (Dense)               (None, 128)               1536      \n",
      "                                                                 \n",
      " dropout (Dropout)           (None, 128)               0         \n",
      "                                                                 \n",
      " dense_1 (Dense)             (None, 64)                8256      \n",
      "                                                                 \n",
      " dropout_1 (Dropout)         (None, 64)                0         \n",
      "                                                                 \n",
      " dense_2 (Dense)             (None, 32)                2080      \n",
      "                                                                 \n",
      " dense_3 (Dense)             (None, 1)                 33        \n",
      "                                                                 \n",
      "=================================================================\n",
      "Total params: 11,905\n",
      "Trainable params: 11,905\n",
      "Non-trainable params: 0\n",
      "_________________________________________________________________\n"
     ]
    }
   ],
   "source": [
    "model_2.compile(loss = 'binary_crossentropy', optimizer = 'Adam', metrics = ['accuracy'])\n",
    "\n",
    "model_2.summary()"
   ]
  },
  {
   "cell_type": "code",
   "execution_count": 29,
   "metadata": {
    "ExecuteTime": {
     "end_time": "2023-05-15T21:56:02.057144Z",
     "start_time": "2023-05-15T21:55:50.621161Z"
    },
    "colab": {
     "base_uri": "https://localhost:8080/"
    },
    "id": "d0mHas6KV9f9",
    "outputId": "68b96632-f368-40af-934b-3680ab236564",
    "scrolled": false
   },
   "outputs": [
    {
     "name": "stdout",
     "output_type": "stream",
     "text": [
      "Epoch 1/100\n"
     ]
    },
    {
     "name": "stderr",
     "output_type": "stream",
     "text": [
      "2023-05-15 23:55:50.790192: I tensorflow/core/grappler/optimizers/custom_graph_optimizer_registry.cc:113] Plugin optimizer for device_type GPU is enabled.\n"
     ]
    },
    {
     "name": "stdout",
     "output_type": "stream",
     "text": [
      "12/12 - 1s - loss: 0.1896 - accuracy: 0.9250 - val_loss: 0.2277 - val_accuracy: 0.9500 - 649ms/epoch - 54ms/step\n",
      "Epoch 2/100\n"
     ]
    },
    {
     "name": "stderr",
     "output_type": "stream",
     "text": [
      "2023-05-15 23:55:51.203865: I tensorflow/core/grappler/optimizers/custom_graph_optimizer_registry.cc:113] Plugin optimizer for device_type GPU is enabled.\n"
     ]
    },
    {
     "name": "stdout",
     "output_type": "stream",
     "text": [
      "12/12 - 0s - loss: 0.1493 - accuracy: 0.9444 - val_loss: 0.2597 - val_accuracy: 0.9250 - 127ms/epoch - 11ms/step\n",
      "Epoch 3/100\n",
      "12/12 - 0s - loss: 0.1544 - accuracy: 0.9306 - val_loss: 0.2278 - val_accuracy: 0.9000 - 109ms/epoch - 9ms/step\n",
      "Epoch 4/100\n",
      "12/12 - 0s - loss: 0.1636 - accuracy: 0.9194 - val_loss: 0.2230 - val_accuracy: 0.9500 - 110ms/epoch - 9ms/step\n",
      "Epoch 5/100\n",
      "12/12 - 0s - loss: 0.1498 - accuracy: 0.9278 - val_loss: 0.2279 - val_accuracy: 0.9500 - 111ms/epoch - 9ms/step\n",
      "Epoch 6/100\n",
      "12/12 - 0s - loss: 0.1495 - accuracy: 0.9444 - val_loss: 0.2284 - val_accuracy: 0.9250 - 114ms/epoch - 10ms/step\n",
      "Epoch 7/100\n",
      "12/12 - 0s - loss: 0.1450 - accuracy: 0.9306 - val_loss: 0.2412 - val_accuracy: 0.9500 - 102ms/epoch - 8ms/step\n",
      "Epoch 8/100\n",
      "12/12 - 0s - loss: 0.1538 - accuracy: 0.9222 - val_loss: 0.2439 - val_accuracy: 0.9250 - 102ms/epoch - 8ms/step\n",
      "Epoch 9/100\n",
      "12/12 - 0s - loss: 0.1453 - accuracy: 0.9361 - val_loss: 0.2507 - val_accuracy: 0.9250 - 103ms/epoch - 9ms/step\n",
      "Epoch 10/100\n",
      "12/12 - 0s - loss: 0.1493 - accuracy: 0.9306 - val_loss: 0.2463 - val_accuracy: 0.9250 - 97ms/epoch - 8ms/step\n",
      "Epoch 11/100\n",
      "12/12 - 0s - loss: 0.1389 - accuracy: 0.9333 - val_loss: 0.2659 - val_accuracy: 0.9250 - 101ms/epoch - 8ms/step\n",
      "Epoch 12/100\n",
      "12/12 - 0s - loss: 0.1551 - accuracy: 0.9250 - val_loss: 0.2364 - val_accuracy: 0.9500 - 101ms/epoch - 8ms/step\n",
      "Epoch 13/100\n",
      "12/12 - 0s - loss: 0.1497 - accuracy: 0.9389 - val_loss: 0.2651 - val_accuracy: 0.9250 - 101ms/epoch - 8ms/step\n",
      "Epoch 14/100\n",
      "12/12 - 0s - loss: 0.1649 - accuracy: 0.9278 - val_loss: 0.2512 - val_accuracy: 0.9250 - 106ms/epoch - 9ms/step\n",
      "Epoch 15/100\n",
      "12/12 - 0s - loss: 0.1625 - accuracy: 0.9278 - val_loss: 0.2388 - val_accuracy: 0.9250 - 124ms/epoch - 10ms/step\n",
      "Epoch 16/100\n",
      "12/12 - 0s - loss: 0.1500 - accuracy: 0.9361 - val_loss: 0.2388 - val_accuracy: 0.9250 - 123ms/epoch - 10ms/step\n",
      "Epoch 17/100\n",
      "12/12 - 0s - loss: 0.1420 - accuracy: 0.9333 - val_loss: 0.2430 - val_accuracy: 0.9500 - 113ms/epoch - 9ms/step\n",
      "Epoch 18/100\n",
      "12/12 - 0s - loss: 0.1610 - accuracy: 0.9306 - val_loss: 0.2294 - val_accuracy: 0.9250 - 114ms/epoch - 10ms/step\n",
      "Epoch 19/100\n",
      "12/12 - 0s - loss: 0.1525 - accuracy: 0.9278 - val_loss: 0.2697 - val_accuracy: 0.9250 - 104ms/epoch - 9ms/step\n",
      "Epoch 20/100\n",
      "12/12 - 0s - loss: 0.1497 - accuracy: 0.9222 - val_loss: 0.2377 - val_accuracy: 0.9250 - 113ms/epoch - 9ms/step\n",
      "Epoch 21/100\n",
      "12/12 - 0s - loss: 0.1415 - accuracy: 0.9333 - val_loss: 0.2484 - val_accuracy: 0.9250 - 105ms/epoch - 9ms/step\n",
      "Epoch 22/100\n",
      "12/12 - 0s - loss: 0.1485 - accuracy: 0.9389 - val_loss: 0.2381 - val_accuracy: 0.9250 - 99ms/epoch - 8ms/step\n",
      "Epoch 23/100\n",
      "12/12 - 0s - loss: 0.1454 - accuracy: 0.9278 - val_loss: 0.2604 - val_accuracy: 0.9000 - 103ms/epoch - 9ms/step\n",
      "Epoch 24/100\n",
      "12/12 - 0s - loss: 0.1590 - accuracy: 0.9306 - val_loss: 0.2589 - val_accuracy: 0.9000 - 113ms/epoch - 9ms/step\n",
      "Epoch 25/100\n",
      "12/12 - 0s - loss: 0.1444 - accuracy: 0.9278 - val_loss: 0.2435 - val_accuracy: 0.9250 - 112ms/epoch - 9ms/step\n",
      "Epoch 26/100\n",
      "12/12 - 0s - loss: 0.1429 - accuracy: 0.9333 - val_loss: 0.2545 - val_accuracy: 0.9250 - 99ms/epoch - 8ms/step\n",
      "Epoch 27/100\n",
      "12/12 - 0s - loss: 0.1333 - accuracy: 0.9389 - val_loss: 0.2643 - val_accuracy: 0.9250 - 111ms/epoch - 9ms/step\n",
      "Epoch 28/100\n",
      "12/12 - 0s - loss: 0.1439 - accuracy: 0.9361 - val_loss: 0.2522 - val_accuracy: 0.9250 - 105ms/epoch - 9ms/step\n",
      "Epoch 29/100\n",
      "12/12 - 0s - loss: 0.1579 - accuracy: 0.9139 - val_loss: 0.2427 - val_accuracy: 0.9500 - 97ms/epoch - 8ms/step\n",
      "Epoch 30/100\n",
      "12/12 - 0s - loss: 0.1530 - accuracy: 0.9361 - val_loss: 0.2655 - val_accuracy: 0.9000 - 100ms/epoch - 8ms/step\n",
      "Epoch 31/100\n",
      "12/12 - 0s - loss: 0.1444 - accuracy: 0.9278 - val_loss: 0.2629 - val_accuracy: 0.9000 - 106ms/epoch - 9ms/step\n",
      "Epoch 32/100\n",
      "12/12 - 0s - loss: 0.1462 - accuracy: 0.9278 - val_loss: 0.2510 - val_accuracy: 0.9250 - 99ms/epoch - 8ms/step\n",
      "Epoch 33/100\n",
      "12/12 - 0s - loss: 0.1428 - accuracy: 0.9250 - val_loss: 0.2558 - val_accuracy: 0.9500 - 105ms/epoch - 9ms/step\n",
      "Epoch 34/100\n",
      "12/12 - 0s - loss: 0.1409 - accuracy: 0.9361 - val_loss: 0.2534 - val_accuracy: 0.9500 - 118ms/epoch - 10ms/step\n",
      "Epoch 35/100\n",
      "12/12 - 0s - loss: 0.1432 - accuracy: 0.9278 - val_loss: 0.2546 - val_accuracy: 0.9500 - 106ms/epoch - 9ms/step\n",
      "Epoch 36/100\n",
      "12/12 - 0s - loss: 0.1481 - accuracy: 0.9306 - val_loss: 0.2550 - val_accuracy: 0.9500 - 100ms/epoch - 8ms/step\n",
      "Epoch 37/100\n",
      "12/12 - 0s - loss: 0.1369 - accuracy: 0.9361 - val_loss: 0.2593 - val_accuracy: 0.9250 - 103ms/epoch - 9ms/step\n",
      "Epoch 38/100\n",
      "12/12 - 0s - loss: 0.1431 - accuracy: 0.9333 - val_loss: 0.2666 - val_accuracy: 0.9250 - 118ms/epoch - 10ms/step\n",
      "Epoch 39/100\n",
      "12/12 - 0s - loss: 0.1473 - accuracy: 0.9333 - val_loss: 0.2600 - val_accuracy: 0.9500 - 122ms/epoch - 10ms/step\n",
      "Epoch 40/100\n",
      "12/12 - 0s - loss: 0.1392 - accuracy: 0.9333 - val_loss: 0.2791 - val_accuracy: 0.9250 - 101ms/epoch - 8ms/step\n",
      "Epoch 41/100\n",
      "12/12 - 0s - loss: 0.1408 - accuracy: 0.9361 - val_loss: 0.2555 - val_accuracy: 0.9250 - 107ms/epoch - 9ms/step\n",
      "Epoch 42/100\n",
      "12/12 - 0s - loss: 0.1422 - accuracy: 0.9361 - val_loss: 0.2724 - val_accuracy: 0.9000 - 111ms/epoch - 9ms/step\n",
      "Epoch 43/100\n",
      "12/12 - 0s - loss: 0.1503 - accuracy: 0.9306 - val_loss: 0.2678 - val_accuracy: 0.9000 - 118ms/epoch - 10ms/step\n",
      "Epoch 44/100\n",
      "12/12 - 0s - loss: 0.1331 - accuracy: 0.9444 - val_loss: 0.2638 - val_accuracy: 0.9250 - 111ms/epoch - 9ms/step\n",
      "Epoch 45/100\n",
      "12/12 - 0s - loss: 0.1531 - accuracy: 0.9222 - val_loss: 0.2597 - val_accuracy: 0.9250 - 102ms/epoch - 9ms/step\n",
      "Epoch 46/100\n",
      "12/12 - 0s - loss: 0.1416 - accuracy: 0.9389 - val_loss: 0.2616 - val_accuracy: 0.9500 - 99ms/epoch - 8ms/step\n",
      "Epoch 47/100\n",
      "12/12 - 0s - loss: 0.1321 - accuracy: 0.9361 - val_loss: 0.2536 - val_accuracy: 0.9500 - 101ms/epoch - 8ms/step\n",
      "Epoch 48/100\n",
      "12/12 - 0s - loss: 0.1429 - accuracy: 0.9361 - val_loss: 0.2599 - val_accuracy: 0.9250 - 99ms/epoch - 8ms/step\n",
      "Epoch 49/100\n",
      "12/12 - 0s - loss: 0.1455 - accuracy: 0.9278 - val_loss: 0.2599 - val_accuracy: 0.9500 - 98ms/epoch - 8ms/step\n",
      "Epoch 50/100\n",
      "12/12 - 0s - loss: 0.1386 - accuracy: 0.9389 - val_loss: 0.2724 - val_accuracy: 0.9000 - 101ms/epoch - 8ms/step\n",
      "Epoch 51/100\n",
      "12/12 - 0s - loss: 0.1319 - accuracy: 0.9306 - val_loss: 0.2679 - val_accuracy: 0.9500 - 105ms/epoch - 9ms/step\n",
      "Epoch 52/100\n",
      "12/12 - 0s - loss: 0.1497 - accuracy: 0.9306 - val_loss: 0.2711 - val_accuracy: 0.9250 - 115ms/epoch - 10ms/step\n",
      "Epoch 53/100\n",
      "12/12 - 0s - loss: 0.1455 - accuracy: 0.9389 - val_loss: 0.2632 - val_accuracy: 0.9500 - 113ms/epoch - 9ms/step\n",
      "Epoch 54/100\n",
      "12/12 - 0s - loss: 0.1777 - accuracy: 0.9194 - val_loss: 0.2554 - val_accuracy: 0.9500 - 102ms/epoch - 9ms/step\n",
      "Epoch 55/100\n",
      "12/12 - 0s - loss: 0.1517 - accuracy: 0.9306 - val_loss: 0.2717 - val_accuracy: 0.9500 - 98ms/epoch - 8ms/step\n",
      "Epoch 56/100\n",
      "12/12 - 0s - loss: 0.1390 - accuracy: 0.9389 - val_loss: 0.2543 - val_accuracy: 0.9250 - 99ms/epoch - 8ms/step\n",
      "Epoch 57/100\n",
      "12/12 - 0s - loss: 0.1392 - accuracy: 0.9333 - val_loss: 0.2695 - val_accuracy: 0.9250 - 111ms/epoch - 9ms/step\n",
      "Epoch 58/100\n",
      "12/12 - 0s - loss: 0.1325 - accuracy: 0.9389 - val_loss: 0.2652 - val_accuracy: 0.9250 - 109ms/epoch - 9ms/step\n",
      "Epoch 59/100\n",
      "12/12 - 0s - loss: 0.1474 - accuracy: 0.9194 - val_loss: 0.2745 - val_accuracy: 0.9000 - 109ms/epoch - 9ms/step\n",
      "Epoch 60/100\n",
      "12/12 - 0s - loss: 0.1379 - accuracy: 0.9278 - val_loss: 0.2666 - val_accuracy: 0.9250 - 110ms/epoch - 9ms/step\n",
      "Epoch 61/100\n",
      "12/12 - 0s - loss: 0.1360 - accuracy: 0.9306 - val_loss: 0.2689 - val_accuracy: 0.9500 - 107ms/epoch - 9ms/step\n",
      "Epoch 62/100\n",
      "12/12 - 0s - loss: 0.1391 - accuracy: 0.9333 - val_loss: 0.2677 - val_accuracy: 0.9500 - 112ms/epoch - 9ms/step\n",
      "Epoch 63/100\n",
      "12/12 - 0s - loss: 0.1388 - accuracy: 0.9361 - val_loss: 0.2679 - val_accuracy: 0.9500 - 102ms/epoch - 8ms/step\n",
      "Epoch 64/100\n",
      "12/12 - 0s - loss: 0.1323 - accuracy: 0.9444 - val_loss: 0.2750 - val_accuracy: 0.9500 - 101ms/epoch - 8ms/step\n",
      "Epoch 65/100\n",
      "12/12 - 0s - loss: 0.1475 - accuracy: 0.9278 - val_loss: 0.2680 - val_accuracy: 0.9250 - 99ms/epoch - 8ms/step\n",
      "Epoch 66/100\n",
      "12/12 - 0s - loss: 0.1399 - accuracy: 0.9333 - val_loss: 0.2679 - val_accuracy: 0.9500 - 102ms/epoch - 9ms/step\n",
      "Epoch 67/100\n",
      "12/12 - 0s - loss: 0.1603 - accuracy: 0.9306 - val_loss: 0.2809 - val_accuracy: 0.9250 - 114ms/epoch - 10ms/step\n"
     ]
    },
    {
     "name": "stdout",
     "output_type": "stream",
     "text": [
      "Epoch 68/100\n",
      "12/12 - 0s - loss: 0.1504 - accuracy: 0.9250 - val_loss: 0.2750 - val_accuracy: 0.9500 - 113ms/epoch - 9ms/step\n",
      "Epoch 69/100\n",
      "12/12 - 0s - loss: 0.1371 - accuracy: 0.9389 - val_loss: 0.2645 - val_accuracy: 0.9250 - 112ms/epoch - 9ms/step\n",
      "Epoch 70/100\n",
      "12/12 - 0s - loss: 0.1412 - accuracy: 0.9389 - val_loss: 0.2652 - val_accuracy: 0.9500 - 116ms/epoch - 10ms/step\n",
      "Epoch 71/100\n",
      "12/12 - 0s - loss: 0.1560 - accuracy: 0.9333 - val_loss: 0.2584 - val_accuracy: 0.9500 - 113ms/epoch - 9ms/step\n",
      "Epoch 72/100\n",
      "12/12 - 0s - loss: 0.1532 - accuracy: 0.9333 - val_loss: 0.2788 - val_accuracy: 0.9250 - 112ms/epoch - 9ms/step\n",
      "Epoch 73/100\n",
      "12/12 - 0s - loss: 0.1454 - accuracy: 0.9333 - val_loss: 0.2586 - val_accuracy: 0.9250 - 105ms/epoch - 9ms/step\n",
      "Epoch 74/100\n",
      "12/12 - 0s - loss: 0.1488 - accuracy: 0.9250 - val_loss: 0.2825 - val_accuracy: 0.9250 - 98ms/epoch - 8ms/step\n",
      "Epoch 75/100\n",
      "12/12 - 0s - loss: 0.1544 - accuracy: 0.9167 - val_loss: 0.2675 - val_accuracy: 0.9500 - 98ms/epoch - 8ms/step\n",
      "Epoch 76/100\n",
      "12/12 - 0s - loss: 0.1286 - accuracy: 0.9417 - val_loss: 0.2720 - val_accuracy: 0.9500 - 97ms/epoch - 8ms/step\n",
      "Epoch 77/100\n",
      "12/12 - 0s - loss: 0.1347 - accuracy: 0.9417 - val_loss: 0.2682 - val_accuracy: 0.9500 - 97ms/epoch - 8ms/step\n",
      "Epoch 78/100\n",
      "12/12 - 0s - loss: 0.1404 - accuracy: 0.9278 - val_loss: 0.2762 - val_accuracy: 0.9500 - 98ms/epoch - 8ms/step\n",
      "Epoch 79/100\n",
      "12/12 - 0s - loss: 0.1342 - accuracy: 0.9389 - val_loss: 0.2719 - val_accuracy: 0.9500 - 110ms/epoch - 9ms/step\n",
      "Epoch 80/100\n",
      "12/12 - 0s - loss: 0.1402 - accuracy: 0.9389 - val_loss: 0.2794 - val_accuracy: 0.9250 - 114ms/epoch - 9ms/step\n",
      "Epoch 81/100\n",
      "12/12 - 0s - loss: 0.1355 - accuracy: 0.9389 - val_loss: 0.2682 - val_accuracy: 0.9500 - 114ms/epoch - 9ms/step\n",
      "Epoch 82/100\n",
      "12/12 - 0s - loss: 0.1257 - accuracy: 0.9472 - val_loss: 0.2778 - val_accuracy: 0.9500 - 117ms/epoch - 10ms/step\n",
      "Epoch 83/100\n",
      "12/12 - 0s - loss: 0.1305 - accuracy: 0.9333 - val_loss: 0.2758 - val_accuracy: 0.9250 - 115ms/epoch - 10ms/step\n",
      "Epoch 84/100\n",
      "12/12 - 0s - loss: 0.1363 - accuracy: 0.9306 - val_loss: 0.2836 - val_accuracy: 0.9250 - 108ms/epoch - 9ms/step\n",
      "Epoch 85/100\n",
      "12/12 - 0s - loss: 0.1359 - accuracy: 0.9444 - val_loss: 0.2754 - val_accuracy: 0.9500 - 107ms/epoch - 9ms/step\n",
      "Epoch 86/100\n",
      "12/12 - 0s - loss: 0.1405 - accuracy: 0.9333 - val_loss: 0.2743 - val_accuracy: 0.9500 - 108ms/epoch - 9ms/step\n",
      "Epoch 87/100\n",
      "12/12 - 0s - loss: 0.1433 - accuracy: 0.9306 - val_loss: 0.2774 - val_accuracy: 0.9500 - 119ms/epoch - 10ms/step\n",
      "Epoch 88/100\n",
      "12/12 - 0s - loss: 0.1577 - accuracy: 0.9167 - val_loss: 0.2628 - val_accuracy: 0.9500 - 102ms/epoch - 9ms/step\n",
      "Epoch 89/100\n",
      "12/12 - 0s - loss: 0.1382 - accuracy: 0.9361 - val_loss: 0.2745 - val_accuracy: 0.9500 - 100ms/epoch - 8ms/step\n",
      "Epoch 90/100\n",
      "12/12 - 0s - loss: 0.1357 - accuracy: 0.9333 - val_loss: 0.2748 - val_accuracy: 0.9250 - 101ms/epoch - 8ms/step\n",
      "Epoch 91/100\n",
      "12/12 - 0s - loss: 0.1316 - accuracy: 0.9389 - val_loss: 0.2796 - val_accuracy: 0.9250 - 102ms/epoch - 9ms/step\n",
      "Epoch 92/100\n",
      "12/12 - 0s - loss: 0.1397 - accuracy: 0.9361 - val_loss: 0.2815 - val_accuracy: 0.9250 - 121ms/epoch - 10ms/step\n",
      "Epoch 93/100\n",
      "12/12 - 0s - loss: 0.1357 - accuracy: 0.9306 - val_loss: 0.2777 - val_accuracy: 0.9250 - 98ms/epoch - 8ms/step\n",
      "Epoch 94/100\n",
      "12/12 - 0s - loss: 0.1320 - accuracy: 0.9306 - val_loss: 0.2809 - val_accuracy: 0.9250 - 102ms/epoch - 8ms/step\n",
      "Epoch 95/100\n",
      "12/12 - 0s - loss: 0.1337 - accuracy: 0.9389 - val_loss: 0.2817 - val_accuracy: 0.9500 - 100ms/epoch - 8ms/step\n",
      "Epoch 96/100\n",
      "12/12 - 0s - loss: 0.1364 - accuracy: 0.9250 - val_loss: 0.2861 - val_accuracy: 0.9500 - 99ms/epoch - 8ms/step\n",
      "Epoch 97/100\n",
      "12/12 - 0s - loss: 0.1292 - accuracy: 0.9389 - val_loss: 0.2929 - val_accuracy: 0.9250 - 102ms/epoch - 8ms/step\n",
      "Epoch 98/100\n",
      "12/12 - 0s - loss: 0.1337 - accuracy: 0.9389 - val_loss: 0.2787 - val_accuracy: 0.9500 - 103ms/epoch - 9ms/step\n",
      "Epoch 99/100\n",
      "12/12 - 0s - loss: 0.1608 - accuracy: 0.9194 - val_loss: 0.2975 - val_accuracy: 0.9250 - 103ms/epoch - 9ms/step\n",
      "Epoch 100/100\n",
      "12/12 - 0s - loss: 0.1355 - accuracy: 0.9417 - val_loss: 0.2770 - val_accuracy: 0.9250 - 100ms/epoch - 8ms/step\n"
     ]
    }
   ],
   "source": [
    "history_2 = model_2.fit(X_train_normalized,\n",
    "                         \n",
    "                    y_train, \n",
    "\n",
    "                    validation_split = 0.1,\n",
    "\n",
    "                    epochs = 100,\n",
    "\n",
    "                    verbose = 2)"
   ]
  },
  {
   "cell_type": "code",
   "execution_count": 30,
   "metadata": {
    "ExecuteTime": {
     "end_time": "2023-05-15T21:56:14.269178Z",
     "start_time": "2023-05-15T21:56:14.157086Z"
    },
    "colab": {
     "base_uri": "https://localhost:8080/",
     "height": 295
    },
    "id": "i96cw1viV9om",
    "outputId": "ae2f5543-642a-4310-cdeb-1fb9c3885d23"
   },
   "outputs": [
    {
     "data": {
      "image/png": "[encoded data removed]",
      "text/plain": [
       "<Figure size 640x480 with 1 Axes>"
      ]
     },
     "metadata": {},
     "output_type": "display_data"
    }
   ],
   "source": [
    "plt.plot(history_2.history['accuracy'])\n",
    "\n",
    "plt.plot(history_2.history['val_accuracy'])\n",
    "\n",
    "plt.title('Accuracy vs Epochs')\n",
    "\n",
    "plt.ylabel('Accuracy')\n",
    "\n",
    "plt.xlabel('Epoch')\n",
    "\n",
    "plt.legend(['Train', 'Validation'], loc = 'lower right')\n",
    "\n",
    "plt.show()"
   ]
  },
  {
   "cell_type": "markdown",
   "metadata": {
    "id": "Iu0UbJjKAi8z"
   },
   "source": [
    "**Observations:** \n",
    "\n",
    "- Roughly the same results as the previous model.\n",
    "- The validation accuracy is higher than the training accuracy. This might be due to the small size of the validation set and the model can correctly classify the data points in the validation set."
   ]
  },
  {
   "cell_type": "markdown",
   "metadata": {
    "id": "TLXYwazvu0jQ"
   },
   "source": [
    "Let's try to further tune some of the hyper-parameters and check if we can improve the model performance.\n",
    "\n",
    "We will use learning_rate = 0.001 for the optimizer in the training process and increase the model complexity by further increasing the number of layers, the number of nodes in each layer, and the epochs."
   ]
  },
  {
   "cell_type": "code",
   "execution_count": 31,
   "metadata": {
    "ExecuteTime": {
     "end_time": "2023-05-15T21:57:22.154397Z",
     "start_time": "2023-05-15T21:57:22.012926Z"
    },
    "id": "N7aNw91z_wgD"
   },
   "outputs": [],
   "source": [
    "# Clearing the backend\n",
    "from tensorflow.keras import backend\n",
    "\n",
    "backend.clear_session()"
   ]
  },
  {
   "cell_type": "code",
   "execution_count": 32,
   "metadata": {
    "ExecuteTime": {
     "end_time": "2023-05-15T21:57:24.561749Z",
     "start_time": "2023-05-15T21:57:24.552178Z"
    },
    "id": "1HMdf0uSO3uw"
   },
   "outputs": [],
   "source": [
    "# Fixing the seed for random number generators\n",
    "np.random.seed(42)\n",
    "\n",
    "import random\n",
    "\n",
    "random.seed(42)\n",
    "\n",
    "tf.random.set_seed(42)"
   ]
  },
  {
   "cell_type": "code",
   "execution_count": 33,
   "metadata": {
    "ExecuteTime": {
     "end_time": "2023-05-15T21:57:25.972969Z",
     "start_time": "2023-05-15T21:57:25.881140Z"
    },
    "id": "xRpBpRf_vXJO"
   },
   "outputs": [],
   "source": [
    "model_3 = Sequential()\n",
    "\n",
    "model_3.add(Dense(256, activation = 'tanh', input_shape = (11, )))\n",
    "\n",
    "model_3.add(Dropout(0.1))\n",
    "\n",
    "model_3.add(Dense(128, activation = 'tanh'))\n",
    "\n",
    "model_3.add(Dropout(0.1))\n",
    "\n",
    "model_3.add(Dense(64, activation = 'tanh'))\n",
    "\n",
    "model_3.add(Dropout(0.1))\n",
    "\n",
    "model_3.add(Dense(32, activation = 'tanh'))\n",
    "\n",
    "model_3.add(Dense(1, activation = 'sigmoid'))"
   ]
  },
  {
   "cell_type": "code",
   "execution_count": 34,
   "metadata": {
    "ExecuteTime": {
     "end_time": "2023-05-15T21:57:27.443120Z",
     "start_time": "2023-05-15T21:57:27.415566Z"
    },
    "colab": {
     "base_uri": "https://localhost:8080/"
    },
    "id": "_kUFccLDy48t",
    "outputId": "9fec9e52-1e08-413f-a165-dd2b4107c163"
   },
   "outputs": [
    {
     "name": "stdout",
     "output_type": "stream",
     "text": [
      "Model: \"sequential\"\n",
      "_________________________________________________________________\n",
      " Layer (type)                Output Shape              Param #   \n",
      "=================================================================\n",
      " dense (Dense)               (None, 256)               3072      \n",
      "                                                                 \n",
      " dropout (Dropout)           (None, 256)               0         \n",
      "                                                                 \n",
      " dense_1 (Dense)             (None, 128)               32896     \n",
      "                                                                 \n",
      " dropout_1 (Dropout)         (None, 128)               0         \n",
      "                                                                 \n",
      " dense_2 (Dense)             (None, 64)                8256      \n",
      "                                                                 \n",
      " dropout_2 (Dropout)         (None, 64)                0         \n",
      "                                                                 \n",
      " dense_3 (Dense)             (None, 32)                2080      \n",
      "                                                                 \n",
      " dense_4 (Dense)             (None, 1)                 33        \n",
      "                                                                 \n",
      "=================================================================\n",
      "Total params: 46,337\n",
      "Trainable params: 46,337\n",
      "Non-trainable params: 0\n",
      "_________________________________________________________________\n"
     ]
    }
   ],
   "source": [
    "model_3.compile(loss = 'binary_crossentropy', optimizer = tf.keras.optimizers.Adam(learning_rate = 0.001), metrics = ['accuracy'])\n",
    "\n",
    "model_3.summary()"
   ]
  },
  {
   "cell_type": "markdown",
   "metadata": {
    "id": "8LBADqBprJ7J"
   },
   "source": [
    "- Notice that the number of trainable parameters has increased substantially in comparison to previous models."
   ]
  },
  {
   "cell_type": "code",
   "execution_count": 35,
   "metadata": {
    "ExecuteTime": {
     "end_time": "2023-05-15T21:57:55.576004Z",
     "start_time": "2023-05-15T21:57:30.540059Z"
    },
    "colab": {
     "base_uri": "https://localhost:8080/"
    },
    "id": "OLN7jZWmy_fb",
    "outputId": "0e78e20c-3af2-4576-be97-fa0ac08da23d",
    "scrolled": false
   },
   "outputs": [
    {
     "name": "stdout",
     "output_type": "stream",
     "text": [
      "Epoch 1/200\n"
     ]
    },
    {
     "name": "stderr",
     "output_type": "stream",
     "text": [
      "2023-05-15 23:57:30.733579: I tensorflow/core/grappler/optimizers/custom_graph_optimizer_registry.cc:113] Plugin optimizer for device_type GPU is enabled.\n"
     ]
    },
    {
     "name": "stdout",
     "output_type": "stream",
     "text": [
      "12/12 - 1s - loss: 0.4994 - accuracy: 0.7917 - val_loss: 0.3555 - val_accuracy: 0.9000 - 802ms/epoch - 67ms/step\n",
      "Epoch 2/200\n"
     ]
    },
    {
     "name": "stderr",
     "output_type": "stream",
     "text": [
      "2023-05-15 23:57:31.274045: I tensorflow/core/grappler/optimizers/custom_graph_optimizer_registry.cc:113] Plugin optimizer for device_type GPU is enabled.\n"
     ]
    },
    {
     "name": "stdout",
     "output_type": "stream",
     "text": [
      "12/12 - 0s - loss: 0.3494 - accuracy: 0.8694 - val_loss: 0.3272 - val_accuracy: 0.9000 - 132ms/epoch - 11ms/step\n",
      "Epoch 3/200\n",
      "12/12 - 0s - loss: 0.3308 - accuracy: 0.8611 - val_loss: 0.2997 - val_accuracy: 0.9000 - 137ms/epoch - 11ms/step\n",
      "Epoch 4/200\n",
      "12/12 - 0s - loss: 0.3031 - accuracy: 0.8667 - val_loss: 0.2826 - val_accuracy: 0.9250 - 120ms/epoch - 10ms/step\n",
      "Epoch 5/200\n",
      "12/12 - 0s - loss: 0.2892 - accuracy: 0.8806 - val_loss: 0.2477 - val_accuracy: 0.9000 - 126ms/epoch - 11ms/step\n",
      "Epoch 6/200\n",
      "12/12 - 0s - loss: 0.2997 - accuracy: 0.8528 - val_loss: 0.2661 - val_accuracy: 0.9250 - 122ms/epoch - 10ms/step\n",
      "Epoch 7/200\n",
      "12/12 - 0s - loss: 0.2533 - accuracy: 0.8833 - val_loss: 0.2880 - val_accuracy: 0.9250 - 117ms/epoch - 10ms/step\n",
      "Epoch 8/200\n",
      "12/12 - 0s - loss: 0.2364 - accuracy: 0.9000 - val_loss: 0.2642 - val_accuracy: 0.9250 - 117ms/epoch - 10ms/step\n",
      "Epoch 9/200\n",
      "12/12 - 0s - loss: 0.2494 - accuracy: 0.8778 - val_loss: 0.2312 - val_accuracy: 0.9250 - 112ms/epoch - 9ms/step\n",
      "Epoch 10/200\n",
      "12/12 - 0s - loss: 0.2256 - accuracy: 0.9028 - val_loss: 0.2238 - val_accuracy: 0.9250 - 120ms/epoch - 10ms/step\n",
      "Epoch 11/200\n",
      "12/12 - 0s - loss: 0.1945 - accuracy: 0.9167 - val_loss: 0.3033 - val_accuracy: 0.9000 - 116ms/epoch - 10ms/step\n",
      "Epoch 12/200\n",
      "12/12 - 0s - loss: 0.2146 - accuracy: 0.9056 - val_loss: 0.2391 - val_accuracy: 0.9250 - 114ms/epoch - 10ms/step\n",
      "Epoch 13/200\n",
      "12/12 - 0s - loss: 0.2056 - accuracy: 0.9028 - val_loss: 0.2656 - val_accuracy: 0.9250 - 123ms/epoch - 10ms/step\n",
      "Epoch 14/200\n",
      "12/12 - 0s - loss: 0.2114 - accuracy: 0.9056 - val_loss: 0.3725 - val_accuracy: 0.9000 - 112ms/epoch - 9ms/step\n",
      "Epoch 15/200\n",
      "12/12 - 0s - loss: 0.2514 - accuracy: 0.8944 - val_loss: 0.2159 - val_accuracy: 0.9250 - 118ms/epoch - 10ms/step\n",
      "Epoch 16/200\n",
      "12/12 - 0s - loss: 0.2120 - accuracy: 0.9056 - val_loss: 0.2218 - val_accuracy: 0.9250 - 121ms/epoch - 10ms/step\n",
      "Epoch 17/200\n",
      "12/12 - 0s - loss: 0.2146 - accuracy: 0.9139 - val_loss: 0.2850 - val_accuracy: 0.9250 - 132ms/epoch - 11ms/step\n",
      "Epoch 18/200\n",
      "12/12 - 0s - loss: 0.2038 - accuracy: 0.9167 - val_loss: 0.2277 - val_accuracy: 0.9250 - 119ms/epoch - 10ms/step\n",
      "Epoch 19/200\n",
      "12/12 - 0s - loss: 0.2204 - accuracy: 0.8861 - val_loss: 0.2607 - val_accuracy: 0.9250 - 113ms/epoch - 9ms/step\n",
      "Epoch 20/200\n",
      "12/12 - 0s - loss: 0.1889 - accuracy: 0.9056 - val_loss: 0.2276 - val_accuracy: 0.9250 - 113ms/epoch - 9ms/step\n",
      "Epoch 21/200\n",
      "12/12 - 0s - loss: 0.1899 - accuracy: 0.9139 - val_loss: 0.2159 - val_accuracy: 0.9250 - 131ms/epoch - 11ms/step\n",
      "Epoch 22/200\n",
      "12/12 - 0s - loss: 0.1794 - accuracy: 0.9278 - val_loss: 0.2195 - val_accuracy: 0.9000 - 135ms/epoch - 11ms/step\n",
      "Epoch 23/200\n",
      "12/12 - 0s - loss: 0.1797 - accuracy: 0.9083 - val_loss: 0.2459 - val_accuracy: 0.9000 - 129ms/epoch - 11ms/step\n",
      "Epoch 24/200\n",
      "12/12 - 0s - loss: 0.1840 - accuracy: 0.9222 - val_loss: 0.2632 - val_accuracy: 0.9250 - 127ms/epoch - 11ms/step\n",
      "Epoch 25/200\n",
      "12/12 - 0s - loss: 0.1798 - accuracy: 0.9278 - val_loss: 0.2199 - val_accuracy: 0.9500 - 117ms/epoch - 10ms/step\n",
      "Epoch 26/200\n",
      "12/12 - 0s - loss: 0.1945 - accuracy: 0.9167 - val_loss: 0.2266 - val_accuracy: 0.9500 - 112ms/epoch - 9ms/step\n",
      "Epoch 27/200\n",
      "12/12 - 0s - loss: 0.1623 - accuracy: 0.9306 - val_loss: 0.2379 - val_accuracy: 0.9250 - 115ms/epoch - 10ms/step\n",
      "Epoch 28/200\n",
      "12/12 - 0s - loss: 0.1707 - accuracy: 0.9306 - val_loss: 0.2173 - val_accuracy: 0.9250 - 114ms/epoch - 9ms/step\n",
      "Epoch 29/200\n",
      "12/12 - 0s - loss: 0.1980 - accuracy: 0.9083 - val_loss: 0.2200 - val_accuracy: 0.9250 - 115ms/epoch - 10ms/step\n",
      "Epoch 30/200\n",
      "12/12 - 0s - loss: 0.1939 - accuracy: 0.9111 - val_loss: 0.2687 - val_accuracy: 0.9250 - 130ms/epoch - 11ms/step\n",
      "Epoch 31/200\n",
      "12/12 - 0s - loss: 0.1788 - accuracy: 0.9222 - val_loss: 0.2523 - val_accuracy: 0.9250 - 115ms/epoch - 10ms/step\n",
      "Epoch 32/200\n",
      "12/12 - 0s - loss: 0.1813 - accuracy: 0.9139 - val_loss: 0.2262 - val_accuracy: 0.9500 - 111ms/epoch - 9ms/step\n",
      "Epoch 33/200\n",
      "12/12 - 0s - loss: 0.1608 - accuracy: 0.9250 - val_loss: 0.2356 - val_accuracy: 0.9250 - 128ms/epoch - 11ms/step\n",
      "Epoch 34/200\n",
      "12/12 - 0s - loss: 0.1627 - accuracy: 0.9444 - val_loss: 0.2351 - val_accuracy: 0.9250 - 128ms/epoch - 11ms/step\n",
      "Epoch 35/200\n",
      "12/12 - 0s - loss: 0.1694 - accuracy: 0.9250 - val_loss: 0.2222 - val_accuracy: 0.9250 - 125ms/epoch - 10ms/step\n",
      "Epoch 36/200\n",
      "12/12 - 0s - loss: 0.1753 - accuracy: 0.9194 - val_loss: 0.2418 - val_accuracy: 0.9250 - 127ms/epoch - 11ms/step\n",
      "Epoch 37/200\n",
      "12/12 - 0s - loss: 0.1659 - accuracy: 0.9194 - val_loss: 0.2238 - val_accuracy: 0.9250 - 113ms/epoch - 9ms/step\n",
      "Epoch 38/200\n",
      "12/12 - 0s - loss: 0.1623 - accuracy: 0.9389 - val_loss: 0.2303 - val_accuracy: 0.9000 - 119ms/epoch - 10ms/step\n",
      "Epoch 39/200\n",
      "12/12 - 0s - loss: 0.1739 - accuracy: 0.9167 - val_loss: 0.2257 - val_accuracy: 0.9500 - 113ms/epoch - 9ms/step\n",
      "Epoch 40/200\n",
      "12/12 - 0s - loss: 0.1674 - accuracy: 0.9306 - val_loss: 0.2669 - val_accuracy: 0.9250 - 115ms/epoch - 10ms/step\n",
      "Epoch 41/200\n",
      "12/12 - 0s - loss: 0.1669 - accuracy: 0.9250 - val_loss: 0.2242 - val_accuracy: 0.9500 - 120ms/epoch - 10ms/step\n",
      "Epoch 42/200\n",
      "12/12 - 0s - loss: 0.1514 - accuracy: 0.9278 - val_loss: 0.2471 - val_accuracy: 0.9250 - 118ms/epoch - 10ms/step\n",
      "Epoch 43/200\n",
      "12/12 - 0s - loss: 0.1642 - accuracy: 0.9250 - val_loss: 0.2408 - val_accuracy: 0.9250 - 111ms/epoch - 9ms/step\n",
      "Epoch 44/200\n",
      "12/12 - 0s - loss: 0.1595 - accuracy: 0.9194 - val_loss: 0.2245 - val_accuracy: 0.9500 - 113ms/epoch - 9ms/step\n",
      "Epoch 45/200\n",
      "12/12 - 0s - loss: 0.1704 - accuracy: 0.9139 - val_loss: 0.2241 - val_accuracy: 0.9500 - 113ms/epoch - 9ms/step\n",
      "Epoch 46/200\n",
      "12/12 - 0s - loss: 0.1582 - accuracy: 0.9333 - val_loss: 0.2233 - val_accuracy: 0.9000 - 122ms/epoch - 10ms/step\n",
      "Epoch 47/200\n",
      "12/12 - 0s - loss: 0.1473 - accuracy: 0.9306 - val_loss: 0.2184 - val_accuracy: 0.9250 - 127ms/epoch - 11ms/step\n",
      "Epoch 48/200\n",
      "12/12 - 0s - loss: 0.1637 - accuracy: 0.9194 - val_loss: 0.2302 - val_accuracy: 0.9000 - 123ms/epoch - 10ms/step\n",
      "Epoch 49/200\n",
      "12/12 - 0s - loss: 0.1646 - accuracy: 0.9250 - val_loss: 0.2260 - val_accuracy: 0.9250 - 124ms/epoch - 10ms/step\n",
      "Epoch 50/200\n",
      "12/12 - 0s - loss: 0.1523 - accuracy: 0.9361 - val_loss: 0.2506 - val_accuracy: 0.9000 - 123ms/epoch - 10ms/step\n",
      "Epoch 51/200\n",
      "12/12 - 0s - loss: 0.1516 - accuracy: 0.9306 - val_loss: 0.2315 - val_accuracy: 0.9250 - 111ms/epoch - 9ms/step\n",
      "Epoch 52/200\n",
      "12/12 - 0s - loss: 0.1715 - accuracy: 0.9139 - val_loss: 0.2199 - val_accuracy: 0.9250 - 110ms/epoch - 9ms/step\n",
      "Epoch 53/200\n",
      "12/12 - 0s - loss: 0.1576 - accuracy: 0.9222 - val_loss: 0.2682 - val_accuracy: 0.9250 - 109ms/epoch - 9ms/step\n",
      "Epoch 54/200\n",
      "12/12 - 0s - loss: 0.1969 - accuracy: 0.9000 - val_loss: 0.2261 - val_accuracy: 0.9500 - 115ms/epoch - 10ms/step\n",
      "Epoch 55/200\n",
      "12/12 - 0s - loss: 0.1711 - accuracy: 0.9167 - val_loss: 0.2248 - val_accuracy: 0.9250 - 121ms/epoch - 10ms/step\n",
      "Epoch 56/200\n",
      "12/12 - 0s - loss: 0.1652 - accuracy: 0.9222 - val_loss: 0.2341 - val_accuracy: 0.9250 - 135ms/epoch - 11ms/step\n",
      "Epoch 57/200\n",
      "12/12 - 0s - loss: 0.1601 - accuracy: 0.9194 - val_loss: 0.2287 - val_accuracy: 0.9250 - 127ms/epoch - 11ms/step\n",
      "Epoch 58/200\n",
      "12/12 - 0s - loss: 0.1443 - accuracy: 0.9333 - val_loss: 0.2330 - val_accuracy: 0.9250 - 112ms/epoch - 9ms/step\n",
      "Epoch 59/200\n",
      "12/12 - 0s - loss: 0.1817 - accuracy: 0.9028 - val_loss: 0.2587 - val_accuracy: 0.9250 - 113ms/epoch - 9ms/step\n",
      "Epoch 60/200\n",
      "12/12 - 0s - loss: 0.1607 - accuracy: 0.9278 - val_loss: 0.2329 - val_accuracy: 0.9250 - 127ms/epoch - 11ms/step\n",
      "Epoch 61/200\n",
      "12/12 - 0s - loss: 0.1522 - accuracy: 0.9333 - val_loss: 0.2332 - val_accuracy: 0.9000 - 123ms/epoch - 10ms/step\n",
      "Epoch 62/200\n",
      "12/12 - 0s - loss: 0.1510 - accuracy: 0.9278 - val_loss: 0.2430 - val_accuracy: 0.9250 - 116ms/epoch - 10ms/step\n",
      "Epoch 63/200\n",
      "12/12 - 0s - loss: 0.1564 - accuracy: 0.9250 - val_loss: 0.2317 - val_accuracy: 0.9500 - 124ms/epoch - 10ms/step\n",
      "Epoch 64/200\n",
      "12/12 - 0s - loss: 0.1430 - accuracy: 0.9250 - val_loss: 0.2530 - val_accuracy: 0.9250 - 123ms/epoch - 10ms/step\n",
      "Epoch 65/200\n",
      "12/12 - 0s - loss: 0.1586 - accuracy: 0.9194 - val_loss: 0.2318 - val_accuracy: 0.9000 - 111ms/epoch - 9ms/step\n",
      "Epoch 66/200\n",
      "12/12 - 0s - loss: 0.1686 - accuracy: 0.9250 - val_loss: 0.2323 - val_accuracy: 0.9500 - 119ms/epoch - 10ms/step\n",
      "Epoch 67/200\n",
      "12/12 - 0s - loss: 0.1911 - accuracy: 0.9139 - val_loss: 0.2498 - val_accuracy: 0.9250 - 121ms/epoch - 10ms/step\n"
     ]
    },
    {
     "name": "stdout",
     "output_type": "stream",
     "text": [
      "Epoch 68/200\n",
      "12/12 - 0s - loss: 0.1755 - accuracy: 0.9139 - val_loss: 0.2370 - val_accuracy: 0.9250 - 111ms/epoch - 9ms/step\n",
      "Epoch 69/200\n",
      "12/12 - 0s - loss: 0.1530 - accuracy: 0.9333 - val_loss: 0.2202 - val_accuracy: 0.9250 - 128ms/epoch - 11ms/step\n",
      "Epoch 70/200\n",
      "12/12 - 0s - loss: 0.1562 - accuracy: 0.9306 - val_loss: 0.2204 - val_accuracy: 0.9500 - 119ms/epoch - 10ms/step\n",
      "Epoch 71/200\n",
      "12/12 - 0s - loss: 0.1667 - accuracy: 0.9222 - val_loss: 0.2160 - val_accuracy: 0.9500 - 112ms/epoch - 9ms/step\n",
      "Epoch 72/200\n",
      "12/12 - 0s - loss: 0.1667 - accuracy: 0.9139 - val_loss: 0.2751 - val_accuracy: 0.9250 - 124ms/epoch - 10ms/step\n",
      "Epoch 73/200\n",
      "12/12 - 0s - loss: 0.1559 - accuracy: 0.9250 - val_loss: 0.2125 - val_accuracy: 0.9250 - 114ms/epoch - 9ms/step\n",
      "Epoch 74/200\n",
      "12/12 - 0s - loss: 0.1593 - accuracy: 0.9222 - val_loss: 0.2680 - val_accuracy: 0.9250 - 111ms/epoch - 9ms/step\n",
      "Epoch 75/200\n",
      "12/12 - 0s - loss: 0.1839 - accuracy: 0.9139 - val_loss: 0.2167 - val_accuracy: 0.9250 - 127ms/epoch - 11ms/step\n",
      "Epoch 76/200\n",
      "12/12 - 0s - loss: 0.1425 - accuracy: 0.9333 - val_loss: 0.2267 - val_accuracy: 0.9250 - 125ms/epoch - 10ms/step\n",
      "Epoch 77/200\n",
      "12/12 - 0s - loss: 0.1496 - accuracy: 0.9361 - val_loss: 0.2163 - val_accuracy: 0.9250 - 130ms/epoch - 11ms/step\n",
      "Epoch 78/200\n",
      "12/12 - 0s - loss: 0.1474 - accuracy: 0.9278 - val_loss: 0.2362 - val_accuracy: 0.9250 - 135ms/epoch - 11ms/step\n",
      "Epoch 79/200\n",
      "12/12 - 0s - loss: 0.1419 - accuracy: 0.9333 - val_loss: 0.2146 - val_accuracy: 0.9250 - 129ms/epoch - 11ms/step\n",
      "Epoch 80/200\n",
      "12/12 - 0s - loss: 0.1525 - accuracy: 0.9306 - val_loss: 0.2391 - val_accuracy: 0.9000 - 123ms/epoch - 10ms/step\n",
      "Epoch 81/200\n",
      "12/12 - 0s - loss: 0.1452 - accuracy: 0.9333 - val_loss: 0.2294 - val_accuracy: 0.9500 - 131ms/epoch - 11ms/step\n",
      "Epoch 82/200\n",
      "12/12 - 0s - loss: 0.1472 - accuracy: 0.9389 - val_loss: 0.2267 - val_accuracy: 0.9250 - 130ms/epoch - 11ms/step\n",
      "Epoch 83/200\n",
      "12/12 - 0s - loss: 0.1487 - accuracy: 0.9306 - val_loss: 0.2409 - val_accuracy: 0.9250 - 129ms/epoch - 11ms/step\n",
      "Epoch 84/200\n",
      "12/12 - 0s - loss: 0.1489 - accuracy: 0.9333 - val_loss: 0.2224 - val_accuracy: 0.9250 - 132ms/epoch - 11ms/step\n",
      "Epoch 85/200\n",
      "12/12 - 0s - loss: 0.1395 - accuracy: 0.9361 - val_loss: 0.2264 - val_accuracy: 0.9250 - 133ms/epoch - 11ms/step\n",
      "Epoch 86/200\n",
      "12/12 - 0s - loss: 0.1480 - accuracy: 0.9250 - val_loss: 0.2194 - val_accuracy: 0.9500 - 130ms/epoch - 11ms/step\n",
      "Epoch 87/200\n",
      "12/12 - 0s - loss: 0.1496 - accuracy: 0.9306 - val_loss: 0.2450 - val_accuracy: 0.9250 - 125ms/epoch - 10ms/step\n",
      "Epoch 88/200\n",
      "12/12 - 0s - loss: 0.1828 - accuracy: 0.9139 - val_loss: 0.2101 - val_accuracy: 0.9250 - 119ms/epoch - 10ms/step\n",
      "Epoch 89/200\n",
      "12/12 - 0s - loss: 0.1516 - accuracy: 0.9250 - val_loss: 0.2273 - val_accuracy: 0.9250 - 113ms/epoch - 9ms/step\n",
      "Epoch 90/200\n",
      "12/12 - 0s - loss: 0.1461 - accuracy: 0.9389 - val_loss: 0.2272 - val_accuracy: 0.9250 - 113ms/epoch - 9ms/step\n",
      "Epoch 91/200\n",
      "12/12 - 0s - loss: 0.1469 - accuracy: 0.9333 - val_loss: 0.2275 - val_accuracy: 0.9000 - 112ms/epoch - 9ms/step\n",
      "Epoch 92/200\n",
      "12/12 - 0s - loss: 0.1470 - accuracy: 0.9278 - val_loss: 0.2311 - val_accuracy: 0.9250 - 112ms/epoch - 9ms/step\n",
      "Epoch 93/200\n",
      "12/12 - 0s - loss: 0.1451 - accuracy: 0.9278 - val_loss: 0.2193 - val_accuracy: 0.9500 - 112ms/epoch - 9ms/step\n",
      "Epoch 94/200\n",
      "12/12 - 0s - loss: 0.1459 - accuracy: 0.9333 - val_loss: 0.2281 - val_accuracy: 0.9250 - 116ms/epoch - 10ms/step\n",
      "Epoch 95/200\n",
      "12/12 - 0s - loss: 0.1367 - accuracy: 0.9361 - val_loss: 0.2384 - val_accuracy: 0.9500 - 115ms/epoch - 10ms/step\n",
      "Epoch 96/200\n",
      "12/12 - 0s - loss: 0.1539 - accuracy: 0.9250 - val_loss: 0.2322 - val_accuracy: 0.9500 - 114ms/epoch - 10ms/step\n",
      "Epoch 97/200\n",
      "12/12 - 0s - loss: 0.1393 - accuracy: 0.9333 - val_loss: 0.2429 - val_accuracy: 0.9250 - 116ms/epoch - 10ms/step\n",
      "Epoch 98/200\n",
      "12/12 - 0s - loss: 0.1347 - accuracy: 0.9333 - val_loss: 0.2276 - val_accuracy: 0.9250 - 130ms/epoch - 11ms/step\n",
      "Epoch 99/200\n",
      "12/12 - 0s - loss: 0.1643 - accuracy: 0.9111 - val_loss: 0.2407 - val_accuracy: 0.9250 - 127ms/epoch - 11ms/step\n",
      "Epoch 100/200\n",
      "12/12 - 0s - loss: 0.1371 - accuracy: 0.9333 - val_loss: 0.2233 - val_accuracy: 0.9500 - 131ms/epoch - 11ms/step\n",
      "Epoch 101/200\n",
      "12/12 - 0s - loss: 0.1406 - accuracy: 0.9278 - val_loss: 0.2248 - val_accuracy: 0.9500 - 130ms/epoch - 11ms/step\n",
      "Epoch 102/200\n",
      "12/12 - 0s - loss: 0.1361 - accuracy: 0.9361 - val_loss: 0.2237 - val_accuracy: 0.9250 - 123ms/epoch - 10ms/step\n",
      "Epoch 103/200\n",
      "12/12 - 0s - loss: 0.1430 - accuracy: 0.9361 - val_loss: 0.2448 - val_accuracy: 0.9250 - 111ms/epoch - 9ms/step\n",
      "Epoch 104/200\n",
      "12/12 - 0s - loss: 0.1517 - accuracy: 0.9306 - val_loss: 0.2223 - val_accuracy: 0.9500 - 113ms/epoch - 9ms/step\n",
      "Epoch 105/200\n",
      "12/12 - 0s - loss: 0.1377 - accuracy: 0.9361 - val_loss: 0.2396 - val_accuracy: 0.9250 - 112ms/epoch - 9ms/step\n",
      "Epoch 106/200\n",
      "12/12 - 0s - loss: 0.1442 - accuracy: 0.9361 - val_loss: 0.2228 - val_accuracy: 0.9500 - 111ms/epoch - 9ms/step\n",
      "Epoch 107/200\n",
      "12/12 - 0s - loss: 0.1462 - accuracy: 0.9361 - val_loss: 0.2125 - val_accuracy: 0.9500 - 117ms/epoch - 10ms/step\n",
      "Epoch 108/200\n",
      "12/12 - 0s - loss: 0.1522 - accuracy: 0.9333 - val_loss: 0.2481 - val_accuracy: 0.9250 - 114ms/epoch - 10ms/step\n",
      "Epoch 109/200\n",
      "12/12 - 0s - loss: 0.1596 - accuracy: 0.9139 - val_loss: 0.2134 - val_accuracy: 0.9250 - 112ms/epoch - 9ms/step\n",
      "Epoch 110/200\n",
      "12/12 - 0s - loss: 0.1378 - accuracy: 0.9333 - val_loss: 0.2146 - val_accuracy: 0.9250 - 111ms/epoch - 9ms/step\n",
      "Epoch 111/200\n",
      "12/12 - 0s - loss: 0.1507 - accuracy: 0.9278 - val_loss: 0.2415 - val_accuracy: 0.9250 - 121ms/epoch - 10ms/step\n",
      "Epoch 112/200\n",
      "12/12 - 0s - loss: 0.1461 - accuracy: 0.9306 - val_loss: 0.2134 - val_accuracy: 0.9500 - 123ms/epoch - 10ms/step\n",
      "Epoch 113/200\n",
      "12/12 - 0s - loss: 0.1281 - accuracy: 0.9333 - val_loss: 0.2230 - val_accuracy: 0.9500 - 129ms/epoch - 11ms/step\n",
      "Epoch 114/200\n",
      "12/12 - 0s - loss: 0.1416 - accuracy: 0.9250 - val_loss: 0.2085 - val_accuracy: 0.9500 - 130ms/epoch - 11ms/step\n",
      "Epoch 115/200\n",
      "12/12 - 0s - loss: 0.1397 - accuracy: 0.9194 - val_loss: 0.2226 - val_accuracy: 0.9250 - 121ms/epoch - 10ms/step\n",
      "Epoch 116/200\n",
      "12/12 - 0s - loss: 0.1320 - accuracy: 0.9361 - val_loss: 0.2069 - val_accuracy: 0.9250 - 123ms/epoch - 10ms/step\n",
      "Epoch 117/200\n",
      "12/12 - 0s - loss: 0.1439 - accuracy: 0.9306 - val_loss: 0.2300 - val_accuracy: 0.9250 - 125ms/epoch - 10ms/step\n",
      "Epoch 118/200\n",
      "12/12 - 0s - loss: 0.1406 - accuracy: 0.9417 - val_loss: 0.2277 - val_accuracy: 0.9250 - 123ms/epoch - 10ms/step\n",
      "Epoch 119/200\n",
      "12/12 - 0s - loss: 0.1329 - accuracy: 0.9361 - val_loss: 0.2320 - val_accuracy: 0.9250 - 116ms/epoch - 10ms/step\n",
      "Epoch 120/200\n",
      "12/12 - 0s - loss: 0.1321 - accuracy: 0.9500 - val_loss: 0.2163 - val_accuracy: 0.9250 - 113ms/epoch - 9ms/step\n",
      "Epoch 121/200\n",
      "12/12 - 0s - loss: 0.1323 - accuracy: 0.9389 - val_loss: 0.2239 - val_accuracy: 0.9500 - 109ms/epoch - 9ms/step\n",
      "Epoch 122/200\n",
      "12/12 - 0s - loss: 0.1284 - accuracy: 0.9472 - val_loss: 0.2127 - val_accuracy: 0.9250 - 130ms/epoch - 11ms/step\n",
      "Epoch 123/200\n",
      "12/12 - 0s - loss: 0.1339 - accuracy: 0.9389 - val_loss: 0.2449 - val_accuracy: 0.9250 - 126ms/epoch - 11ms/step\n",
      "Epoch 124/200\n",
      "12/12 - 0s - loss: 0.1510 - accuracy: 0.9194 - val_loss: 0.2131 - val_accuracy: 0.9500 - 128ms/epoch - 11ms/step\n",
      "Epoch 125/200\n",
      "12/12 - 0s - loss: 0.1300 - accuracy: 0.9278 - val_loss: 0.2248 - val_accuracy: 0.9250 - 116ms/epoch - 10ms/step\n",
      "Epoch 126/200\n",
      "12/12 - 0s - loss: 0.1377 - accuracy: 0.9333 - val_loss: 0.2214 - val_accuracy: 0.9500 - 112ms/epoch - 9ms/step\n",
      "Epoch 127/200\n",
      "12/12 - 0s - loss: 0.1302 - accuracy: 0.9361 - val_loss: 0.2235 - val_accuracy: 0.9500 - 113ms/epoch - 9ms/step\n",
      "Epoch 128/200\n",
      "12/12 - 0s - loss: 0.1306 - accuracy: 0.9333 - val_loss: 0.2191 - val_accuracy: 0.9500 - 111ms/epoch - 9ms/step\n",
      "Epoch 129/200\n",
      "12/12 - 0s - loss: 0.1415 - accuracy: 0.9417 - val_loss: 0.2354 - val_accuracy: 0.9250 - 113ms/epoch - 9ms/step\n",
      "Epoch 130/200\n",
      "12/12 - 0s - loss: 0.1335 - accuracy: 0.9333 - val_loss: 0.2159 - val_accuracy: 0.9250 - 118ms/epoch - 10ms/step\n",
      "Epoch 131/200\n",
      "12/12 - 0s - loss: 0.1314 - accuracy: 0.9417 - val_loss: 0.2297 - val_accuracy: 0.9250 - 114ms/epoch - 9ms/step\n",
      "Epoch 132/200\n",
      "12/12 - 0s - loss: 0.1234 - accuracy: 0.9444 - val_loss: 0.2215 - val_accuracy: 0.9250 - 118ms/epoch - 10ms/step\n"
     ]
    },
    {
     "name": "stdout",
     "output_type": "stream",
     "text": [
      "Epoch 133/200\n",
      "12/12 - 0s - loss: 0.1239 - accuracy: 0.9417 - val_loss: 0.2293 - val_accuracy: 0.9500 - 132ms/epoch - 11ms/step\n",
      "Epoch 134/200\n",
      "12/12 - 0s - loss: 0.1258 - accuracy: 0.9333 - val_loss: 0.2196 - val_accuracy: 0.9250 - 123ms/epoch - 10ms/step\n",
      "Epoch 135/200\n",
      "12/12 - 0s - loss: 0.1322 - accuracy: 0.9361 - val_loss: 0.2678 - val_accuracy: 0.9250 - 114ms/epoch - 9ms/step\n",
      "Epoch 136/200\n",
      "12/12 - 0s - loss: 0.1355 - accuracy: 0.9389 - val_loss: 0.2138 - val_accuracy: 0.9500 - 116ms/epoch - 10ms/step\n",
      "Epoch 137/200\n",
      "12/12 - 0s - loss: 0.1351 - accuracy: 0.9333 - val_loss: 0.2272 - val_accuracy: 0.9500 - 115ms/epoch - 10ms/step\n",
      "Epoch 138/200\n",
      "12/12 - 0s - loss: 0.1284 - accuracy: 0.9389 - val_loss: 0.2470 - val_accuracy: 0.9250 - 109ms/epoch - 9ms/step\n",
      "Epoch 139/200\n",
      "12/12 - 0s - loss: 0.1246 - accuracy: 0.9306 - val_loss: 0.2452 - val_accuracy: 0.9250 - 112ms/epoch - 9ms/step\n",
      "Epoch 140/200\n",
      "12/12 - 0s - loss: 0.1321 - accuracy: 0.9389 - val_loss: 0.2227 - val_accuracy: 0.9500 - 117ms/epoch - 10ms/step\n",
      "Epoch 141/200\n",
      "12/12 - 0s - loss: 0.1421 - accuracy: 0.9361 - val_loss: 0.2454 - val_accuracy: 0.9250 - 117ms/epoch - 10ms/step\n",
      "Epoch 142/200\n",
      "12/12 - 0s - loss: 0.1502 - accuracy: 0.9278 - val_loss: 0.2178 - val_accuracy: 0.9500 - 120ms/epoch - 10ms/step\n",
      "Epoch 143/200\n",
      "12/12 - 0s - loss: 0.1548 - accuracy: 0.9250 - val_loss: 0.2193 - val_accuracy: 0.9500 - 130ms/epoch - 11ms/step\n",
      "Epoch 144/200\n",
      "12/12 - 0s - loss: 0.1304 - accuracy: 0.9361 - val_loss: 0.2379 - val_accuracy: 0.9250 - 128ms/epoch - 11ms/step\n",
      "Epoch 145/200\n",
      "12/12 - 0s - loss: 0.1231 - accuracy: 0.9417 - val_loss: 0.2204 - val_accuracy: 0.9500 - 115ms/epoch - 10ms/step\n",
      "Epoch 146/200\n",
      "12/12 - 0s - loss: 0.1433 - accuracy: 0.9333 - val_loss: 0.2182 - val_accuracy: 0.9250 - 115ms/epoch - 10ms/step\n",
      "Epoch 147/200\n",
      "12/12 - 0s - loss: 0.1303 - accuracy: 0.9389 - val_loss: 0.2388 - val_accuracy: 0.9250 - 113ms/epoch - 9ms/step\n",
      "Epoch 148/200\n",
      "12/12 - 0s - loss: 0.1318 - accuracy: 0.9417 - val_loss: 0.2180 - val_accuracy: 0.9500 - 112ms/epoch - 9ms/step\n",
      "Epoch 149/200\n",
      "12/12 - 0s - loss: 0.1350 - accuracy: 0.9361 - val_loss: 0.2221 - val_accuracy: 0.9500 - 112ms/epoch - 9ms/step\n",
      "Epoch 150/200\n",
      "12/12 - 0s - loss: 0.1286 - accuracy: 0.9389 - val_loss: 0.2306 - val_accuracy: 0.9500 - 116ms/epoch - 10ms/step\n",
      "Epoch 151/200\n",
      "12/12 - 0s - loss: 0.1220 - accuracy: 0.9444 - val_loss: 0.2159 - val_accuracy: 0.9500 - 132ms/epoch - 11ms/step\n",
      "Epoch 152/200\n",
      "12/12 - 0s - loss: 0.1312 - accuracy: 0.9361 - val_loss: 0.2207 - val_accuracy: 0.9500 - 122ms/epoch - 10ms/step\n",
      "Epoch 153/200\n",
      "12/12 - 0s - loss: 0.1270 - accuracy: 0.9361 - val_loss: 0.2216 - val_accuracy: 0.9500 - 125ms/epoch - 10ms/step\n",
      "Epoch 154/200\n",
      "12/12 - 0s - loss: 0.1209 - accuracy: 0.9389 - val_loss: 0.2139 - val_accuracy: 0.9500 - 128ms/epoch - 11ms/step\n",
      "Epoch 155/200\n",
      "12/12 - 0s - loss: 0.1295 - accuracy: 0.9417 - val_loss: 0.2374 - val_accuracy: 0.9250 - 125ms/epoch - 10ms/step\n",
      "Epoch 156/200\n",
      "12/12 - 0s - loss: 0.1232 - accuracy: 0.9417 - val_loss: 0.2362 - val_accuracy: 0.9500 - 129ms/epoch - 11ms/step\n",
      "Epoch 157/200\n",
      "12/12 - 0s - loss: 0.1269 - accuracy: 0.9444 - val_loss: 0.2322 - val_accuracy: 0.9500 - 114ms/epoch - 9ms/step\n",
      "Epoch 158/200\n",
      "12/12 - 0s - loss: 0.1257 - accuracy: 0.9361 - val_loss: 0.2285 - val_accuracy: 0.9250 - 115ms/epoch - 10ms/step\n",
      "Epoch 159/200\n",
      "12/12 - 0s - loss: 0.1287 - accuracy: 0.9444 - val_loss: 0.2336 - val_accuracy: 0.9500 - 116ms/epoch - 10ms/step\n",
      "Epoch 160/200\n",
      "12/12 - 0s - loss: 0.1225 - accuracy: 0.9444 - val_loss: 0.2469 - val_accuracy: 0.9250 - 115ms/epoch - 10ms/step\n",
      "Epoch 161/200\n",
      "12/12 - 0s - loss: 0.1279 - accuracy: 0.9361 - val_loss: 0.2444 - val_accuracy: 0.9500 - 112ms/epoch - 9ms/step\n",
      "Epoch 162/200\n",
      "12/12 - 0s - loss: 0.1291 - accuracy: 0.9306 - val_loss: 0.2262 - val_accuracy: 0.9250 - 112ms/epoch - 9ms/step\n",
      "Epoch 163/200\n",
      "12/12 - 0s - loss: 0.1323 - accuracy: 0.9417 - val_loss: 0.2357 - val_accuracy: 0.9500 - 111ms/epoch - 9ms/step\n",
      "Epoch 164/200\n",
      "12/12 - 0s - loss: 0.1223 - accuracy: 0.9417 - val_loss: 0.2412 - val_accuracy: 0.9500 - 115ms/epoch - 10ms/step\n",
      "Epoch 165/200\n",
      "12/12 - 0s - loss: 0.1534 - accuracy: 0.9111 - val_loss: 0.2281 - val_accuracy: 0.9500 - 114ms/epoch - 9ms/step\n",
      "Epoch 166/200\n",
      "12/12 - 0s - loss: 0.1576 - accuracy: 0.9250 - val_loss: 0.2370 - val_accuracy: 0.9500 - 113ms/epoch - 9ms/step\n",
      "Epoch 167/200\n",
      "12/12 - 0s - loss: 0.1450 - accuracy: 0.9278 - val_loss: 0.2217 - val_accuracy: 0.9500 - 113ms/epoch - 9ms/step\n",
      "Epoch 168/200\n",
      "12/12 - 0s - loss: 0.1238 - accuracy: 0.9444 - val_loss: 0.2343 - val_accuracy: 0.9500 - 114ms/epoch - 9ms/step\n",
      "Epoch 169/200\n",
      "12/12 - 0s - loss: 0.1193 - accuracy: 0.9472 - val_loss: 0.2265 - val_accuracy: 0.9500 - 112ms/epoch - 9ms/step\n",
      "Epoch 170/200\n",
      "12/12 - 0s - loss: 0.1252 - accuracy: 0.9361 - val_loss: 0.2373 - val_accuracy: 0.9500 - 115ms/epoch - 10ms/step\n",
      "Epoch 171/200\n",
      "12/12 - 0s - loss: 0.1271 - accuracy: 0.9389 - val_loss: 0.2472 - val_accuracy: 0.9500 - 112ms/epoch - 9ms/step\n",
      "Epoch 172/200\n",
      "12/12 - 0s - loss: 0.1132 - accuracy: 0.9500 - val_loss: 0.2201 - val_accuracy: 0.9500 - 114ms/epoch - 9ms/step\n",
      "Epoch 173/200\n",
      "12/12 - 0s - loss: 0.1370 - accuracy: 0.9306 - val_loss: 0.2561 - val_accuracy: 0.9250 - 133ms/epoch - 11ms/step\n",
      "Epoch 174/200\n",
      "12/12 - 0s - loss: 0.1211 - accuracy: 0.9472 - val_loss: 0.2187 - val_accuracy: 0.9500 - 128ms/epoch - 11ms/step\n",
      "Epoch 175/200\n",
      "12/12 - 0s - loss: 0.1219 - accuracy: 0.9417 - val_loss: 0.2312 - val_accuracy: 0.9500 - 123ms/epoch - 10ms/step\n",
      "Epoch 176/200\n",
      "12/12 - 0s - loss: 0.1135 - accuracy: 0.9472 - val_loss: 0.2249 - val_accuracy: 0.9500 - 113ms/epoch - 9ms/step\n",
      "Epoch 177/200\n",
      "12/12 - 0s - loss: 0.1260 - accuracy: 0.9444 - val_loss: 0.2194 - val_accuracy: 0.9500 - 111ms/epoch - 9ms/step\n",
      "Epoch 178/200\n",
      "12/12 - 0s - loss: 0.1273 - accuracy: 0.9500 - val_loss: 0.2355 - val_accuracy: 0.9500 - 111ms/epoch - 9ms/step\n",
      "Epoch 179/200\n",
      "12/12 - 0s - loss: 0.1172 - accuracy: 0.9472 - val_loss: 0.2262 - val_accuracy: 0.9500 - 111ms/epoch - 9ms/step\n",
      "Epoch 180/200\n",
      "12/12 - 0s - loss: 0.1212 - accuracy: 0.9417 - val_loss: 0.2313 - val_accuracy: 0.9500 - 113ms/epoch - 9ms/step\n",
      "Epoch 181/200\n",
      "12/12 - 0s - loss: 0.1146 - accuracy: 0.9472 - val_loss: 0.2285 - val_accuracy: 0.9500 - 112ms/epoch - 9ms/step\n",
      "Epoch 182/200\n",
      "12/12 - 0s - loss: 0.1180 - accuracy: 0.9444 - val_loss: 0.2612 - val_accuracy: 0.9250 - 114ms/epoch - 9ms/step\n",
      "Epoch 183/200\n",
      "12/12 - 0s - loss: 0.1210 - accuracy: 0.9417 - val_loss: 0.2227 - val_accuracy: 0.9500 - 123ms/epoch - 10ms/step\n",
      "Epoch 184/200\n",
      "12/12 - 0s - loss: 0.1373 - accuracy: 0.9361 - val_loss: 0.2574 - val_accuracy: 0.9250 - 110ms/epoch - 9ms/step\n",
      "Epoch 185/200\n",
      "12/12 - 0s - loss: 0.1217 - accuracy: 0.9444 - val_loss: 0.2286 - val_accuracy: 0.9500 - 116ms/epoch - 10ms/step\n",
      "Epoch 186/200\n",
      "12/12 - 0s - loss: 0.1211 - accuracy: 0.9361 - val_loss: 0.2323 - val_accuracy: 0.9500 - 112ms/epoch - 9ms/step\n",
      "Epoch 187/200\n",
      "12/12 - 0s - loss: 0.1088 - accuracy: 0.9528 - val_loss: 0.2282 - val_accuracy: 0.9500 - 119ms/epoch - 10ms/step\n",
      "Epoch 188/200\n",
      "12/12 - 0s - loss: 0.1015 - accuracy: 0.9472 - val_loss: 0.2374 - val_accuracy: 0.9500 - 114ms/epoch - 10ms/step\n",
      "Epoch 189/200\n",
      "12/12 - 0s - loss: 0.1108 - accuracy: 0.9500 - val_loss: 0.2459 - val_accuracy: 0.9500 - 119ms/epoch - 10ms/step\n",
      "Epoch 190/200\n",
      "12/12 - 0s - loss: 0.1056 - accuracy: 0.9444 - val_loss: 0.2273 - val_accuracy: 0.9500 - 129ms/epoch - 11ms/step\n",
      "Epoch 191/200\n",
      "12/12 - 0s - loss: 0.1134 - accuracy: 0.9417 - val_loss: 0.2347 - val_accuracy: 0.9250 - 127ms/epoch - 11ms/step\n",
      "Epoch 192/200\n",
      "12/12 - 0s - loss: 0.1111 - accuracy: 0.9472 - val_loss: 0.2455 - val_accuracy: 0.9500 - 129ms/epoch - 11ms/step\n",
      "Epoch 193/200\n",
      "12/12 - 0s - loss: 0.1084 - accuracy: 0.9611 - val_loss: 0.2268 - val_accuracy: 0.9250 - 131ms/epoch - 11ms/step\n",
      "Epoch 194/200\n",
      "12/12 - 0s - loss: 0.1267 - accuracy: 0.9444 - val_loss: 0.2573 - val_accuracy: 0.9250 - 127ms/epoch - 11ms/step\n",
      "Epoch 195/200\n",
      "12/12 - 0s - loss: 0.1119 - accuracy: 0.9472 - val_loss: 0.2362 - val_accuracy: 0.9500 - 123ms/epoch - 10ms/step\n",
      "Epoch 196/200\n",
      "12/12 - 0s - loss: 0.1375 - accuracy: 0.9389 - val_loss: 0.2202 - val_accuracy: 0.9500 - 121ms/epoch - 10ms/step\n",
      "Epoch 197/200\n",
      "12/12 - 0s - loss: 0.1345 - accuracy: 0.9333 - val_loss: 0.2769 - val_accuracy: 0.9250 - 131ms/epoch - 11ms/step\n"
     ]
    },
    {
     "name": "stdout",
     "output_type": "stream",
     "text": [
      "Epoch 198/200\n",
      "12/12 - 0s - loss: 0.1477 - accuracy: 0.9333 - val_loss: 0.2177 - val_accuracy: 0.9500 - 128ms/epoch - 11ms/step\n",
      "Epoch 199/200\n",
      "12/12 - 0s - loss: 0.1162 - accuracy: 0.9528 - val_loss: 0.2480 - val_accuracy: 0.9250 - 133ms/epoch - 11ms/step\n",
      "Epoch 200/200\n",
      "12/12 - 0s - loss: 0.1086 - accuracy: 0.9528 - val_loss: 0.2387 - val_accuracy: 0.9500 - 124ms/epoch - 10ms/step\n"
     ]
    }
   ],
   "source": [
    "history_3 = model_3.fit(X_train_normalized, \n",
    "                        \n",
    "                    y_train,\n",
    "\n",
    "                    validation_split = 0.1,\n",
    "\n",
    "                    epochs = 200,\n",
    "\n",
    "                    verbose = 2)"
   ]
  },
  {
   "cell_type": "code",
   "execution_count": 36,
   "metadata": {
    "ExecuteTime": {
     "end_time": "2023-05-15T21:58:03.231589Z",
     "start_time": "2023-05-15T21:58:03.111811Z"
    },
    "colab": {
     "base_uri": "https://localhost:8080/",
     "height": 295
    },
    "id": "zBvMtn6VzFDJ",
    "outputId": "0338d559-c872-49a9-ddfb-be2e643237aa"
   },
   "outputs": [
    {
     "data": {
      "image/png": "[encoded data removed]",
      "text/plain": [
       "<Figure size 640x480 with 1 Axes>"
      ]
     },
     "metadata": {},
     "output_type": "display_data"
    }
   ],
   "source": [
    "plt.plot(history_3.history['accuracy'])\n",
    "\n",
    "plt.plot(history_3.history['val_accuracy'])\n",
    "\n",
    "plt.title('Accuracy vs Epochs')\n",
    "\n",
    "plt.ylabel('Accuracy')\n",
    "\n",
    "plt.xlabel('Epoch')\n",
    "\n",
    "plt.legend(['Train', 'Validation'], loc  = 'lower right')\n",
    "\n",
    "plt.show()"
   ]
  },
  {
   "cell_type": "markdown",
   "metadata": {
    "id": "-xfRck7yrbX5"
   },
   "source": [
    "- This model is giving a generalized performance with 95% accuracy on the train as well as validation data.\n",
    "- One reason for the algorithm not being able to reach higher than 95% even for training data might be due to the optimizer being stuck at some local minima.\n",
    "- One way to resolve that is to further tune the model with some other hyper-parameters.\n",
    "- Among all three models, model 3 has given the best performance. Let's check its performance on the test data."
   ]
  },
  {
   "cell_type": "markdown",
   "metadata": {
    "id": "iSpvgJ_ZPP0f"
   },
   "source": [
    "## **Model evaluation on the test data**"
   ]
  },
  {
   "cell_type": "code",
   "execution_count": 37,
   "metadata": {
    "ExecuteTime": {
     "end_time": "2023-05-15T21:58:49.079815Z",
     "start_time": "2023-05-15T21:58:48.850367Z"
    },
    "colab": {
     "base_uri": "https://localhost:8080/"
    },
    "id": "VNs-4a67SXNT",
    "outputId": "823df247-c01e-45fe-9f62-fb864b06d9e1"
   },
   "outputs": [
    {
     "name": "stdout",
     "output_type": "stream",
     "text": [
      "4/4 [==============================] - 0s 26ms/step - loss: 0.1092 - accuracy: 0.9500\n",
      "4/4 [==============================] - 0s 8ms/step\n"
     ]
    },
    {
     "name": "stderr",
     "output_type": "stream",
     "text": [
      "2023-05-15 23:58:49.023521: I tensorflow/core/grappler/optimizers/custom_graph_optimizer_registry.cc:113] Plugin optimizer for device_type GPU is enabled.\n"
     ]
    }
   ],
   "source": [
    "model_3.evaluate(X_test_normalized, y_test, verbose = 1)\n",
    "\n",
    "test_pred = np.round(model_3.predict(X_test_normalized))"
   ]
  },
  {
   "cell_type": "markdown",
   "metadata": {
    "id": "RldGhjVdxHCx"
   },
   "source": [
    "The test accuracy is also coming out to be 95% which implies that our model is able to replicate the performance from the train and validation data on the test (unseen) data."
   ]
  },
  {
   "cell_type": "code",
   "execution_count": 38,
   "metadata": {
    "ExecuteTime": {
     "end_time": "2023-05-15T21:59:00.109011Z",
     "start_time": "2023-05-15T21:58:59.997538Z"
    },
    "colab": {
     "base_uri": "https://localhost:8080/",
     "height": 490
    },
    "id": "y5fWdjHHPTZh",
    "outputId": "7a6f937e-ed2f-488a-cdcc-7bf231d37a54"
   },
   "outputs": [
    {
     "name": "stdout",
     "output_type": "stream",
     "text": [
      "              precision    recall  f1-score   support\n",
      "\n",
      "           0       0.97      0.96      0.97        73\n",
      "           1       0.89      0.93      0.91        27\n",
      "\n",
      "    accuracy                           0.95       100\n",
      "   macro avg       0.93      0.94      0.94       100\n",
      "weighted avg       0.95      0.95      0.95       100\n",
      "\n"
     ]
    },
    {
     "data": {
      "image/png": "[encoded data removed]",
      "text/plain": [
       "<Figure size 800x500 with 2 Axes>"
      ]
     },
     "metadata": {},
     "output_type": "display_data"
    }
   ],
   "source": [
    "from sklearn.metrics import classification_report\n",
    "\n",
    "from sklearn.metrics import confusion_matrix\n",
    "\n",
    "print(classification_report(y_test, test_pred))\n",
    "\n",
    "cm = confusion_matrix(y_test, test_pred)\n",
    "\n",
    "plt.figure(figsize = (8, 5))\n",
    "\n",
    "sns.heatmap(cm, annot = True,  fmt = '.0f', xticklabels = ['Admitted', 'Not Admitted'], yticklabels = ['Admitted', 'Not Admitted'])\n",
    "\n",
    "plt.ylabel('Actual')\n",
    "\n",
    "plt.xlabel('Predicted')\n",
    "\n",
    "plt.show()"
   ]
  },
  {
   "cell_type": "markdown",
   "metadata": {
    "id": "uk_tuE7LxGC3"
   },
   "source": [
    "- The confusion matrix shows that the model can identify the majority of students who would get admission and who won't get admission to UCLA.\n",
    "- The classification report shows that all the metrics except recall for class 1 are above 90%, which is good."
   ]
  },
  {
   "cell_type": "markdown",
   "metadata": {
    "id": "1bVzop-DYYmv"
   },
   "source": [
    "## **Conclusion**\n",
    "\n",
    "In this case study, \n",
    "- We have learned how to build a feed-forward neural network for a classification task using Keras. \n",
    "- We have seen different hyper-parameters and how they affect the network. \n",
    "- We have also learned about the accuracy vs epoch curve and how it helps to understand the model is learning the weights. \n",
    "- We were able to get the test accuracy of 95% using the final model."
   ]
  },
  {
   "cell_type": "code",
   "execution_count": null,
   "metadata": {},
   "outputs": [],
   "source": []
  }
 ],
 "metadata": {
  "accelerator": "GPU",
  "colab": {
   "collapsed_sections": [
    "fhotGVGD4hgT",
    "ZZP_r2sD7B0P",
    "X7VT_t5f9bwR",
    "4N6XAn6mA_BD",
    "EFMmpLAuBC4n",
    "iSpvgJ_ZPP0f",
    "1bVzop-DYYmv"
   ],
   "name": "Notebook - University Admission Prediction.ipynb",
   "provenance": []
  },
  "kernelspec": {
   "display_name": "Python 3 (ipykernel)",
   "language": "python",
   "name": "python3"
  },
  "language_info": {
   "codemirror_mode": {
    "name": "ipython",
    "version": 3
   },
   "file_extension": ".py",
   "mimetype": "text/x-python",
   "name": "python",
   "nbconvert_exporter": "python",
   "pygments_lexer": "ipython3",
   "version": "3.10.9"
  },
  "varInspector": {
   "cols": {
    "lenName": 16,
    "lenType": 16,
    "lenVar": 40
   },
   "kernels_config": {
    "python": {
     "delete_cmd_postfix": "",
     "delete_cmd_prefix": "del ",
     "library": "var_list.py",
     "varRefreshCmd": "print(var_dic_list())"
    },
    "r": {
     "delete_cmd_postfix": ") ",
     "delete_cmd_prefix": "rm(",
     "library": "var_list.r",
     "varRefreshCmd": "cat(var_dic_list()) "
    }
   },
   "types_to_exclude": [
    "module",
    "function",
    "builtin_function_or_method",
    "instance",
    "_Feature"
   ],
   "window_display": false
  }
 },
 "nbformat": 4,
 "nbformat_minor": 1
}
