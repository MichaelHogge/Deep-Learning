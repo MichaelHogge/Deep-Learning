{
 "cells": [
  {
   "cell_type": "markdown",
   "id": "7-oJOCkGqXEU",
   "metadata": {
    "id": "7-oJOCkGqXEU"
   },
   "source": [
    "------------------------------------------------------------------------------------------\n",
    "# **Movie Recommendation using Graph Neural Networks**\n",
    "-------------------------------------------------------------------------------------\n",
    "\n",
    "## **Context**\n",
    "Online streaming platforms like Netflix have plenty of movies in their repositories and if we can build a recommendation system to recommend relevant movies to users based on their historical interactions, this would improve customer satisfaction and hence improve revenue. The techniques that we will learn here will not only be limited to movies, they can be implemented through a Graph Neural Networks for other problems as well.\n",
    "\n",
    "## **Objective**\n",
    "\n",
    "In this case study, we will be building a graph neural network (GNN) to suggest similar movies based on what movies a user has watched.\n",
    "\n",
    "## **Dataset**\n",
    "\n",
    "The 'ratings' dataset contains the following attributes:\n",
    "- userId\n",
    "- movieId\n",
    "- rating\n",
    "- timestamp\n",
    "\n",
    "We will also use the 'movies' dataset to get the title of the movies. It contains the following attributes:\n",
    "\n",
    "- movieId\n",
    "- title\n",
    "- genres"
   ]
  },
  {
   "cell_type": "markdown",
   "id": "d705b8ad",
   "metadata": {
    "id": "d705b8ad"
   },
   "source": [
    "## **Importing the necessary libraries**"
   ]
  },
  {
   "cell_type": "code",
   "execution_count": 1,
   "id": "ylb2uH7bnxxY",
   "metadata": {
    "ExecuteTime": {
     "end_time": "2023-05-16T10:21:10.440862Z",
     "start_time": "2023-05-16T10:21:08.620491Z"
    },
    "id": "ylb2uH7bnxxY"
   },
   "outputs": [],
   "source": [
    "import os\n",
    "\n",
    "from collections import defaultdict\n",
    "\n",
    "import math\n",
    "\n",
    "import networkx as nx\n",
    "\n",
    "import random\n",
    "\n",
    "from tqdm import tqdm\n",
    "\n",
    "from zipfile import ZipFile\n",
    "\n",
    "from urllib.request import urlretrieve\n",
    "\n",
    "import numpy as np\n",
    "\n",
    "import pandas as pd\n",
    "\n",
    "import tensorflow as tf\n",
    "\n",
    "from tensorflow import keras\n",
    "\n",
    "from tensorflow.keras import layers\n",
    "\n",
    "import matplotlib.pyplot as plt\n",
    "\n",
    "# Needed to silence tensorflow messages while running locally\n",
    "from silence_tensorflow import silence_tensorflow\n",
    "silence_tensorflow()"
   ]
  },
  {
   "cell_type": "markdown",
   "id": "tisM4v-Eu0rb",
   "metadata": {
    "id": "tisM4v-Eu0rb"
   },
   "source": [
    "## **Retrieving the Datasets from the URL**"
   ]
  },
  {
   "cell_type": "code",
   "execution_count": 2,
   "id": "hkKAfivDnxxc",
   "metadata": {
    "ExecuteTime": {
     "end_time": "2023-05-16T10:21:12.726341Z",
     "start_time": "2023-05-16T10:21:11.811765Z"
    },
    "id": "hkKAfivDnxxc"
   },
   "outputs": [],
   "source": [
    "urlretrieve(\n",
    "    \"http://files.grouplens.org/datasets/movielens/ml-latest-small.zip\", \"movielens.zip\"\n",
    ")\n",
    "\n",
    "ZipFile(\"movielens.zip\", \"r\").extractall()"
   ]
  },
  {
   "cell_type": "markdown",
   "id": "saWMXgf24Din",
   "metadata": {
    "id": "saWMXgf24Din"
   },
   "source": [
    "## **Converting the datasets into more readable format**"
   ]
  },
  {
   "cell_type": "code",
   "execution_count": 3,
   "id": "aLgAmRbfnxxc",
   "metadata": {
    "ExecuteTime": {
     "end_time": "2023-05-16T10:21:13.482364Z",
     "start_time": "2023-05-16T10:21:13.403772Z"
    },
    "colab": {
     "base_uri": "https://localhost:8080/"
    },
    "id": "aLgAmRbfnxxc",
    "outputId": "1dec328c-dc69-4c31-99ed-10d2fe09f9be"
   },
   "outputs": [
    {
     "name": "stdout",
     "output_type": "stream",
     "text": [
      "Movies data shape: (9742, 3)\n",
      "Ratings data shape: (100836, 4)\n"
     ]
    }
   ],
   "source": [
    "# Load movies to a DataFrame\n",
    "\n",
    "movies = pd.read_csv(\"ml-latest-small/movies.csv\")\n",
    "\n",
    "# Create a `movieId` string\n",
    "\n",
    "movies[\"movieId\"] = movies[\"movieId\"].apply(lambda x: f\"movie_{x}\")\n",
    "\n",
    "# Load ratings to a DataFrame\n",
    "\n",
    "ratings = pd.read_csv(\"ml-latest-small/ratings.csv\") \n",
    "\n",
    "# Convert the `ratings` to floating point\n",
    "\n",
    "ratings[\"rating\"] = ratings[\"rating\"].apply(lambda x: float(x))\n",
    "\n",
    "# Create the `movie_id` string\n",
    "\n",
    "ratings[\"movieId\"] = ratings[\"movieId\"].apply(lambda x: f\"movie_{x}\")\n",
    "\n",
    "print(\"Movies data shape:\", movies.shape)\n",
    "\n",
    "print(\"Ratings data shape:\", ratings.shape)"
   ]
  },
  {
   "cell_type": "code",
   "execution_count": 4,
   "id": "p-IE1N3Znxxd",
   "metadata": {
    "ExecuteTime": {
     "end_time": "2023-05-16T10:21:14.209067Z",
     "start_time": "2023-05-16T10:21:14.203747Z"
    },
    "id": "p-IE1N3Znxxd"
   },
   "outputs": [],
   "source": [
    "# This function gives us the name of the movie from the movieId\n",
    "def get_movie_title_by_id(movieId):\n",
    "\n",
    "    return list(movies[movies.movieId == movieId].title)[0]  \n",
    "\n",
    "# This function gives us the id of the movie from the name of the movie\n",
    "def get_movie_id_by_title(title):\n",
    "\n",
    "    return list(movies[movies.title == title].movieId)[0]"
   ]
  },
  {
   "cell_type": "code",
   "execution_count": 5,
   "id": "4Lvaa3oRnxxe",
   "metadata": {
    "ExecuteTime": {
     "end_time": "2023-05-16T10:21:14.932427Z",
     "start_time": "2023-05-16T10:21:14.914538Z"
    },
    "colab": {
     "base_uri": "https://localhost:8080/",
     "height": 206
    },
    "id": "4Lvaa3oRnxxe",
    "outputId": "9d01c1cc-f7eb-4770-b4e7-94701e980288"
   },
   "outputs": [
    {
     "data": {
      "text/html": [
       "<div><div id=51a2ddd3-f066-4857-bb0b-b58ccb8d4b70 style=\"display:none; background-color:#9D6CFF; color:white; width:200px; height:30px; padding-left:5px; border-radius:4px; flex-direction:row; justify-content:space-around; align-items:center;\" onmouseover=\"this.style.backgroundColor='#BA9BF8'\" onmouseout=\"this.style.backgroundColor='#9D6CFF'\" onclick=\"window.commands?.execute('create-mitosheet-from-dataframe-output');\">See Full Dataframe in Mito</div> <script> if (window.commands?.hasCommand('create-mitosheet-from-dataframe-output')) document.getElementById('51a2ddd3-f066-4857-bb0b-b58ccb8d4b70').style.display = 'flex' </script> <table border=\"1\" class=\"dataframe\">\n",
       "  <thead>\n",
       "    <tr style=\"text-align: right;\">\n",
       "      <th></th>\n",
       "      <th>userId</th>\n",
       "      <th>movieId</th>\n",
       "      <th>rating</th>\n",
       "      <th>timestamp</th>\n",
       "    </tr>\n",
       "  </thead>\n",
       "  <tbody>\n",
       "    <tr>\n",
       "      <th>0</th>\n",
       "      <td>1</td>\n",
       "      <td>movie_1</td>\n",
       "      <td>4.0</td>\n",
       "      <td>964982703</td>\n",
       "    </tr>\n",
       "    <tr>\n",
       "      <th>1</th>\n",
       "      <td>1</td>\n",
       "      <td>movie_3</td>\n",
       "      <td>4.0</td>\n",
       "      <td>964981247</td>\n",
       "    </tr>\n",
       "    <tr>\n",
       "      <th>2</th>\n",
       "      <td>1</td>\n",
       "      <td>movie_6</td>\n",
       "      <td>4.0</td>\n",
       "      <td>964982224</td>\n",
       "    </tr>\n",
       "    <tr>\n",
       "      <th>3</th>\n",
       "      <td>1</td>\n",
       "      <td>movie_47</td>\n",
       "      <td>5.0</td>\n",
       "      <td>964983815</td>\n",
       "    </tr>\n",
       "    <tr>\n",
       "      <th>4</th>\n",
       "      <td>1</td>\n",
       "      <td>movie_50</td>\n",
       "      <td>5.0</td>\n",
       "      <td>964982931</td>\n",
       "    </tr>\n",
       "  </tbody>\n",
       "</table></div>"
      ],
      "text/plain": [
       "   userId   movieId  rating  timestamp\n",
       "0       1   movie_1     4.0  964982703\n",
       "1       1   movie_3     4.0  964981247\n",
       "2       1   movie_6     4.0  964982224\n",
       "3       1  movie_47     5.0  964983815\n",
       "4       1  movie_50     5.0  964982931"
      ]
     },
     "execution_count": 5,
     "metadata": {},
     "output_type": "execute_result"
    }
   ],
   "source": [
    "# Let's look at the datasets\n",
    "ratings.head()  "
   ]
  },
  {
   "cell_type": "code",
   "execution_count": 6,
   "id": "V_1s_Htrnxxe",
   "metadata": {
    "ExecuteTime": {
     "end_time": "2023-05-16T10:21:15.625008Z",
     "start_time": "2023-05-16T10:21:15.609798Z"
    },
    "colab": {
     "base_uri": "https://localhost:8080/",
     "height": 206
    },
    "id": "V_1s_Htrnxxe",
    "outputId": "37021bb1-5cf4-4e63-c5b2-bd7ba313ee39"
   },
   "outputs": [
    {
     "data": {
      "text/html": [
       "<div><div id=0de8f1cb-7c66-4668-acea-189ac4eadb06 style=\"display:none; background-color:#9D6CFF; color:white; width:200px; height:30px; padding-left:5px; border-radius:4px; flex-direction:row; justify-content:space-around; align-items:center;\" onmouseover=\"this.style.backgroundColor='#BA9BF8'\" onmouseout=\"this.style.backgroundColor='#9D6CFF'\" onclick=\"window.commands?.execute('create-mitosheet-from-dataframe-output');\">See Full Dataframe in Mito</div> <script> if (window.commands?.hasCommand('create-mitosheet-from-dataframe-output')) document.getElementById('0de8f1cb-7c66-4668-acea-189ac4eadb06').style.display = 'flex' </script> <table border=\"1\" class=\"dataframe\">\n",
       "  <thead>\n",
       "    <tr style=\"text-align: right;\">\n",
       "      <th></th>\n",
       "      <th>movieId</th>\n",
       "      <th>title</th>\n",
       "      <th>genres</th>\n",
       "    </tr>\n",
       "  </thead>\n",
       "  <tbody>\n",
       "    <tr>\n",
       "      <th>0</th>\n",
       "      <td>movie_1</td>\n",
       "      <td>Toy Story (1995)</td>\n",
       "      <td>Adventure|Animation|Children|Comedy|Fantasy</td>\n",
       "    </tr>\n",
       "    <tr>\n",
       "      <th>1</th>\n",
       "      <td>movie_2</td>\n",
       "      <td>Jumanji (1995)</td>\n",
       "      <td>Adventure|Children|Fantasy</td>\n",
       "    </tr>\n",
       "    <tr>\n",
       "      <th>2</th>\n",
       "      <td>movie_3</td>\n",
       "      <td>Grumpier Old Men (1995)</td>\n",
       "      <td>Comedy|Romance</td>\n",
       "    </tr>\n",
       "    <tr>\n",
       "      <th>3</th>\n",
       "      <td>movie_4</td>\n",
       "      <td>Waiting to Exhale (1995)</td>\n",
       "      <td>Comedy|Drama|Romance</td>\n",
       "    </tr>\n",
       "    <tr>\n",
       "      <th>4</th>\n",
       "      <td>movie_5</td>\n",
       "      <td>Father of the Bride Part II (1995)</td>\n",
       "      <td>Comedy</td>\n",
       "    </tr>\n",
       "  </tbody>\n",
       "</table></div>"
      ],
      "text/plain": [
       "   movieId                               title  \\\n",
       "0  movie_1                    Toy Story (1995)   \n",
       "1  movie_2                      Jumanji (1995)   \n",
       "2  movie_3             Grumpier Old Men (1995)   \n",
       "3  movie_4            Waiting to Exhale (1995)   \n",
       "4  movie_5  Father of the Bride Part II (1995)   \n",
       "\n",
       "                                        genres  \n",
       "0  Adventure|Animation|Children|Comedy|Fantasy  \n",
       "1                   Adventure|Children|Fantasy  \n",
       "2                               Comedy|Romance  \n",
       "3                         Comedy|Drama|Romance  \n",
       "4                                       Comedy  "
      ]
     },
     "execution_count": 6,
     "metadata": {},
     "output_type": "execute_result"
    }
   ],
   "source": [
    "movies.head()"
   ]
  },
  {
   "cell_type": "markdown",
   "id": "2BA5luOH9lR9",
   "metadata": {
    "id": "2BA5luOH9lR9"
   },
   "source": [
    "## **Calculating Pairwise and Item Frequency**\n",
    "\n",
    "Let's calculate item_frequency for each movie and pair_frequency for every possible pair of movies. We need these frequencies to build our Graph. The purpose of these frequencies is written below."
   ]
  },
  {
   "cell_type": "code",
   "execution_count": 7,
   "id": "MUfIqnXBnxxf",
   "metadata": {
    "ExecuteTime": {
     "end_time": "2023-05-16T10:21:16.788307Z",
     "start_time": "2023-05-16T10:21:16.439724Z"
    },
    "colab": {
     "base_uri": "https://localhost:8080/"
    },
    "id": "MUfIqnXBnxxf",
    "outputId": "0e2eccb5-b70a-46d0-ef64-dace797f4205"
   },
   "outputs": [
    {
     "name": "stderr",
     "output_type": "stream",
     "text": [
      "Compute movie rating frequencies: 100%|█████| 573/573 [00:00<00:00, 2379.91it/s]\n"
     ]
    }
   ],
   "source": [
    "min_rating = 5\n",
    "\n",
    "item_frequency = defaultdict(int)  # Dictionary to indicate how many times each movie has been watched\n",
    "\n",
    "pair_frequency = defaultdict(int)  # Dictionary to indicate how many times a particular pair of movies have been watched\n",
    "\n",
    "# Filter instances where the rating is greater than or equal to min_rating\n",
    "\n",
    "rated_movies = ratings[ratings.rating >= min_rating]\n",
    "\n",
    "# Group instances by the user. Here, each group contains movies watched by a particular user\n",
    "\n",
    "movies_grouped_by_users = list(rated_movies.groupby(\"userId\"))\n",
    "\n",
    "for group in tqdm(\n",
    "    \n",
    "    movies_grouped_by_users,\n",
    "    \n",
    "    position = 0,\n",
    "\n",
    "    leave = True,\n",
    "\n",
    "    desc = \"Compute movie rating frequencies\",\n",
    "\n",
    "):  # Iterating over all the groups\n",
    "\n",
    "    # Get a list of movies rated by the user\n",
    "\n",
    "    current_movies = list(group[1][\"movieId\"])\n",
    "\n",
    "    for i in range(len(current_movies)):\n",
    "\n",
    "        item_frequency[current_movies[i]] += 1  # Increasing count of item frequency for a particular movie on encountering it in a group\n",
    "        \n",
    "        for j in range(i + 1, len(current_movies)):\n",
    "            \n",
    "            x = min(current_movies[i], current_movies[j])\n",
    "            \n",
    "            y = max(current_movies[i], current_movies[j])\n",
    "            \n",
    "            pair_frequency[(x, y)] += 1  # Increasing count of pair frequency for a particular pair of movies on coming across it"
   ]
  },
  {
   "cell_type": "markdown",
   "id": "e_avGuIK-Hsj",
   "metadata": {
    "id": "e_avGuIK-Hsj"
   },
   "source": [
    "In the cell above, we are creating two dictionaries:\n",
    "- The first dictionary, i.e., 'item_frequency' is the item frequency where we calculate the number of times each movie has been watched, assuming every user has watched any particular movie exactly once. \n",
    "- The second dictionary, i.e., 'pair_frequency' is the pair-wise frequency, where we see how many users have watched both of these movies. \n",
    "- A greater value indicates higher probability of one of these movies being suggested when any new user has watched the other movie in the pair, i.e, if the pair-wise frequency of movie A and movie B is high, and a new user happens to watch movie A, they are likely to be suggested movie B."
   ]
  },
  {
   "cell_type": "markdown",
   "id": "HC9_7xvmNl2O",
   "metadata": {
    "id": "HC9_7xvmNl2O"
   },
   "source": [
    "## **Creating the Graph**\n",
    "\n",
    "We are trying to model what movies are frequently watched together based on all of the user data. To think of this more intuitively, the higher the weight of an edge between two movies A and B, the higher is the probability of movie B being suggested after you have watched movie A and vice versa."
   ]
  },
  {
   "cell_type": "code",
   "execution_count": 8,
   "id": "vPbIdGRTnxxg",
   "metadata": {
    "ExecuteTime": {
     "end_time": "2023-05-16T10:21:20.143540Z",
     "start_time": "2023-05-16T10:21:19.867237Z"
    },
    "colab": {
     "base_uri": "https://localhost:8080/"
    },
    "id": "vPbIdGRTnxxg",
    "outputId": "e6459041-f486-4964-e8fd-65179c9df2b9"
   },
   "outputs": [
    {
     "name": "stderr",
     "output_type": "stream",
     "text": [
      "Creating the movie graph: 100%|████| 298586/298586 [00:00<00:00, 1147097.09it/s]\n"
     ]
    }
   ],
   "source": [
    "min_weight = 10\n",
    "\n",
    "D = math.log(sum(item_frequency.values()))\n",
    "\n",
    "# Create the undirected graph with the movies as nodes\n",
    "\n",
    "movies_graph = nx.Graph()\n",
    "\n",
    "# Add weighted edges between movies\n",
    "\n",
    "# This automatically adds the movie nodes to the graph\n",
    "\n",
    "for pair in tqdm(\n",
    "\n",
    "    pair_frequency, position = 0, leave = True, desc = \"Creating the movie graph\"\n",
    "\n",
    "):  # Iterating over every pair of movies\n",
    "    x, y = pair  # Unpacking the tuple called 'pair' to receive the two movies\n",
    "\n",
    "    \n",
    "    xy_frequency = pair_frequency[pair]  # Pair-wise frequency of two particular movies\n",
    "    \n",
    "    x_frequency = item_frequency[x]  # Item frequency for the first movie in the pair\n",
    "    \n",
    "    y_frequency = item_frequency[y]  # Item frequency for the second movie in the pair\n",
    "\n",
    "    # Calculating PMI index as a measure of the pairing strength\n",
    "\n",
    "    pmi = math.log(xy_frequency) - math.log(x_frequency) - math.log(y_frequency) + D\n",
    "\n",
    "    weight = pmi * xy_frequency\n",
    "\n",
    "    # Only include edges with weight >= min_weight\n",
    "\n",
    "    if weight >= min_weight:\n",
    "\n",
    "        movies_graph.add_edge(x, y, weight = weight)  # Adding the edge to those particular nodes"
   ]
  },
  {
   "cell_type": "markdown",
   "id": "pvNZ2cC9PEqj",
   "metadata": {
    "id": "pvNZ2cC9PEqj"
   },
   "source": [
    "To calculate the pairing strength between two movies, we are using the PMI index. We could use some other measures and that is completely the programmer's choice.\n",
    "\n",
    "So in our graph, our nodes are our movies and our edges are drawn based on the product of the PMI index and pair frequency for the two movies we are calculating the edge weight for. If this value exceeds our minimum weight (which is a hyperparameter defined by us, in this case, equal to 10) we draw an edge with the calculated weight."
   ]
  },
  {
   "cell_type": "code",
   "execution_count": 9,
   "id": "-RVP-s_Snxxh",
   "metadata": {
    "ExecuteTime": {
     "end_time": "2023-05-16T10:21:21.949532Z",
     "start_time": "2023-05-16T10:21:21.937872Z"
    },
    "colab": {
     "base_uri": "https://localhost:8080/"
    },
    "id": "-RVP-s_Snxxh",
    "outputId": "abcd88e5-02bf-4060-878e-e4650dd132dd"
   },
   "outputs": [
    {
     "name": "stdout",
     "output_type": "stream",
     "text": [
      "Total number of graph nodes: 1405\n",
      "Total number of graph edges: 40043\n"
     ]
    }
   ],
   "source": [
    "print(\"Total number of graph nodes:\", movies_graph.number_of_nodes())\n",
    "\n",
    "print(\"Total number of graph edges:\", movies_graph.number_of_edges())"
   ]
  },
  {
   "cell_type": "markdown",
   "id": "yrKGem28RoFU",
   "metadata": {
    "id": "yrKGem28RoFU"
   },
   "source": [
    "## **Calculating Average Degree**\n",
    "\n",
    "The average degree often gives us an idea about the inter-connectivity of the nodes. Let's see how we can interpret the result."
   ]
  },
  {
   "cell_type": "code",
   "execution_count": 10,
   "id": "ma6Bl0Iknxxi",
   "metadata": {
    "ExecuteTime": {
     "end_time": "2023-05-16T10:21:23.939346Z",
     "start_time": "2023-05-16T10:21:23.928770Z"
    },
    "colab": {
     "base_uri": "https://localhost:8080/"
    },
    "id": "ma6Bl0Iknxxi",
    "outputId": "5450096b-3dcc-4910-d416-938f8f6ed4ee"
   },
   "outputs": [
    {
     "name": "stdout",
     "output_type": "stream",
     "text": [
      "Average node degree: 57.0\n"
     ]
    }
   ],
   "source": [
    "degrees = []\n",
    "\n",
    "for node in movies_graph.nodes:\n",
    "    \n",
    "    degrees.append(movies_graph.degree[node])\n",
    "\n",
    "print(\"Average node degree:\", round(sum(degrees) / len(degrees), 2))"
   ]
  },
  {
   "cell_type": "markdown",
   "id": "PCQdLE03R3SJ",
   "metadata": {
    "id": "PCQdLE03R3SJ"
   },
   "source": [
    "This average degree comes out to be 57 when we are taking the minimum weight to be 10. This gives us an idea that on average every node is connected to 57 other nodes. To look at it intuitively, this gives us the assurance that every movie would have suggestions for what to watch next."
   ]
  },
  {
   "cell_type": "markdown",
   "id": "02S6YWctST4l",
   "metadata": {
    "id": "02S6YWctST4l"
   },
   "source": [
    "## **Creating Vocabulary lookup for Embedding**"
   ]
  },
  {
   "cell_type": "code",
   "execution_count": 11,
   "id": "WZGhWh7ynxxi",
   "metadata": {
    "ExecuteTime": {
     "end_time": "2023-05-16T10:21:25.640233Z",
     "start_time": "2023-05-16T10:21:25.631977Z"
    },
    "id": "WZGhWh7ynxxi"
   },
   "outputs": [],
   "source": [
    "vocabulary = [\"NA\"] + list(movies_graph.nodes)\n",
    "\n",
    "vocabulary_lookup = {token: idx for idx, token in enumerate(vocabulary)}"
   ]
  },
  {
   "cell_type": "markdown",
   "id": "8Gbbu5cfTF08",
   "metadata": {
    "id": "8Gbbu5cfTF08"
   },
   "source": [
    "## **Traversing through our Graph: To pick the next node among all neighbors**\n",
    "\n",
    "The function 'next_step()' does the simple operation of traveling to the next node given you’re currently on a node, i.e., when you have watched a movie, what are the next movies you could consider."
   ]
  },
  {
   "cell_type": "code",
   "execution_count": 12,
   "id": "w4yi8qxYnxxj",
   "metadata": {
    "ExecuteTime": {
     "end_time": "2023-05-16T10:21:26.485238Z",
     "start_time": "2023-05-16T10:21:26.472843Z"
    },
    "id": "w4yi8qxYnxxj"
   },
   "outputs": [],
   "source": [
    "def next_step(graph, previous, current, p, q):\n",
    "\n",
    "    neighbors = list(graph.neighbors(current))\n",
    "\n",
    "    weights = []\n",
    "\n",
    "    # Adjust the weights of the edges to the neighbors with the help of p and q so that we can control or give a preference to which category of nodes we would want to visit next\n",
    "\n",
    "    for neighbor in neighbors: # Looping through all the neighbors\n",
    "\n",
    "        if neighbor == previous:\n",
    "\n",
    "            # Control the probability to return to the previous node\n",
    "\n",
    "            weights.append(graph[current][neighbor][\"weight\"] / p)\n",
    "\n",
    "        elif graph.has_edge(neighbor, previous):\n",
    "\n",
    "            # The probability of visiting a local node\n",
    "\n",
    "            weights.append(graph[current][neighbor][\"weight\"])\n",
    "\n",
    "        else:\n",
    "\n",
    "            # Control the probability to move forward\n",
    "\n",
    "            weights.append(graph[current][neighbor][\"weight\"] / q)\n",
    "\n",
    "    # Compute the probabilities of visiting each neighbor\n",
    "\n",
    "    weight_sum = sum(weights)\n",
    "\n",
    "    probabilities = [weight / weight_sum for weight in weights]\n",
    "\n",
    "    # Probabilistically select a neighbor to visit\n",
    "\n",
    "    next = np.random.choice(neighbors, size = 1, p = probabilities)[0]\n",
    "    \n",
    "    return next"
   ]
  },
  {
   "cell_type": "markdown",
   "id": "l8Q_A0TcToCU",
   "metadata": {
    "id": "l8Q_A0TcToCU"
   },
   "source": [
    "Since each node in the graph is likely to have more than one neighbor (judging from the average degree, which was 57), we have to take a probabilistic approach. In other words, since we have more than one option for the next step, we assign probabilities to each edge arising from our current node/movie, and then we make our random choice based on those probabilities. \n",
    "\n",
    "Now here we have two hyperparameters, p and q, through which we can modify the probabilities a little. The value of q should lie between 1 and p. This is because the probability of visiting a node that has an edge with the current node as well as an edge with a previous node should be the greatest. The probability of a node that has an edge with the current node but not with the previous node should be lesser than the previous case. The probability of re-visiting this node should be the least. Therefore 1>q>p should be kept in mind while playing with these hyperparameters."
   ]
  },
  {
   "cell_type": "markdown",
   "id": "LlPZ8EKHVcOD",
   "metadata": {
    "id": "LlPZ8EKHVcOD"
   },
   "source": [
    "## **Creating Walks across our Graph**\n",
    "\n",
    "We want to generate sequences of movies that are connected with each other through edges inside the graph. These sequences can be later used to generate training data for training our Neural Network."
   ]
  },
  {
   "cell_type": "code",
   "execution_count": 13,
   "id": "B2P6wPfPnxxj",
   "metadata": {
    "ExecuteTime": {
     "end_time": "2023-05-16T10:21:27.934666Z",
     "start_time": "2023-05-16T10:21:27.919972Z"
    },
    "id": "B2P6wPfPnxxj"
   },
   "outputs": [],
   "source": [
    "def random_walk(graph, num_walks, num_steps, p, q):\n",
    "\n",
    "    walks = []\n",
    "\n",
    "    nodes = list(graph.nodes())\n",
    "\n",
    "    # Perform multiple iterations of the random walk\n",
    "\n",
    "    for walk_iteration in range(num_walks):\n",
    "\n",
    "        random.shuffle(nodes)\n",
    "\n",
    "        for node in tqdm(\n",
    "            \n",
    "            nodes,\n",
    "\n",
    "            position = 0,\n",
    "\n",
    "            leave = True,\n",
    "\n",
    "            desc = f\"Random walks iteration {walk_iteration + 1} of {num_walks}\",\n",
    "        ):\n",
    "            # Start the walk with a random node from the graph\n",
    "\n",
    "            walk = [node]\n",
    "\n",
    "            # Randomly walk for num_steps by calling the next_step function we created above\n",
    "            \n",
    "            while len(walk) < num_steps:\n",
    "                \n",
    "                current = walk[-1]  # Current node is the last element of the array 'walk'\n",
    "                \n",
    "                previous = walk[-2] if len(walk) > 1 else None  # If the length of our array 'walk' is more than one, then the previous node is the second last element of the array 'walk'\n",
    "                \n",
    "                next = next_step(graph, previous, current, p, q)  # Compute the next node to visit\n",
    "                \n",
    "                walk.append(next)  # Append the next node obtained to the array 'walk'\n",
    "\n",
    "            # Replace node ids (movieId) in the walk with token ids by looking at the vocabulary lookup\n",
    "\n",
    "            walk = [vocabulary_lookup[token] for token in walk]\n",
    "\n",
    "            # Add the walk to the generated sequence\n",
    "            \n",
    "            walks.append(walk)\n",
    "\n",
    "    return walks"
   ]
  },
  {
   "cell_type": "markdown",
   "id": "goIiNVIWWKV2",
   "metadata": {
    "id": "goIiNVIWWKV2"
   },
   "source": [
    "This function has been created to create random walks with each walk having the number of movies defined by the num_steps argument. After we get each walk, we append them to an array, which we will use for generating our data for training the neural network through the generate_examples( ) function."
   ]
  },
  {
   "cell_type": "markdown",
   "id": "hjFFxv7kgl_v",
   "metadata": {
    "id": "hjFFxv7kgl_v"
   },
   "source": [
    "## **Setting Hyperparameters for traversing through the Graph**"
   ]
  },
  {
   "cell_type": "code",
   "execution_count": 14,
   "id": "s6lZWTIgnxxk",
   "metadata": {
    "ExecuteTime": {
     "end_time": "2023-05-16T10:21:43.702241Z",
     "start_time": "2023-05-16T10:21:34.677563Z"
    },
    "colab": {
     "base_uri": "https://localhost:8080/"
    },
    "id": "s6lZWTIgnxxk",
    "outputId": "c11e907a-5d72-425c-ae55-a3ec436e7b7a"
   },
   "outputs": [
    {
     "name": "stderr",
     "output_type": "stream",
     "text": [
      "Random walks iteration 1 of 5: 100%|███████| 1405/1405 [00:01<00:00, 753.43it/s]\n",
      "Random walks iteration 2 of 5: 100%|███████| 1405/1405 [00:01<00:00, 755.26it/s]\n",
      "Random walks iteration 3 of 5: 100%|███████| 1405/1405 [00:01<00:00, 793.10it/s]\n",
      "Random walks iteration 4 of 5: 100%|███████| 1405/1405 [00:01<00:00, 799.56it/s]\n",
      "Random walks iteration 5 of 5: 100%|███████| 1405/1405 [00:01<00:00, 801.88it/s]"
     ]
    },
    {
     "name": "stdout",
     "output_type": "stream",
     "text": [
      "Number of walks generated: 7025\n"
     ]
    },
    {
     "name": "stderr",
     "output_type": "stream",
     "text": [
      "\n"
     ]
    }
   ],
   "source": [
    "# Random walk return parameter\n",
    "\n",
    "p = 2\n",
    "\n",
    "# Random walk in-out parameter\n",
    "\n",
    "q = 1.5\n",
    "\n",
    "# Number of iterations of random walks\n",
    "\n",
    "num_walks = 5\n",
    "\n",
    "# Number of steps of each random walk\n",
    "\n",
    "num_steps = 10\n",
    "\n",
    "walks = random_walk(movies_graph, num_walks, num_steps, p, q)\n",
    "\n",
    "print(\"Number of walks generated:\", len(walks))"
   ]
  },
  {
   "cell_type": "markdown",
   "id": "TUKqSUSsZ9rZ",
   "metadata": {
    "id": "TUKqSUSsZ9rZ"
   },
   "source": [
    "We have set the value of p to 2, and q should lie between 1 and p. So we have chosen its value as 1.5. We can try out various combinations for these hyperparameters and check their result."
   ]
  },
  {
   "cell_type": "markdown",
   "id": "ZMqNznkRhKEO",
   "metadata": {
    "id": "ZMqNznkRhKEO"
   },
   "source": [
    "## **Generating Pairs of Movies that should have closer Embeddings**\n",
    "\n",
    "In the generate_examples( ) function, we use the skipgram function, which creates positive and negative samples. To get an intuition about positive and negative samples, please refer to the walkthrough document."
   ]
  },
  {
   "cell_type": "code",
   "execution_count": 15,
   "id": "eFj8wV86nxxk",
   "metadata": {
    "ExecuteTime": {
     "end_time": "2023-05-16T10:21:53.355733Z",
     "start_time": "2023-05-16T10:21:46.750743Z"
    },
    "colab": {
     "base_uri": "https://localhost:8080/"
    },
    "id": "eFj8wV86nxxk",
    "outputId": "7f180e03-66e9-4a3b-f699-eb1b24ef9aae"
   },
   "outputs": [
    {
     "name": "stderr",
     "output_type": "stream",
     "text": [
      "Generating postive and negative examples: 100%|█| 7025/7025 [00:06<00:00, 1144.6\n"
     ]
    }
   ],
   "source": [
    "def generate_examples(sequences, window_size, num_negative_samples, vocabulary_size):\n",
    "\n",
    "    example_weights = defaultdict(int)\n",
    "    \n",
    "    # Iterate over all sequences (walks)\n",
    "\n",
    "    for sequence in tqdm(\n",
    "        \n",
    "        sequences,\n",
    "\n",
    "        position = 0,\n",
    "\n",
    "        leave = True,\n",
    "\n",
    "        desc = f\"Generating postive and negative examples\",\n",
    "    ):\n",
    "        \n",
    "        # Generate positive and negative skipgram pairs for a sequence or walk\n",
    "        \n",
    "        pairs, labels = keras.preprocessing.sequence.skipgrams(\n",
    "            \n",
    "            sequence,\n",
    "\n",
    "            vocabulary_size = vocabulary_size,\n",
    "\n",
    "            window_size = window_size,\n",
    "\n",
    "            negative_samples = num_negative_samples,\n",
    "\n",
    "        )\n",
    "        for idx in range(len(pairs)):  # Iterating through all pairs received from the skipgram function\n",
    "\n",
    "            pair = pairs[idx]  # Extracting the pair of movies\n",
    "\n",
    "            label = labels[idx]  # Extracting the labels\n",
    "\n",
    "            target, context = min(pair[0], pair[1]), max(pair[0], pair[1])\n",
    "\n",
    "            if target == context:\n",
    "             \n",
    "                continue\n",
    "\n",
    "            if(label == 1):  # If a positive sample is generated we label them 1, otherwise we label them 0  \n",
    "                \n",
    "                previous_negative_label = 0\n",
    "\n",
    "                previous_negative_entry = (target, context, previous_negative_label)\n",
    "\n",
    "                example_weights[previous_negative_entry] = 0  # Making the previous entry of the negative sample equal to zero because we have a positive sample now\n",
    "                \n",
    "                entry = (target, context, label)\n",
    "                \n",
    "                example_weights[entry] += 1\n",
    "            \n",
    "            if(label == 0):  # If a negative sample is generated\n",
    "                \n",
    "                querylabel = 1\n",
    "                \n",
    "                queryentry = (target, context, querylabel)  # We check if a positive sample with the same pair of movies exist   \n",
    "                \n",
    "                if ( example_weights[queryentry]>0):\n",
    "                \n",
    "                    continue  # We skip adding this entry to our entry if already a positive sample exists\n",
    "             \n",
    "                else:\n",
    "             \n",
    "                    entry = (target, context, label)\n",
    "             \n",
    "                    example_weights[entry] +=1  # If a positive sample doesn't exist, we add the negative example\n",
    "\n",
    "    targets, contexts, labels, weights = [], [], [], []\n",
    "\n",
    "    for entry in example_weights:\n",
    "    \n",
    "        weight = example_weights[entry]\n",
    "    \n",
    "        if(weight > 0):\n",
    "\n",
    "            target, context, label = entry  # Tuple unpacking of the 'entry' tuple\n",
    "            \n",
    "            targets.append(target)\n",
    "            \n",
    "            contexts.append(context)\n",
    "            \n",
    "            labels.append(label)\n",
    "            \n",
    "            weights.append(weight)\n",
    "\n",
    "    return np.array(targets), np.array(contexts), np.array(labels), np.array(weights)\n",
    "\n",
    "\n",
    "num_negative_samples = 4\n",
    "\n",
    "targets, contexts, labels, weights = generate_examples(\n",
    "\n",
    "    sequences = walks,\n",
    "\n",
    "    window_size = num_steps,\n",
    "    \n",
    "    num_negative_samples = num_negative_samples,\n",
    "\n",
    "    vocabulary_size = len(vocabulary),\n",
    "    \n",
    ")"
   ]
  },
  {
   "cell_type": "markdown",
   "id": "RdL_p-wWiHQJ",
   "metadata": {
    "id": "RdL_p-wWiHQJ"
   },
   "source": [
    "The above function generate_examples() calls skipgram function of keras.preprocessing. The skipgram function takes a corpus and generates pairs of words. If both words in the pair are a part of the corpus, we label them 1. Otherwise, we label them 0. Here our corpus is the array of random walks. So skipgram generates pairs of movies. If both of those movies have been present in a particular random walk, they are labeled as 1, otherwise 0."
   ]
  },
  {
   "cell_type": "code",
   "execution_count": 16,
   "id": "4P1KFFKUnxxk",
   "metadata": {
    "ExecuteTime": {
     "end_time": "2023-05-16T10:21:56.159680Z",
     "start_time": "2023-05-16T10:21:56.151054Z"
    },
    "colab": {
     "base_uri": "https://localhost:8080/"
    },
    "id": "4P1KFFKUnxxk",
    "outputId": "34d457e6-c81c-4d53-cd21-8ebd32cf0151"
   },
   "outputs": [
    {
     "name": "stdout",
     "output_type": "stream",
     "text": [
      "Targets shape: (729387,)\n",
      "Contexts shape: (729387,)\n",
      "Labels shape: (729387,)\n",
      "Weights shape: (729387,)\n"
     ]
    }
   ],
   "source": [
    "print(f\"Targets shape: {targets.shape}\")\n",
    "\n",
    "print(f\"Contexts shape: {contexts.shape}\")\n",
    "\n",
    "print(f\"Labels shape: {labels.shape}\")\n",
    "\n",
    "print(f\"Weights shape: {weights.shape}\")"
   ]
  },
  {
   "cell_type": "markdown",
   "id": "Doi8os-5jRv2",
   "metadata": {
    "id": "Doi8os-5jRv2"
   },
   "source": [
    "## **Generating Data in a Classification format for our Neural Network Training**\n",
    "\n",
    "Our data needs to be in a particular format so that it fits our Neural network architecture inputs. Let's do that through these pre-processing activities."
   ]
  },
  {
   "cell_type": "code",
   "execution_count": 17,
   "id": "RL_0uL3Xnxxl",
   "metadata": {
    "ExecuteTime": {
     "end_time": "2023-05-16T10:21:58.145614Z",
     "start_time": "2023-05-16T10:21:58.096018Z"
    },
    "id": "RL_0uL3Xnxxl"
   },
   "outputs": [
    {
     "name": "stdout",
     "output_type": "stream",
     "text": [
      "Metal device set to: Apple M1 Pro\n"
     ]
    }
   ],
   "source": [
    "batch_size = 1024\n",
    "\n",
    "def create_dataset(targets, contexts, labels, weights, batch_size):\n",
    "\n",
    "    inputs = {\n",
    "\n",
    "        \"target\": targets,\n",
    "\n",
    "        \"context\": contexts,\n",
    "\n",
    "    }  # Pre-processing the targets, contexts, and labels vectors to fit our Neural Network pipeline \n",
    "    \n",
    "    dataset = tf.data.Dataset.from_tensor_slices((inputs, labels, weights))\n",
    "    \n",
    "    dataset = dataset.shuffle(buffer_size = batch_size * 2)  # Shuffling the data set to remove any chance of sequential data\n",
    "    \n",
    "    dataset = dataset.batch(batch_size, drop_remainder = True)\n",
    "\n",
    "    dataset = dataset.prefetch(tf.data.AUTOTUNE)\n",
    " \n",
    "    return dataset\n",
    "\n",
    "\n",
    "dataset = create_dataset(\n",
    "\n",
    "    targets = targets,\n",
    "\n",
    "    contexts = contexts,\n",
    "\n",
    "    labels = labels,\n",
    "    \n",
    "    weights = weights,\n",
    "    \n",
    "    batch_size = batch_size,\n",
    ")\n"
   ]
  },
  {
   "cell_type": "markdown",
   "id": "4aIuLCiGj1Pl",
   "metadata": {
    "id": "4aIuLCiGj1Pl"
   },
   "source": [
    "The output of the generate_example gives us target, context, and label vectors. So from these three vectors, we create our own dataset for a classification task, where target and context movies would be our independent variables. And the label would be our dependent variable. And we build a Neural Network in a way so that it takes a look at the target movie and the context movie and it can predict the label value."
   ]
  },
  {
   "cell_type": "markdown",
   "id": "rCmlKoAZlUUt",
   "metadata": {
    "id": "rCmlKoAZlUUt"
   },
   "source": [
    "## **Hyperparameters for Neural Network Training**"
   ]
  },
  {
   "cell_type": "code",
   "execution_count": 18,
   "id": "I-y6Q0eanxxl",
   "metadata": {
    "ExecuteTime": {
     "end_time": "2023-05-16T10:22:01.743327Z",
     "start_time": "2023-05-16T10:22:01.736256Z"
    },
    "id": "I-y6Q0eanxxl"
   },
   "outputs": [],
   "source": [
    "learning_rate = 0.001\n",
    "\n",
    "embedding_dim = 50\n",
    "\n",
    "num_epochs = 10"
   ]
  },
  {
   "cell_type": "markdown",
   "id": "ne7kaaV0ljBF",
   "metadata": {
    "id": "ne7kaaV0ljBF"
   },
   "source": [
    "## **Creating our Model**\n",
    "\n",
    "Let's build a Neural Network Architecture which would take the target and context movie as input and try to predict the output label."
   ]
  },
  {
   "cell_type": "code",
   "execution_count": 19,
   "id": "EDu3hhYQnxxm",
   "metadata": {
    "ExecuteTime": {
     "end_time": "2023-05-16T10:22:03.024380Z",
     "start_time": "2023-05-16T10:22:03.009789Z"
    },
    "id": "EDu3hhYQnxxm"
   },
   "outputs": [],
   "source": [
    "def create_model(vocabulary_size, embedding_dim):\n",
    "\n",
    "    inputs = {\n",
    "\n",
    "        \"target\": layers.Input(name = \"target\", shape = (), dtype = \"int32\"),\n",
    "\n",
    "        \"context\": layers.Input(name = \"context\", shape = (), dtype = \"int32\"),\n",
    "\n",
    "    }\n",
    "    # Initialize item embeddings\n",
    "    \n",
    "    embed_item = layers.Embedding(\n",
    "    \n",
    "        input_dim = vocabulary_size,\n",
    "        \n",
    "        output_dim = embedding_dim,\n",
    "        \n",
    "        embeddings_initializer = \"he_normal\",\n",
    "        \n",
    "        embeddings_regularizer = keras.regularizers.l2(1e-6),\n",
    "        \n",
    "        name=\"item_embeddings\",\n",
    "    )\n",
    "    \n",
    "    # Lookup embeddings for the target\n",
    "\n",
    "    target_embeddings = embed_item(inputs[\"target\"])\n",
    "    \n",
    "    # Lookup embeddings for the context\n",
    "    \n",
    "    context_embeddings = embed_item(inputs[\"context\"])\n",
    "    \n",
    "    # Compute dot similarity between target and context embeddings\n",
    "    \n",
    "    logits = layers.Dot(axes = 1, normalize = False, name = \"dot_similarity\")(\n",
    "        \n",
    "        [target_embeddings, context_embeddings]\n",
    "    )\n",
    "\n",
    "    # Create the model\n",
    "    \n",
    "    model = keras.Model(inputs = inputs, outputs = logits)\n",
    "    \n",
    "    return model"
   ]
  },
  {
   "cell_type": "markdown",
   "id": "KBQUhTuulnd0",
   "metadata": {
    "id": "KBQUhTuulnd0"
   },
   "source": [
    "This model is fairly simple. There is an Embedding layer that converts the target and context to target embeddings and context embeddings, respectively. Then we take the dot product of these two embeddings to get an output on the scale of 0 to 1. This way it tries to train with the training data."
   ]
  },
  {
   "cell_type": "code",
   "execution_count": 20,
   "id": "DSQhpEftnxxm",
   "metadata": {
    "ExecuteTime": {
     "end_time": "2023-05-16T10:22:06.627631Z",
     "start_time": "2023-05-16T10:22:06.519327Z"
    },
    "id": "DSQhpEftnxxm"
   },
   "outputs": [],
   "source": [
    "model = create_model(len(vocabulary), embedding_dim)\n",
    "\n",
    "model.compile(\n",
    "    optimizer = keras.optimizers.Adam(learning_rate),\n",
    "\n",
    "    loss = keras.losses.BinaryCrossentropy(from_logits = True),\n",
    "\n",
    ")  # Setting up the model's optimizers"
   ]
  },
  {
   "cell_type": "markdown",
   "id": "de5WCKuKms9l",
   "metadata": {
    "id": "de5WCKuKms9l"
   },
   "source": [
    "## **Visualizing the Model**\n",
    "\n",
    "Keras comes with an in-built visualization tool. Let's use that and visualize our architecture."
   ]
  },
  {
   "cell_type": "code",
   "execution_count": 21,
   "id": "ZH0AR3Onnxxn",
   "metadata": {
    "ExecuteTime": {
     "end_time": "2023-05-16T10:22:17.729099Z",
     "start_time": "2023-05-16T10:22:17.718320Z"
    },
    "colab": {
     "base_uri": "https://localhost:8080/",
     "height": 404
    },
    "id": "ZH0AR3Onnxxn",
    "outputId": "d203c1b5-1e37-4326-c07f-a214ac6492bd"
   },
   "outputs": [
    {
     "name": "stdout",
     "output_type": "stream",
     "text": [
      "You must install pydot (`pip install pydot`) and install graphviz (see instructions at https://graphviz.gitlab.io/download/) for plot_model/model_to_dot to work.\n"
     ]
    }
   ],
   "source": [
    "keras.utils.plot_model(\n",
    "\n",
    "    model, show_shapes = True, show_dtype = True, show_layer_names = True,\n",
    ")\n"
   ]
  },
  {
   "cell_type": "markdown",
   "id": "Uiiqut75m3H7",
   "metadata": {
    "id": "Uiiqut75m3H7"
   },
   "source": [
    "## **Training Phase**"
   ]
  },
  {
   "cell_type": "code",
   "execution_count": 22,
   "id": "h3h6bwxOnxxn",
   "metadata": {
    "ExecuteTime": {
     "end_time": "2023-05-16T10:23:09.734788Z",
     "start_time": "2023-05-16T10:22:31.327458Z"
    },
    "colab": {
     "base_uri": "https://localhost:8080/"
    },
    "id": "h3h6bwxOnxxn",
    "outputId": "a6f05ee4-8234-4e33-e0b0-edb721e1f65f"
   },
   "outputs": [
    {
     "name": "stdout",
     "output_type": "stream",
     "text": [
      "Epoch 1/10\n",
      "712/712 [==============================] - 4s 5ms/step - loss: 2.1016\n",
      "Epoch 2/10\n",
      "712/712 [==============================] - 4s 5ms/step - loss: 1.7524\n",
      "Epoch 3/10\n",
      "712/712 [==============================] - 4s 5ms/step - loss: 1.6875\n",
      "Epoch 4/10\n",
      "712/712 [==============================] - 4s 5ms/step - loss: 1.6597\n",
      "Epoch 5/10\n",
      "712/712 [==============================] - 4s 5ms/step - loss: 1.6414\n",
      "Epoch 6/10\n",
      "712/712 [==============================] - 4s 5ms/step - loss: 1.6278\n",
      "Epoch 7/10\n",
      "712/712 [==============================] - 4s 5ms/step - loss: 1.6158\n",
      "Epoch 8/10\n",
      "712/712 [==============================] - 4s 5ms/step - loss: 1.6033\n",
      "Epoch 9/10\n",
      "712/712 [==============================] - 4s 5ms/step - loss: 1.5889\n",
      "Epoch 10/10\n",
      "712/712 [==============================] - 4s 5ms/step - loss: 1.5726\n"
     ]
    }
   ],
   "source": [
    "history = model.fit(dataset, epochs = num_epochs)"
   ]
  },
  {
   "cell_type": "code",
   "execution_count": 23,
   "id": "eumd6Bv7nxxn",
   "metadata": {
    "ExecuteTime": {
     "end_time": "2023-05-16T10:23:12.557900Z",
     "start_time": "2023-05-16T10:23:12.439195Z"
    },
    "colab": {
     "base_uri": "https://localhost:8080/",
     "height": 279
    },
    "id": "eumd6Bv7nxxn",
    "outputId": "a97a782a-3595-48b6-d808-21128e9938a5"
   },
   "outputs": [
    {
     "data": {
      "image/png": "[encoded data removed]",
      "text/plain": [
       "<Figure size 640x480 with 1 Axes>"
      ]
     },
     "metadata": {},
     "output_type": "display_data"
    }
   ],
   "source": [
    "plt.plot(history.history[\"loss\"])\n",
    "\n",
    "plt.ylabel(\"loss\")\n",
    "\n",
    "plt.xlabel(\"epoch\")\n",
    "\n",
    "plt.show()"
   ]
  },
  {
   "cell_type": "markdown",
   "id": "paec_0SOnEst",
   "metadata": {
    "id": "paec_0SOnEst"
   },
   "source": [
    "## **Extracting the Embedding Vector**"
   ]
  },
  {
   "cell_type": "code",
   "execution_count": 24,
   "id": "l1UUp_PZnxxo",
   "metadata": {
    "ExecuteTime": {
     "end_time": "2023-05-16T10:23:16.162764Z",
     "start_time": "2023-05-16T10:23:16.149489Z"
    },
    "colab": {
     "base_uri": "https://localhost:8080/"
    },
    "id": "l1UUp_PZnxxo",
    "outputId": "fe4d4d02-a45d-44ec-cc5a-263ce366b022"
   },
   "outputs": [
    {
     "name": "stdout",
     "output_type": "stream",
     "text": [
      "Embeddings shape: (1406, 50)\n"
     ]
    }
   ],
   "source": [
    "movie_embeddings = model.get_layer(\"item_embeddings\").get_weights()[0]  # Extracting the layer weight by layer name\n",
    "\n",
    "print(\"Embeddings shape:\", movie_embeddings.shape)"
   ]
  },
  {
   "cell_type": "markdown",
   "id": "L9xCSG7cnQYr",
   "metadata": {
    "id": "L9xCSG7cnQYr"
   },
   "source": [
    "We had created a self-supervised task and now we take out the embedding vectors so that we can directly check for similarity among any two movies after they are converted to their particular movie_id by the get_movie_id_by_title()."
   ]
  },
  {
   "cell_type": "code",
   "execution_count": 25,
   "id": "cRyUwj07nxxo",
   "metadata": {
    "ExecuteTime": {
     "end_time": "2023-05-16T10:23:18.450045Z",
     "start_time": "2023-05-16T10:23:18.442146Z"
    },
    "id": "cRyUwj07nxxo"
   },
   "outputs": [],
   "source": [
    "query_movies = [\n",
    "\n",
    "    \"Matrix, The (1999)\",\n",
    "\n",
    "    \"Star Wars: Episode IV - A New Hope (1977)\",\n",
    "\n",
    "    \"Lion King, The (1994)\",\n",
    "\n",
    "    \"Terminator 2: Judgment Day (1991)\",\n",
    "\n",
    "    \"Godfather, The (1972)\",\n",
    "]"
   ]
  },
  {
   "cell_type": "markdown",
   "id": "HuxMzgzupQy0",
   "metadata": {
    "id": "HuxMzgzupQy0"
   },
   "source": [
    "## **Converting Query movies to Query Embeddings**"
   ]
  },
  {
   "cell_type": "code",
   "execution_count": 26,
   "id": "QtlGH6X7nxxo",
   "metadata": {
    "ExecuteTime": {
     "end_time": "2023-05-16T10:23:20.113049Z",
     "start_time": "2023-05-16T10:23:20.093545Z"
    },
    "id": "QtlGH6X7nxxo"
   },
   "outputs": [],
   "source": [
    "query_embeddings = []\n",
    "\n",
    "for movie_title in query_movies:\n",
    "\n",
    "    movieId = get_movie_id_by_title(movie_title)  # Getting id from the title of the movie\n",
    "    \n",
    "    token_id = vocabulary_lookup[movieId]  # Getting index to lookup for embedding task\n",
    "    \n",
    "    movie_embedding = movie_embeddings[token_id]  # Getting embedding for query movies\n",
    "    \n",
    "    query_embeddings.append(movie_embedding)\n",
    "\n",
    "query_embeddings = np.array(query_embeddings)"
   ]
  },
  {
   "cell_type": "markdown",
   "id": "9xDw1fIFpdAU",
   "metadata": {
    "id": "9xDw1fIFpdAU"
   },
   "source": [
    "## **Finding the top 5 similar Embeddings**"
   ]
  },
  {
   "cell_type": "code",
   "execution_count": 27,
   "id": "hmELYQSanxxo",
   "metadata": {
    "ExecuteTime": {
     "end_time": "2023-05-16T10:23:21.589058Z",
     "start_time": "2023-05-16T10:23:21.356068Z"
    },
    "id": "hmELYQSanxxo"
   },
   "outputs": [],
   "source": [
    "similarities = tf.linalg.matmul(\n",
    "\n",
    "    tf.math.l2_normalize(query_embeddings),  # Normalizing the results of multiplication to get output of dot product on a scale of 0 to 1\n",
    "    \n",
    "    tf.math.l2_normalize(movie_embeddings),\n",
    "    \n",
    "    transpose_b = True,\n",
    ")\n",
    "\n",
    "_, indices = tf.math.top_k(similarities, k = 5)\n",
    "\n",
    "indices = indices.numpy().tolist()"
   ]
  },
  {
   "cell_type": "markdown",
   "id": "tW25JTskpo_l",
   "metadata": {
    "id": "tW25JTskpo_l"
   },
   "source": [
    "## **Converting those top 5 Embeddings to Movie titles**"
   ]
  },
  {
   "cell_type": "code",
   "execution_count": 28,
   "id": "9nt8qE6jnxxp",
   "metadata": {
    "ExecuteTime": {
     "end_time": "2023-05-16T10:23:23.547839Z",
     "start_time": "2023-05-16T10:23:23.515047Z"
    },
    "colab": {
     "base_uri": "https://localhost:8080/"
    },
    "id": "9nt8qE6jnxxp",
    "outputId": "c4defea4-8b8a-4cb8-9aa2-d7c8e6b20f16"
   },
   "outputs": [
    {
     "name": "stdout",
     "output_type": "stream",
     "text": [
      "Matrix, The (1999)\n",
      "------------------\n",
      "- Matrix, The (1999)\n",
      "- Dark Knight, The (2008)\n",
      "- Fight Club (1999)\n",
      "- Lord of the Rings: The Return of the King, The (2003)\n",
      "- Lord of the Rings: The Fellowship of the Ring, The (2001)\n",
      "\n",
      "Star Wars: Episode IV - A New Hope (1977)\n",
      "-----------------------------------------\n",
      "- Star Wars: Episode IV - A New Hope (1977)\n",
      "- Star Wars: Episode V - The Empire Strikes Back (1980)\n",
      "- Star Wars: Episode VI - Return of the Jedi (1983)\n",
      "- Reservoir Dogs (1992)\n",
      "- Monty Python and the Holy Grail (1975)\n",
      "\n",
      "Lion King, The (1994)\n",
      "---------------------\n",
      "- Lion King, The (1994)\n",
      "- Braveheart (1995)\n",
      "- Forrest Gump (1994)\n",
      "- Beauty and the Beast (1991)\n",
      "- Die Hard: With a Vengeance (1995)\n",
      "\n",
      "Terminator 2: Judgment Day (1991)\n",
      "---------------------------------\n",
      "- Terminator 2: Judgment Day (1991)\n",
      "- Lord of the Rings: The Fellowship of the Ring, The (2001)\n",
      "- Braveheart (1995)\n",
      "- Aliens (1986)\n",
      "- Raiders of the Lost Ark (Indiana Jones and the Raiders of the Lost Ark) (1981)\n",
      "\n",
      "Godfather, The (1972)\n",
      "---------------------\n",
      "- Godfather, The (1972)\n",
      "- Rear Window (1954)\n",
      "- Casablanca (1942)\n",
      "- Citizen Kane (1941)\n",
      "- Apocalypse Now (1979)\n",
      "\n"
     ]
    }
   ],
   "source": [
    "for idx, title in enumerate(query_movies):\n",
    "\n",
    "    print(title)\n",
    "\n",
    "    print(\"\".rjust(len(title), \"-\"))\n",
    "\n",
    "    similar_tokens = indices[idx]\n",
    "\n",
    "    for token in similar_tokens:\n",
    "\n",
    "        similar_movieId = vocabulary[token]\n",
    "\n",
    "        similar_title = get_movie_title_by_id(similar_movieId)\n",
    "\n",
    "        print(f\"- {similar_title}\")\n",
    "\n",
    "    print()"
   ]
  },
  {
   "cell_type": "markdown",
   "id": "lqO4Os5t5P5U",
   "metadata": {
    "id": "lqO4Os5t5P5U"
   },
   "source": [
    "## **Conclusion**\n",
    "\n",
    "- We have converted our user data which had ratings for movies to a self-supervised task of training an embedding vector, which is ultimately helping us in suggesting top 'k' similar movies for a particular.\n",
    "- We have used techniques of random walks and skipgram models to generate examples of pairs of similar nodes that help in node embedding.\n",
    "- We have used a graph neural network to solve a recommendation problem."
   ]
  },
  {
   "cell_type": "code",
   "execution_count": null,
   "id": "ae820fe8",
   "metadata": {},
   "outputs": [],
   "source": []
  }
 ],
 "metadata": {
  "colab": {
   "collapsed_sections": [],
   "name": "Notebook_Movie_Recommendation_using_Graph_Neural_Networks.ipynb",
   "provenance": []
  },
  "kernelspec": {
   "display_name": "Python 3 (ipykernel)",
   "language": "python",
   "name": "python3"
  },
  "language_info": {
   "codemirror_mode": {
    "name": "ipython",
    "version": 3
   },
   "file_extension": ".py",
   "mimetype": "text/x-python",
   "name": "python",
   "nbconvert_exporter": "python",
   "pygments_lexer": "ipython3",
   "version": "3.10.9"
  },
  "varInspector": {
   "cols": {
    "lenName": 16,
    "lenType": 16,
    "lenVar": 40
   },
   "kernels_config": {
    "python": {
     "delete_cmd_postfix": "",
     "delete_cmd_prefix": "del ",
     "library": "var_list.py",
     "varRefreshCmd": "print(var_dic_list())"
    },
    "r": {
     "delete_cmd_postfix": ") ",
     "delete_cmd_prefix": "rm(",
     "library": "var_list.r",
     "varRefreshCmd": "cat(var_dic_list()) "
    }
   },
   "types_to_exclude": [
    "module",
    "function",
    "builtin_function_or_method",
    "instance",
    "_Feature"
   ],
   "window_display": false
  }
 },
 "nbformat": 4,
 "nbformat_minor": 5
}
